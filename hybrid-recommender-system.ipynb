{
 "cells": [
  {
   "cell_type": "markdown",
   "id": "427e37ae",
   "metadata": {
    "papermill": {
     "duration": 0.015709,
     "end_time": "2024-09-24T20:36:55.738054",
     "exception": false,
     "start_time": "2024-09-24T20:36:55.722345",
     "status": "completed"
    },
    "tags": []
   },
   "source": [
    "<div style=\"text-align: center; font-size: 40px; font-weight: bold; color: orange;\">\n",
    "     Hybrid Recommender System\n",
    "</div>"
   ]
  },
  {
   "cell_type": "markdown",
   "id": "083752e1",
   "metadata": {
    "papermill": {
     "duration": 0.015415,
     "end_time": "2024-09-24T20:36:55.769820",
     "exception": false,
     "start_time": "2024-09-24T20:36:55.754405",
     "status": "completed"
    },
    "tags": []
   },
   "source": [
    "Make 10 movie recommendations for the given user ID using the item-based and user-based recommender methods.\n",
    "\n",
    "\n",
    "The dataset is provided by MovieLens, a movie recommendation service. It contains movies along with their ratings. It contains 2,000,0263 ratings for 27,278 movies. This dataset was created on October 17, 2016. It contains 138,493 users and data between January 09, 1995 and March 31, 2015. Users were randomly selected. It is known that all selected users rated at least 20 movies.\n",
    "\n",
    "\n",
    "**movie.csv**\n",
    "\n",
    "| **Column** | **Description**      |\n",
    "|------------|----------------------|\n",
    "| movieId    | Unique movie ID.  |\n",
    "| title      | Movie title.          |\n",
    "| genres     | Genre.                |\n",
    "\n",
    "\n",
    "**rating.csv**\n",
    "\n",
    "| **Column**  | **Description**                              |\n",
    "|-------------|----------------------------------------------|\n",
    "| userId      | Unique user ID (UniqueID).               |\n",
    "| movieId     | Unique movie ID (UniqueID).              |\n",
    "| rating      | The rating given to the movie by the user.   |\n",
    "| timestamp   | The date of the rating.                      |\n"
   ]
  },
  {
   "cell_type": "markdown",
   "id": "c0cb0135",
   "metadata": {
    "papermill": {
     "duration": 0.015289,
     "end_time": "2024-09-24T20:36:55.799378",
     "exception": false,
     "start_time": "2024-09-24T20:36:55.784089",
     "status": "completed"
    },
    "tags": []
   },
   "source": [
    "<div style=\"text-align: center; font-size: 24px; font-weight: bold; color: green;\">\n",
    "    User Based Recommendation\n",
    "</div>"
   ]
  },
  {
   "cell_type": "code",
   "execution_count": 1,
   "id": "8df68b52",
   "metadata": {
    "execution": {
     "iopub.execute_input": "2024-09-24T20:36:55.830222Z",
     "iopub.status.busy": "2024-09-24T20:36:55.829679Z",
     "iopub.status.idle": "2024-09-24T20:36:55.837224Z",
     "shell.execute_reply": "2024-09-24T20:36:55.835349Z"
    },
    "papermill": {
     "duration": 0.026442,
     "end_time": "2024-09-24T20:36:55.840185",
     "exception": false,
     "start_time": "2024-09-24T20:36:55.813743",
     "status": "completed"
    },
    "tags": []
   },
   "outputs": [],
   "source": [
    "# import pandas as pd\n",
    "# print(pd.__version__)"
   ]
  },
  {
   "cell_type": "markdown",
   "id": "70c2ac44",
   "metadata": {
    "papermill": {
     "duration": 0.014216,
     "end_time": "2024-09-24T20:36:55.869988",
     "exception": false,
     "start_time": "2024-09-24T20:36:55.855772",
     "status": "completed"
    },
    "tags": []
   },
   "source": [
    "Installing the specific pandas version and importing it. "
   ]
  },
  {
   "cell_type": "code",
   "execution_count": 2,
   "id": "dc893648",
   "metadata": {
    "execution": {
     "iopub.execute_input": "2024-09-24T20:36:55.900401Z",
     "iopub.status.busy": "2024-09-24T20:36:55.900006Z",
     "iopub.status.idle": "2024-09-24T20:36:56.922683Z",
     "shell.execute_reply": "2024-09-24T20:36:56.921226Z"
    },
    "papermill": {
     "duration": 1.041148,
     "end_time": "2024-09-24T20:36:56.925398",
     "exception": false,
     "start_time": "2024-09-24T20:36:55.884250",
     "status": "completed"
    },
    "tags": []
   },
   "outputs": [],
   "source": [
    "import pandas as pd\n",
    "pd.options.display.max_columns=10\n",
    "pd.options.display.max_rows=20\n",
    "pd.options.display.float_format = '{:.3f}'.format\n",
    "pd.options.display.width = 1000\n",
    "pd.set_option('display.expand_frame_repr', False)"
   ]
  },
  {
   "cell_type": "markdown",
   "id": "8f2e84bd",
   "metadata": {
    "papermill": {
     "duration": 0.014132,
     "end_time": "2024-09-24T20:36:56.954249",
     "exception": false,
     "start_time": "2024-09-24T20:36:56.940117",
     "status": "completed"
    },
    "tags": []
   },
   "source": [
    "Calling the data sets"
   ]
  },
  {
   "cell_type": "code",
   "execution_count": 3,
   "id": "51a2c1a1",
   "metadata": {
    "execution": {
     "iopub.execute_input": "2024-09-24T20:36:56.984216Z",
     "iopub.status.busy": "2024-09-24T20:36:56.983670Z",
     "iopub.status.idle": "2024-09-24T20:36:57.086168Z",
     "shell.execute_reply": "2024-09-24T20:36:57.084868Z"
    },
    "papermill": {
     "duration": 0.120544,
     "end_time": "2024-09-24T20:36:57.088901",
     "exception": false,
     "start_time": "2024-09-24T20:36:56.968357",
     "status": "completed"
    },
    "tags": []
   },
   "outputs": [
    {
     "data": {
      "text/html": [
       "<div>\n",
       "<style scoped>\n",
       "    .dataframe tbody tr th:only-of-type {\n",
       "        vertical-align: middle;\n",
       "    }\n",
       "\n",
       "    .dataframe tbody tr th {\n",
       "        vertical-align: top;\n",
       "    }\n",
       "\n",
       "    .dataframe thead th {\n",
       "        text-align: right;\n",
       "    }\n",
       "</style>\n",
       "<table border=\"1\" class=\"dataframe\">\n",
       "  <thead>\n",
       "    <tr style=\"text-align: right;\">\n",
       "      <th></th>\n",
       "      <th>movieId</th>\n",
       "      <th>title</th>\n",
       "      <th>genres</th>\n",
       "    </tr>\n",
       "  </thead>\n",
       "  <tbody>\n",
       "    <tr>\n",
       "      <th>0</th>\n",
       "      <td>1</td>\n",
       "      <td>Toy Story (1995)</td>\n",
       "      <td>Adventure|Animation|Children|Comedy|Fantasy</td>\n",
       "    </tr>\n",
       "    <tr>\n",
       "      <th>1</th>\n",
       "      <td>2</td>\n",
       "      <td>Jumanji (1995)</td>\n",
       "      <td>Adventure|Children|Fantasy</td>\n",
       "    </tr>\n",
       "    <tr>\n",
       "      <th>2</th>\n",
       "      <td>3</td>\n",
       "      <td>Grumpier Old Men (1995)</td>\n",
       "      <td>Comedy|Romance</td>\n",
       "    </tr>\n",
       "    <tr>\n",
       "      <th>3</th>\n",
       "      <td>4</td>\n",
       "      <td>Waiting to Exhale (1995)</td>\n",
       "      <td>Comedy|Drama|Romance</td>\n",
       "    </tr>\n",
       "    <tr>\n",
       "      <th>4</th>\n",
       "      <td>5</td>\n",
       "      <td>Father of the Bride Part II (1995)</td>\n",
       "      <td>Comedy</td>\n",
       "    </tr>\n",
       "  </tbody>\n",
       "</table>\n",
       "</div>"
      ],
      "text/plain": [
       "   movieId                               title                                       genres\n",
       "0        1                    Toy Story (1995)  Adventure|Animation|Children|Comedy|Fantasy\n",
       "1        2                      Jumanji (1995)                   Adventure|Children|Fantasy\n",
       "2        3             Grumpier Old Men (1995)                               Comedy|Romance\n",
       "3        4            Waiting to Exhale (1995)                         Comedy|Drama|Romance\n",
       "4        5  Father of the Bride Part II (1995)                                       Comedy"
      ]
     },
     "execution_count": 3,
     "metadata": {},
     "output_type": "execute_result"
    }
   ],
   "source": [
    "movie = pd.read_csv('/kaggle/input/movielens-20m-dataset/movie.csv')\n",
    "movie.head()"
   ]
  },
  {
   "cell_type": "code",
   "execution_count": 4,
   "id": "50922e83",
   "metadata": {
    "execution": {
     "iopub.execute_input": "2024-09-24T20:36:57.120369Z",
     "iopub.status.busy": "2024-09-24T20:36:57.119956Z",
     "iopub.status.idle": "2024-09-24T20:36:57.129162Z",
     "shell.execute_reply": "2024-09-24T20:36:57.127707Z"
    },
    "papermill": {
     "duration": 0.02845,
     "end_time": "2024-09-24T20:36:57.131967",
     "exception": false,
     "start_time": "2024-09-24T20:36:57.103517",
     "status": "completed"
    },
    "tags": []
   },
   "outputs": [
    {
     "data": {
      "text/plain": [
       "(27278, 3)"
      ]
     },
     "execution_count": 4,
     "metadata": {},
     "output_type": "execute_result"
    }
   ],
   "source": [
    "movie.shape"
   ]
  },
  {
   "cell_type": "code",
   "execution_count": 5,
   "id": "e16d83dd",
   "metadata": {
    "execution": {
     "iopub.execute_input": "2024-09-24T20:36:57.163062Z",
     "iopub.status.busy": "2024-09-24T20:36:57.162659Z",
     "iopub.status.idle": "2024-09-24T20:37:23.076304Z",
     "shell.execute_reply": "2024-09-24T20:37:23.074968Z"
    },
    "papermill": {
     "duration": 25.932351,
     "end_time": "2024-09-24T20:37:23.078956",
     "exception": false,
     "start_time": "2024-09-24T20:36:57.146605",
     "status": "completed"
    },
    "tags": []
   },
   "outputs": [
    {
     "data": {
      "text/html": [
       "<div>\n",
       "<style scoped>\n",
       "    .dataframe tbody tr th:only-of-type {\n",
       "        vertical-align: middle;\n",
       "    }\n",
       "\n",
       "    .dataframe tbody tr th {\n",
       "        vertical-align: top;\n",
       "    }\n",
       "\n",
       "    .dataframe thead th {\n",
       "        text-align: right;\n",
       "    }\n",
       "</style>\n",
       "<table border=\"1\" class=\"dataframe\">\n",
       "  <thead>\n",
       "    <tr style=\"text-align: right;\">\n",
       "      <th></th>\n",
       "      <th>userId</th>\n",
       "      <th>movieId</th>\n",
       "      <th>rating</th>\n",
       "      <th>timestamp</th>\n",
       "    </tr>\n",
       "  </thead>\n",
       "  <tbody>\n",
       "    <tr>\n",
       "      <th>0</th>\n",
       "      <td>1</td>\n",
       "      <td>2</td>\n",
       "      <td>3.500</td>\n",
       "      <td>2005-04-02 23:53:47</td>\n",
       "    </tr>\n",
       "    <tr>\n",
       "      <th>1</th>\n",
       "      <td>1</td>\n",
       "      <td>29</td>\n",
       "      <td>3.500</td>\n",
       "      <td>2005-04-02 23:31:16</td>\n",
       "    </tr>\n",
       "    <tr>\n",
       "      <th>2</th>\n",
       "      <td>1</td>\n",
       "      <td>32</td>\n",
       "      <td>3.500</td>\n",
       "      <td>2005-04-02 23:33:39</td>\n",
       "    </tr>\n",
       "    <tr>\n",
       "      <th>3</th>\n",
       "      <td>1</td>\n",
       "      <td>47</td>\n",
       "      <td>3.500</td>\n",
       "      <td>2005-04-02 23:32:07</td>\n",
       "    </tr>\n",
       "    <tr>\n",
       "      <th>4</th>\n",
       "      <td>1</td>\n",
       "      <td>50</td>\n",
       "      <td>3.500</td>\n",
       "      <td>2005-04-02 23:29:40</td>\n",
       "    </tr>\n",
       "  </tbody>\n",
       "</table>\n",
       "</div>"
      ],
      "text/plain": [
       "   userId  movieId  rating            timestamp\n",
       "0       1        2   3.500  2005-04-02 23:53:47\n",
       "1       1       29   3.500  2005-04-02 23:31:16\n",
       "2       1       32   3.500  2005-04-02 23:33:39\n",
       "3       1       47   3.500  2005-04-02 23:32:07\n",
       "4       1       50   3.500  2005-04-02 23:29:40"
      ]
     },
     "execution_count": 5,
     "metadata": {},
     "output_type": "execute_result"
    }
   ],
   "source": [
    "rating = pd.read_csv('/kaggle/input/movielens-20m-dataset/rating.csv')\n",
    "rating.head()"
   ]
  },
  {
   "cell_type": "code",
   "execution_count": 6,
   "id": "bd216abb",
   "metadata": {
    "execution": {
     "iopub.execute_input": "2024-09-24T20:37:23.111967Z",
     "iopub.status.busy": "2024-09-24T20:37:23.111567Z",
     "iopub.status.idle": "2024-09-24T20:37:23.118600Z",
     "shell.execute_reply": "2024-09-24T20:37:23.117616Z"
    },
    "papermill": {
     "duration": 0.025636,
     "end_time": "2024-09-24T20:37:23.121030",
     "exception": false,
     "start_time": "2024-09-24T20:37:23.095394",
     "status": "completed"
    },
    "tags": []
   },
   "outputs": [
    {
     "data": {
      "text/plain": [
       "(20000263, 4)"
      ]
     },
     "execution_count": 6,
     "metadata": {},
     "output_type": "execute_result"
    }
   ],
   "source": [
    "rating.shape"
   ]
  },
  {
   "cell_type": "markdown",
   "id": "0375a2e4",
   "metadata": {
    "papermill": {
     "duration": 0.014966,
     "end_time": "2024-09-24T20:37:23.151122",
     "exception": false,
     "start_time": "2024-09-24T20:37:23.136156",
     "status": "completed"
    },
    "tags": []
   },
   "source": [
    "Merging the datasets"
   ]
  },
  {
   "cell_type": "code",
   "execution_count": 7,
   "id": "c7940353",
   "metadata": {
    "execution": {
     "iopub.execute_input": "2024-09-24T20:37:23.183945Z",
     "iopub.status.busy": "2024-09-24T20:37:23.183538Z",
     "iopub.status.idle": "2024-09-24T20:37:31.435728Z",
     "shell.execute_reply": "2024-09-24T20:37:31.434505Z"
    },
    "papermill": {
     "duration": 8.272151,
     "end_time": "2024-09-24T20:37:31.438724",
     "exception": false,
     "start_time": "2024-09-24T20:37:23.166573",
     "status": "completed"
    },
    "tags": []
   },
   "outputs": [
    {
     "data": {
      "text/html": [
       "<div>\n",
       "<style scoped>\n",
       "    .dataframe tbody tr th:only-of-type {\n",
       "        vertical-align: middle;\n",
       "    }\n",
       "\n",
       "    .dataframe tbody tr th {\n",
       "        vertical-align: top;\n",
       "    }\n",
       "\n",
       "    .dataframe thead th {\n",
       "        text-align: right;\n",
       "    }\n",
       "</style>\n",
       "<table border=\"1\" class=\"dataframe\">\n",
       "  <thead>\n",
       "    <tr style=\"text-align: right;\">\n",
       "      <th></th>\n",
       "      <th>movieId</th>\n",
       "      <th>title</th>\n",
       "      <th>genres</th>\n",
       "      <th>userId</th>\n",
       "      <th>rating</th>\n",
       "      <th>timestamp</th>\n",
       "    </tr>\n",
       "  </thead>\n",
       "  <tbody>\n",
       "    <tr>\n",
       "      <th>0</th>\n",
       "      <td>1</td>\n",
       "      <td>Toy Story (1995)</td>\n",
       "      <td>Adventure|Animation|Children|Comedy|Fantasy</td>\n",
       "      <td>3</td>\n",
       "      <td>4.000</td>\n",
       "      <td>1999-12-11 13:36:47</td>\n",
       "    </tr>\n",
       "    <tr>\n",
       "      <th>1</th>\n",
       "      <td>1</td>\n",
       "      <td>Toy Story (1995)</td>\n",
       "      <td>Adventure|Animation|Children|Comedy|Fantasy</td>\n",
       "      <td>6</td>\n",
       "      <td>5.000</td>\n",
       "      <td>1997-03-13 17:50:52</td>\n",
       "    </tr>\n",
       "    <tr>\n",
       "      <th>2</th>\n",
       "      <td>1</td>\n",
       "      <td>Toy Story (1995)</td>\n",
       "      <td>Adventure|Animation|Children|Comedy|Fantasy</td>\n",
       "      <td>8</td>\n",
       "      <td>4.000</td>\n",
       "      <td>1996-06-05 13:37:51</td>\n",
       "    </tr>\n",
       "    <tr>\n",
       "      <th>3</th>\n",
       "      <td>1</td>\n",
       "      <td>Toy Story (1995)</td>\n",
       "      <td>Adventure|Animation|Children|Comedy|Fantasy</td>\n",
       "      <td>10</td>\n",
       "      <td>4.000</td>\n",
       "      <td>1999-11-25 02:44:47</td>\n",
       "    </tr>\n",
       "    <tr>\n",
       "      <th>4</th>\n",
       "      <td>1</td>\n",
       "      <td>Toy Story (1995)</td>\n",
       "      <td>Adventure|Animation|Children|Comedy|Fantasy</td>\n",
       "      <td>11</td>\n",
       "      <td>4.500</td>\n",
       "      <td>2009-01-02 01:13:41</td>\n",
       "    </tr>\n",
       "  </tbody>\n",
       "</table>\n",
       "</div>"
      ],
      "text/plain": [
       "   movieId             title                                       genres  userId  rating            timestamp\n",
       "0        1  Toy Story (1995)  Adventure|Animation|Children|Comedy|Fantasy       3   4.000  1999-12-11 13:36:47\n",
       "1        1  Toy Story (1995)  Adventure|Animation|Children|Comedy|Fantasy       6   5.000  1997-03-13 17:50:52\n",
       "2        1  Toy Story (1995)  Adventure|Animation|Children|Comedy|Fantasy       8   4.000  1996-06-05 13:37:51\n",
       "3        1  Toy Story (1995)  Adventure|Animation|Children|Comedy|Fantasy      10   4.000  1999-11-25 02:44:47\n",
       "4        1  Toy Story (1995)  Adventure|Animation|Children|Comedy|Fantasy      11   4.500  2009-01-02 01:13:41"
      ]
     },
     "execution_count": 7,
     "metadata": {},
     "output_type": "execute_result"
    }
   ],
   "source": [
    "df = pd.merge(movie,rating, how=\"inner\", on=\"movieId\")\n",
    "df.head()"
   ]
  },
  {
   "cell_type": "code",
   "execution_count": 8,
   "id": "b207dfa7",
   "metadata": {
    "execution": {
     "iopub.execute_input": "2024-09-24T20:37:31.471104Z",
     "iopub.status.busy": "2024-09-24T20:37:31.470545Z",
     "iopub.status.idle": "2024-09-24T20:37:31.480338Z",
     "shell.execute_reply": "2024-09-24T20:37:31.478987Z"
    },
    "papermill": {
     "duration": 0.029205,
     "end_time": "2024-09-24T20:37:31.483118",
     "exception": false,
     "start_time": "2024-09-24T20:37:31.453913",
     "status": "completed"
    },
    "tags": []
   },
   "outputs": [
    {
     "data": {
      "text/plain": [
       "(20000263, 6)"
      ]
     },
     "execution_count": 8,
     "metadata": {},
     "output_type": "execute_result"
    }
   ],
   "source": [
    "df.shape"
   ]
  },
  {
   "cell_type": "code",
   "execution_count": 9,
   "id": "8f2b6089",
   "metadata": {
    "execution": {
     "iopub.execute_input": "2024-09-24T20:37:31.516605Z",
     "iopub.status.busy": "2024-09-24T20:37:31.516166Z",
     "iopub.status.idle": "2024-09-24T20:37:37.209423Z",
     "shell.execute_reply": "2024-09-24T20:37:37.207982Z"
    },
    "papermill": {
     "duration": 5.714057,
     "end_time": "2024-09-24T20:37:37.212468",
     "exception": false,
     "start_time": "2024-09-24T20:37:31.498411",
     "status": "completed"
    },
    "tags": []
   },
   "outputs": [
    {
     "data": {
      "text/plain": [
       "movieId      0\n",
       "title        0\n",
       "genres       0\n",
       "userId       0\n",
       "rating       0\n",
       "timestamp    0\n",
       "dtype: int64"
      ]
     },
     "execution_count": 9,
     "metadata": {},
     "output_type": "execute_result"
    }
   ],
   "source": [
    "df.isnull().sum()"
   ]
  },
  {
   "cell_type": "markdown",
   "id": "54b33803",
   "metadata": {
    "papermill": {
     "duration": 0.014987,
     "end_time": "2024-09-24T20:37:37.244142",
     "exception": false,
     "start_time": "2024-09-24T20:37:37.229155",
     "status": "completed"
    },
    "tags": []
   },
   "source": [
    "Calculate the total number of votes for each movie and creating a dataframe for it"
   ]
  },
  {
   "cell_type": "code",
   "execution_count": 10,
   "id": "e7a88289",
   "metadata": {
    "execution": {
     "iopub.execute_input": "2024-09-24T20:37:37.276820Z",
     "iopub.status.busy": "2024-09-24T20:37:37.276390Z",
     "iopub.status.idle": "2024-09-24T20:37:38.384726Z",
     "shell.execute_reply": "2024-09-24T20:37:38.383531Z"
    },
    "papermill": {
     "duration": 1.127386,
     "end_time": "2024-09-24T20:37:38.387231",
     "exception": false,
     "start_time": "2024-09-24T20:37:37.259845",
     "status": "completed"
    },
    "tags": []
   },
   "outputs": [
    {
     "data": {
      "text/html": [
       "<div>\n",
       "<style scoped>\n",
       "    .dataframe tbody tr th:only-of-type {\n",
       "        vertical-align: middle;\n",
       "    }\n",
       "\n",
       "    .dataframe tbody tr th {\n",
       "        vertical-align: top;\n",
       "    }\n",
       "\n",
       "    .dataframe thead th {\n",
       "        text-align: right;\n",
       "    }\n",
       "</style>\n",
       "<table border=\"1\" class=\"dataframe\">\n",
       "  <thead>\n",
       "    <tr style=\"text-align: right;\">\n",
       "      <th></th>\n",
       "      <th>count</th>\n",
       "    </tr>\n",
       "    <tr>\n",
       "      <th>title</th>\n",
       "      <th></th>\n",
       "    </tr>\n",
       "  </thead>\n",
       "  <tbody>\n",
       "    <tr>\n",
       "      <th>Pulp Fiction (1994)</th>\n",
       "      <td>67310</td>\n",
       "    </tr>\n",
       "    <tr>\n",
       "      <th>Forrest Gump (1994)</th>\n",
       "      <td>66172</td>\n",
       "    </tr>\n",
       "    <tr>\n",
       "      <th>Shawshank Redemption, The (1994)</th>\n",
       "      <td>63366</td>\n",
       "    </tr>\n",
       "    <tr>\n",
       "      <th>Silence of the Lambs, The (1991)</th>\n",
       "      <td>63299</td>\n",
       "    </tr>\n",
       "    <tr>\n",
       "      <th>Jurassic Park (1993)</th>\n",
       "      <td>59715</td>\n",
       "    </tr>\n",
       "  </tbody>\n",
       "</table>\n",
       "</div>"
      ],
      "text/plain": [
       "                                  count\n",
       "title                                  \n",
       "Pulp Fiction (1994)               67310\n",
       "Forrest Gump (1994)               66172\n",
       "Shawshank Redemption, The (1994)  63366\n",
       "Silence of the Lambs, The (1991)  63299\n",
       "Jurassic Park (1993)              59715"
      ]
     },
     "execution_count": 10,
     "metadata": {},
     "output_type": "execute_result"
    }
   ],
   "source": [
    "comment_counts = pd.DataFrame(df[\"title\"].value_counts())\n",
    "comment_counts.head()"
   ]
  },
  {
   "cell_type": "markdown",
   "id": "3dfa9fdd",
   "metadata": {
    "papermill": {
     "duration": 0.016238,
     "end_time": "2024-09-24T20:37:38.419598",
     "exception": false,
     "start_time": "2024-09-24T20:37:38.403360",
     "status": "completed"
    },
    "tags": []
   },
   "source": [
    "We keep the names of the movies with less than 1000 total votes in 'rare_movies' and movies with more than 1000 votes in \"common_movies\"."
   ]
  },
  {
   "cell_type": "code",
   "execution_count": 11,
   "id": "22addc9e",
   "metadata": {
    "execution": {
     "iopub.execute_input": "2024-09-24T20:37:38.453368Z",
     "iopub.status.busy": "2024-09-24T20:37:38.452903Z",
     "iopub.status.idle": "2024-09-24T20:37:38.467704Z",
     "shell.execute_reply": "2024-09-24T20:37:38.466446Z"
    },
    "papermill": {
     "duration": 0.03449,
     "end_time": "2024-09-24T20:37:38.470507",
     "exception": false,
     "start_time": "2024-09-24T20:37:38.436017",
     "status": "completed"
    },
    "tags": []
   },
   "outputs": [
    {
     "name": "stdout",
     "output_type": "stream",
     "text": [
      "Index(['Rosewood (1997)', 'One Night at McCool's (2001)', 'Ted (2012)', 'Bear, The (Ours, L') (1988)', 'Marked for Death (1990)', 'Adam's Rib (1949)', 'Three to Tango (1999)', 'Stakeout (1987)', 'I Now Pronounce You Chuck and Larry (2007)', 'Someone Like You (2001)',\n",
      "       ...\n",
      "       'Expert, The (1995)', 'Goliath Awaits (1981)', 'Short Eyes (1977)', 'Restless Souls (Bag det stille ydre) (2005)', 'Cold Trail (Köld slóð) (2006)', 'Easy Wheels (1989)', 'Ditirambo (1969)', 'Scorching Winds (Garm Hava) (Garam Hawa) (1974)', 'Serrallonga (2008)', 'Innocence (2014)'], dtype='object', name='title', length=23570)\n"
     ]
    }
   ],
   "source": [
    "rare_movies = comment_counts[comment_counts[\"count\"] < 1000].index\n",
    "print(rare_movies)"
   ]
  },
  {
   "cell_type": "code",
   "execution_count": 12,
   "id": "23b6cdde",
   "metadata": {
    "execution": {
     "iopub.execute_input": "2024-09-24T20:37:38.505649Z",
     "iopub.status.busy": "2024-09-24T20:37:38.505213Z",
     "iopub.status.idle": "2024-09-24T20:37:41.904930Z",
     "shell.execute_reply": "2024-09-24T20:37:41.903591Z"
    },
    "papermill": {
     "duration": 3.419705,
     "end_time": "2024-09-24T20:37:41.907743",
     "exception": false,
     "start_time": "2024-09-24T20:37:38.488038",
     "status": "completed"
    },
    "tags": []
   },
   "outputs": [
    {
     "data": {
      "text/html": [
       "<div>\n",
       "<style scoped>\n",
       "    .dataframe tbody tr th:only-of-type {\n",
       "        vertical-align: middle;\n",
       "    }\n",
       "\n",
       "    .dataframe tbody tr th {\n",
       "        vertical-align: top;\n",
       "    }\n",
       "\n",
       "    .dataframe thead th {\n",
       "        text-align: right;\n",
       "    }\n",
       "</style>\n",
       "<table border=\"1\" class=\"dataframe\">\n",
       "  <thead>\n",
       "    <tr style=\"text-align: right;\">\n",
       "      <th></th>\n",
       "      <th>movieId</th>\n",
       "      <th>title</th>\n",
       "      <th>genres</th>\n",
       "      <th>userId</th>\n",
       "      <th>rating</th>\n",
       "      <th>timestamp</th>\n",
       "    </tr>\n",
       "  </thead>\n",
       "  <tbody>\n",
       "    <tr>\n",
       "      <th>0</th>\n",
       "      <td>1</td>\n",
       "      <td>Toy Story (1995)</td>\n",
       "      <td>Adventure|Animation|Children|Comedy|Fantasy</td>\n",
       "      <td>3</td>\n",
       "      <td>4.000</td>\n",
       "      <td>1999-12-11 13:36:47</td>\n",
       "    </tr>\n",
       "    <tr>\n",
       "      <th>1</th>\n",
       "      <td>1</td>\n",
       "      <td>Toy Story (1995)</td>\n",
       "      <td>Adventure|Animation|Children|Comedy|Fantasy</td>\n",
       "      <td>6</td>\n",
       "      <td>5.000</td>\n",
       "      <td>1997-03-13 17:50:52</td>\n",
       "    </tr>\n",
       "    <tr>\n",
       "      <th>2</th>\n",
       "      <td>1</td>\n",
       "      <td>Toy Story (1995)</td>\n",
       "      <td>Adventure|Animation|Children|Comedy|Fantasy</td>\n",
       "      <td>8</td>\n",
       "      <td>4.000</td>\n",
       "      <td>1996-06-05 13:37:51</td>\n",
       "    </tr>\n",
       "    <tr>\n",
       "      <th>3</th>\n",
       "      <td>1</td>\n",
       "      <td>Toy Story (1995)</td>\n",
       "      <td>Adventure|Animation|Children|Comedy|Fantasy</td>\n",
       "      <td>10</td>\n",
       "      <td>4.000</td>\n",
       "      <td>1999-11-25 02:44:47</td>\n",
       "    </tr>\n",
       "    <tr>\n",
       "      <th>4</th>\n",
       "      <td>1</td>\n",
       "      <td>Toy Story (1995)</td>\n",
       "      <td>Adventure|Animation|Children|Comedy|Fantasy</td>\n",
       "      <td>11</td>\n",
       "      <td>4.500</td>\n",
       "      <td>2009-01-02 01:13:41</td>\n",
       "    </tr>\n",
       "  </tbody>\n",
       "</table>\n",
       "</div>"
      ],
      "text/plain": [
       "   movieId             title                                       genres  userId  rating            timestamp\n",
       "0        1  Toy Story (1995)  Adventure|Animation|Children|Comedy|Fantasy       3   4.000  1999-12-11 13:36:47\n",
       "1        1  Toy Story (1995)  Adventure|Animation|Children|Comedy|Fantasy       6   5.000  1997-03-13 17:50:52\n",
       "2        1  Toy Story (1995)  Adventure|Animation|Children|Comedy|Fantasy       8   4.000  1996-06-05 13:37:51\n",
       "3        1  Toy Story (1995)  Adventure|Animation|Children|Comedy|Fantasy      10   4.000  1999-11-25 02:44:47\n",
       "4        1  Toy Story (1995)  Adventure|Animation|Children|Comedy|Fantasy      11   4.500  2009-01-02 01:13:41"
      ]
     },
     "execution_count": 12,
     "metadata": {},
     "output_type": "execute_result"
    }
   ],
   "source": [
    "common_movies = df[~df[\"title\"].isin(rare_movies)]\n",
    "common_movies.head()"
   ]
  },
  {
   "cell_type": "code",
   "execution_count": 13,
   "id": "bc871ddf",
   "metadata": {
    "execution": {
     "iopub.execute_input": "2024-09-24T20:37:41.943877Z",
     "iopub.status.busy": "2024-09-24T20:37:41.942256Z",
     "iopub.status.idle": "2024-09-24T20:37:43.433187Z",
     "shell.execute_reply": "2024-09-24T20:37:43.431839Z"
    },
    "papermill": {
     "duration": 1.51144,
     "end_time": "2024-09-24T20:37:43.435764",
     "exception": false,
     "start_time": "2024-09-24T20:37:41.924324",
     "status": "completed"
    },
    "tags": []
   },
   "outputs": [
    {
     "data": {
      "text/plain": [
       "3159"
      ]
     },
     "execution_count": 13,
     "metadata": {},
     "output_type": "execute_result"
    }
   ],
   "source": [
    "common_movies[\"title\"].nunique()"
   ]
  },
  {
   "cell_type": "markdown",
   "id": "a9f8e250",
   "metadata": {
    "papermill": {
     "duration": 0.015498,
     "end_time": "2024-09-24T20:37:43.468108",
     "exception": false,
     "start_time": "2024-09-24T20:37:43.452610",
     "status": "completed"
    },
    "tags": []
   },
   "source": [
    "Creating a pivot table for the dataframe with userIDs in the index, movie names in the columns, and ratings as values."
   ]
  },
  {
   "cell_type": "code",
   "execution_count": 14,
   "id": "781fac6b",
   "metadata": {
    "execution": {
     "iopub.execute_input": "2024-09-24T20:37:43.501352Z",
     "iopub.status.busy": "2024-09-24T20:37:43.500938Z",
     "iopub.status.idle": "2024-09-24T20:38:01.473601Z",
     "shell.execute_reply": "2024-09-24T20:38:01.472344Z"
    },
    "papermill": {
     "duration": 17.992499,
     "end_time": "2024-09-24T20:38:01.476420",
     "exception": false,
     "start_time": "2024-09-24T20:37:43.483921",
     "status": "completed"
    },
    "tags": []
   },
   "outputs": [
    {
     "data": {
      "text/html": [
       "<div>\n",
       "<style scoped>\n",
       "    .dataframe tbody tr th:only-of-type {\n",
       "        vertical-align: middle;\n",
       "    }\n",
       "\n",
       "    .dataframe tbody tr th {\n",
       "        vertical-align: top;\n",
       "    }\n",
       "\n",
       "    .dataframe thead th {\n",
       "        text-align: right;\n",
       "    }\n",
       "</style>\n",
       "<table border=\"1\" class=\"dataframe\">\n",
       "  <thead>\n",
       "    <tr style=\"text-align: right;\">\n",
       "      <th>title</th>\n",
       "      <th>'burbs, The (1989)</th>\n",
       "      <th>(500) Days of Summer (2009)</th>\n",
       "      <th>*batteries not included (1987)</th>\n",
       "      <th>...And Justice for All (1979)</th>\n",
       "      <th>10 Things I Hate About You (1999)</th>\n",
       "      <th>...</th>\n",
       "      <th>Zulu (1964)</th>\n",
       "      <th>[REC] (2007)</th>\n",
       "      <th>eXistenZ (1999)</th>\n",
       "      <th>xXx (2002)</th>\n",
       "      <th>¡Three Amigos! (1986)</th>\n",
       "    </tr>\n",
       "    <tr>\n",
       "      <th>userId</th>\n",
       "      <th></th>\n",
       "      <th></th>\n",
       "      <th></th>\n",
       "      <th></th>\n",
       "      <th></th>\n",
       "      <th></th>\n",
       "      <th></th>\n",
       "      <th></th>\n",
       "      <th></th>\n",
       "      <th></th>\n",
       "      <th></th>\n",
       "    </tr>\n",
       "  </thead>\n",
       "  <tbody>\n",
       "    <tr>\n",
       "      <th>1</th>\n",
       "      <td>NaN</td>\n",
       "      <td>NaN</td>\n",
       "      <td>NaN</td>\n",
       "      <td>NaN</td>\n",
       "      <td>NaN</td>\n",
       "      <td>...</td>\n",
       "      <td>NaN</td>\n",
       "      <td>NaN</td>\n",
       "      <td>NaN</td>\n",
       "      <td>NaN</td>\n",
       "      <td>NaN</td>\n",
       "    </tr>\n",
       "    <tr>\n",
       "      <th>2</th>\n",
       "      <td>NaN</td>\n",
       "      <td>NaN</td>\n",
       "      <td>NaN</td>\n",
       "      <td>NaN</td>\n",
       "      <td>NaN</td>\n",
       "      <td>...</td>\n",
       "      <td>NaN</td>\n",
       "      <td>NaN</td>\n",
       "      <td>NaN</td>\n",
       "      <td>NaN</td>\n",
       "      <td>NaN</td>\n",
       "    </tr>\n",
       "    <tr>\n",
       "      <th>3</th>\n",
       "      <td>NaN</td>\n",
       "      <td>NaN</td>\n",
       "      <td>NaN</td>\n",
       "      <td>NaN</td>\n",
       "      <td>NaN</td>\n",
       "      <td>...</td>\n",
       "      <td>NaN</td>\n",
       "      <td>NaN</td>\n",
       "      <td>NaN</td>\n",
       "      <td>NaN</td>\n",
       "      <td>NaN</td>\n",
       "    </tr>\n",
       "    <tr>\n",
       "      <th>4</th>\n",
       "      <td>NaN</td>\n",
       "      <td>NaN</td>\n",
       "      <td>NaN</td>\n",
       "      <td>NaN</td>\n",
       "      <td>NaN</td>\n",
       "      <td>...</td>\n",
       "      <td>NaN</td>\n",
       "      <td>NaN</td>\n",
       "      <td>NaN</td>\n",
       "      <td>NaN</td>\n",
       "      <td>NaN</td>\n",
       "    </tr>\n",
       "    <tr>\n",
       "      <th>5</th>\n",
       "      <td>NaN</td>\n",
       "      <td>NaN</td>\n",
       "      <td>NaN</td>\n",
       "      <td>NaN</td>\n",
       "      <td>NaN</td>\n",
       "      <td>...</td>\n",
       "      <td>NaN</td>\n",
       "      <td>NaN</td>\n",
       "      <td>NaN</td>\n",
       "      <td>NaN</td>\n",
       "      <td>NaN</td>\n",
       "    </tr>\n",
       "    <tr>\n",
       "      <th>6</th>\n",
       "      <td>NaN</td>\n",
       "      <td>NaN</td>\n",
       "      <td>NaN</td>\n",
       "      <td>NaN</td>\n",
       "      <td>NaN</td>\n",
       "      <td>...</td>\n",
       "      <td>NaN</td>\n",
       "      <td>NaN</td>\n",
       "      <td>NaN</td>\n",
       "      <td>NaN</td>\n",
       "      <td>NaN</td>\n",
       "    </tr>\n",
       "    <tr>\n",
       "      <th>7</th>\n",
       "      <td>NaN</td>\n",
       "      <td>NaN</td>\n",
       "      <td>NaN</td>\n",
       "      <td>NaN</td>\n",
       "      <td>NaN</td>\n",
       "      <td>...</td>\n",
       "      <td>NaN</td>\n",
       "      <td>NaN</td>\n",
       "      <td>NaN</td>\n",
       "      <td>NaN</td>\n",
       "      <td>2.000</td>\n",
       "    </tr>\n",
       "    <tr>\n",
       "      <th>8</th>\n",
       "      <td>NaN</td>\n",
       "      <td>NaN</td>\n",
       "      <td>NaN</td>\n",
       "      <td>NaN</td>\n",
       "      <td>NaN</td>\n",
       "      <td>...</td>\n",
       "      <td>NaN</td>\n",
       "      <td>NaN</td>\n",
       "      <td>NaN</td>\n",
       "      <td>NaN</td>\n",
       "      <td>NaN</td>\n",
       "    </tr>\n",
       "    <tr>\n",
       "      <th>9</th>\n",
       "      <td>NaN</td>\n",
       "      <td>NaN</td>\n",
       "      <td>NaN</td>\n",
       "      <td>NaN</td>\n",
       "      <td>NaN</td>\n",
       "      <td>...</td>\n",
       "      <td>NaN</td>\n",
       "      <td>NaN</td>\n",
       "      <td>NaN</td>\n",
       "      <td>NaN</td>\n",
       "      <td>NaN</td>\n",
       "    </tr>\n",
       "    <tr>\n",
       "      <th>10</th>\n",
       "      <td>NaN</td>\n",
       "      <td>NaN</td>\n",
       "      <td>NaN</td>\n",
       "      <td>NaN</td>\n",
       "      <td>NaN</td>\n",
       "      <td>...</td>\n",
       "      <td>NaN</td>\n",
       "      <td>NaN</td>\n",
       "      <td>NaN</td>\n",
       "      <td>NaN</td>\n",
       "      <td>NaN</td>\n",
       "    </tr>\n",
       "    <tr>\n",
       "      <th>11</th>\n",
       "      <td>NaN</td>\n",
       "      <td>NaN</td>\n",
       "      <td>5.000</td>\n",
       "      <td>NaN</td>\n",
       "      <td>5.000</td>\n",
       "      <td>...</td>\n",
       "      <td>NaN</td>\n",
       "      <td>NaN</td>\n",
       "      <td>5.000</td>\n",
       "      <td>NaN</td>\n",
       "      <td>NaN</td>\n",
       "    </tr>\n",
       "    <tr>\n",
       "      <th>12</th>\n",
       "      <td>NaN</td>\n",
       "      <td>NaN</td>\n",
       "      <td>NaN</td>\n",
       "      <td>NaN</td>\n",
       "      <td>NaN</td>\n",
       "      <td>...</td>\n",
       "      <td>NaN</td>\n",
       "      <td>NaN</td>\n",
       "      <td>NaN</td>\n",
       "      <td>NaN</td>\n",
       "      <td>NaN</td>\n",
       "    </tr>\n",
       "    <tr>\n",
       "      <th>13</th>\n",
       "      <td>NaN</td>\n",
       "      <td>NaN</td>\n",
       "      <td>NaN</td>\n",
       "      <td>NaN</td>\n",
       "      <td>NaN</td>\n",
       "      <td>...</td>\n",
       "      <td>NaN</td>\n",
       "      <td>NaN</td>\n",
       "      <td>NaN</td>\n",
       "      <td>NaN</td>\n",
       "      <td>NaN</td>\n",
       "    </tr>\n",
       "    <tr>\n",
       "      <th>14</th>\n",
       "      <td>NaN</td>\n",
       "      <td>NaN</td>\n",
       "      <td>NaN</td>\n",
       "      <td>NaN</td>\n",
       "      <td>NaN</td>\n",
       "      <td>...</td>\n",
       "      <td>NaN</td>\n",
       "      <td>NaN</td>\n",
       "      <td>NaN</td>\n",
       "      <td>NaN</td>\n",
       "      <td>NaN</td>\n",
       "    </tr>\n",
       "    <tr>\n",
       "      <th>15</th>\n",
       "      <td>NaN</td>\n",
       "      <td>NaN</td>\n",
       "      <td>NaN</td>\n",
       "      <td>NaN</td>\n",
       "      <td>NaN</td>\n",
       "      <td>...</td>\n",
       "      <td>NaN</td>\n",
       "      <td>NaN</td>\n",
       "      <td>NaN</td>\n",
       "      <td>NaN</td>\n",
       "      <td>NaN</td>\n",
       "    </tr>\n",
       "    <tr>\n",
       "      <th>16</th>\n",
       "      <td>NaN</td>\n",
       "      <td>NaN</td>\n",
       "      <td>NaN</td>\n",
       "      <td>NaN</td>\n",
       "      <td>NaN</td>\n",
       "      <td>...</td>\n",
       "      <td>NaN</td>\n",
       "      <td>NaN</td>\n",
       "      <td>NaN</td>\n",
       "      <td>NaN</td>\n",
       "      <td>NaN</td>\n",
       "    </tr>\n",
       "    <tr>\n",
       "      <th>17</th>\n",
       "      <td>NaN</td>\n",
       "      <td>NaN</td>\n",
       "      <td>NaN</td>\n",
       "      <td>NaN</td>\n",
       "      <td>NaN</td>\n",
       "      <td>...</td>\n",
       "      <td>NaN</td>\n",
       "      <td>NaN</td>\n",
       "      <td>NaN</td>\n",
       "      <td>NaN</td>\n",
       "      <td>NaN</td>\n",
       "    </tr>\n",
       "    <tr>\n",
       "      <th>18</th>\n",
       "      <td>NaN</td>\n",
       "      <td>NaN</td>\n",
       "      <td>NaN</td>\n",
       "      <td>NaN</td>\n",
       "      <td>NaN</td>\n",
       "      <td>...</td>\n",
       "      <td>NaN</td>\n",
       "      <td>NaN</td>\n",
       "      <td>NaN</td>\n",
       "      <td>NaN</td>\n",
       "      <td>NaN</td>\n",
       "    </tr>\n",
       "    <tr>\n",
       "      <th>19</th>\n",
       "      <td>NaN</td>\n",
       "      <td>NaN</td>\n",
       "      <td>NaN</td>\n",
       "      <td>NaN</td>\n",
       "      <td>NaN</td>\n",
       "      <td>...</td>\n",
       "      <td>NaN</td>\n",
       "      <td>NaN</td>\n",
       "      <td>NaN</td>\n",
       "      <td>NaN</td>\n",
       "      <td>NaN</td>\n",
       "    </tr>\n",
       "    <tr>\n",
       "      <th>20</th>\n",
       "      <td>NaN</td>\n",
       "      <td>NaN</td>\n",
       "      <td>NaN</td>\n",
       "      <td>NaN</td>\n",
       "      <td>NaN</td>\n",
       "      <td>...</td>\n",
       "      <td>NaN</td>\n",
       "      <td>NaN</td>\n",
       "      <td>NaN</td>\n",
       "      <td>NaN</td>\n",
       "      <td>NaN</td>\n",
       "    </tr>\n",
       "  </tbody>\n",
       "</table>\n",
       "<p>20 rows × 3159 columns</p>\n",
       "</div>"
      ],
      "text/plain": [
       "title   'burbs, The (1989)  (500) Days of Summer (2009)  *batteries not included (1987)  ...And Justice for All (1979)  10 Things I Hate About You (1999)  ...  Zulu (1964)  [REC] (2007)  eXistenZ (1999)  xXx (2002)  ¡Three Amigos! (1986)\n",
       "userId                                                                                                                                                     ...                                                                               \n",
       "1                      NaN                          NaN                             NaN                            NaN                                NaN  ...          NaN           NaN              NaN         NaN                    NaN\n",
       "2                      NaN                          NaN                             NaN                            NaN                                NaN  ...          NaN           NaN              NaN         NaN                    NaN\n",
       "3                      NaN                          NaN                             NaN                            NaN                                NaN  ...          NaN           NaN              NaN         NaN                    NaN\n",
       "4                      NaN                          NaN                             NaN                            NaN                                NaN  ...          NaN           NaN              NaN         NaN                    NaN\n",
       "5                      NaN                          NaN                             NaN                            NaN                                NaN  ...          NaN           NaN              NaN         NaN                    NaN\n",
       "6                      NaN                          NaN                             NaN                            NaN                                NaN  ...          NaN           NaN              NaN         NaN                    NaN\n",
       "7                      NaN                          NaN                             NaN                            NaN                                NaN  ...          NaN           NaN              NaN         NaN                  2.000\n",
       "8                      NaN                          NaN                             NaN                            NaN                                NaN  ...          NaN           NaN              NaN         NaN                    NaN\n",
       "9                      NaN                          NaN                             NaN                            NaN                                NaN  ...          NaN           NaN              NaN         NaN                    NaN\n",
       "10                     NaN                          NaN                             NaN                            NaN                                NaN  ...          NaN           NaN              NaN         NaN                    NaN\n",
       "11                     NaN                          NaN                           5.000                            NaN                              5.000  ...          NaN           NaN            5.000         NaN                    NaN\n",
       "12                     NaN                          NaN                             NaN                            NaN                                NaN  ...          NaN           NaN              NaN         NaN                    NaN\n",
       "13                     NaN                          NaN                             NaN                            NaN                                NaN  ...          NaN           NaN              NaN         NaN                    NaN\n",
       "14                     NaN                          NaN                             NaN                            NaN                                NaN  ...          NaN           NaN              NaN         NaN                    NaN\n",
       "15                     NaN                          NaN                             NaN                            NaN                                NaN  ...          NaN           NaN              NaN         NaN                    NaN\n",
       "16                     NaN                          NaN                             NaN                            NaN                                NaN  ...          NaN           NaN              NaN         NaN                    NaN\n",
       "17                     NaN                          NaN                             NaN                            NaN                                NaN  ...          NaN           NaN              NaN         NaN                    NaN\n",
       "18                     NaN                          NaN                             NaN                            NaN                                NaN  ...          NaN           NaN              NaN         NaN                    NaN\n",
       "19                     NaN                          NaN                             NaN                            NaN                                NaN  ...          NaN           NaN              NaN         NaN                    NaN\n",
       "20                     NaN                          NaN                             NaN                            NaN                                NaN  ...          NaN           NaN              NaN         NaN                    NaN\n",
       "\n",
       "[20 rows x 3159 columns]"
      ]
     },
     "execution_count": 14,
     "metadata": {},
     "output_type": "execute_result"
    }
   ],
   "source": [
    "#user_movie_df = common_movies.pivot_table(index=[\"userId\"], columns=[\"title\"], values=\"rating\")\n",
    "user_movie_df = common_movies.groupby([\"userId\",\"title\"])[\"rating\"].mean().unstack()\n",
    "user_movie_df.head(20)"
   ]
  },
  {
   "cell_type": "markdown",
   "id": "a6f381f4",
   "metadata": {
    "papermill": {
     "duration": 0.017118,
     "end_time": "2024-09-24T20:38:01.511303",
     "exception": false,
     "start_time": "2024-09-24T20:38:01.494185",
     "status": "completed"
    },
    "tags": []
   },
   "source": [
    "Functionalize all the operations done above"
   ]
  },
  {
   "cell_type": "code",
   "execution_count": 15,
   "id": "d472c5fa",
   "metadata": {
    "execution": {
     "iopub.execute_input": "2024-09-24T20:38:01.548321Z",
     "iopub.status.busy": "2024-09-24T20:38:01.547750Z",
     "iopub.status.idle": "2024-09-24T20:38:01.555609Z",
     "shell.execute_reply": "2024-09-24T20:38:01.553170Z"
    },
    "papermill": {
     "duration": 0.029492,
     "end_time": "2024-09-24T20:38:01.558515",
     "exception": false,
     "start_time": "2024-09-24T20:38:01.529023",
     "status": "completed"
    },
    "tags": []
   },
   "outputs": [],
   "source": [
    "# def create_user_movie_df():\n",
    "#     import pandas as pd\n",
    "#     movie = pd.read_csv('recommender_systems/datasets/movie_lens_dataset/movie.csv')\n",
    "#     rating = pd.read_csv('recommender_systems/datasets/movie_lens_dataset/rating.csv')\n",
    "#     df = movie.merge(rating, how=\"inner\", on=\"movieId\")\n",
    "#     comment_counts = pd.DataFrame(df[\"title\"].value_counts())\n",
    "#     rare_movies = comment_counts[comment_counts[\"title\"] <= 1000].index\n",
    "#     common_movies = df[~df[\"title\"].isin(rare_movies)]\n",
    "#     user_movie_df = common_movies.pivot_table(index=[\"userId\"], columns=[\"title\"], values=\"rating\")\n",
    "#     return user_movie_df\n",
    "\n",
    "# user_movie_df = create_user_movie_df()\n"
   ]
  },
  {
   "cell_type": "markdown",
   "id": "c02e0e3a",
   "metadata": {
    "papermill": {
     "duration": 0.018257,
     "end_time": "2024-09-24T20:38:01.594065",
     "exception": false,
     "start_time": "2024-09-24T20:38:01.575808",
     "status": "completed"
    },
    "tags": []
   },
   "source": [
    "Choosing a random user id"
   ]
  },
  {
   "cell_type": "code",
   "execution_count": 16,
   "id": "6c66b174",
   "metadata": {
    "execution": {
     "iopub.execute_input": "2024-09-24T20:38:01.629854Z",
     "iopub.status.busy": "2024-09-24T20:38:01.629406Z",
     "iopub.status.idle": "2024-09-24T20:38:01.645128Z",
     "shell.execute_reply": "2024-09-24T20:38:01.643147Z"
    },
    "papermill": {
     "duration": 0.036593,
     "end_time": "2024-09-24T20:38:01.647920",
     "exception": false,
     "start_time": "2024-09-24T20:38:01.611327",
     "status": "completed"
    },
    "tags": []
   },
   "outputs": [
    {
     "name": "stdout",
     "output_type": "stream",
     "text": [
      "28941\n"
     ]
    }
   ],
   "source": [
    "#random_user = int(pd.Series(user_movie_df.index).sample(1, random_state=45).values[0])\n",
    "random_user = user_movie_df.sample(1,random_state=45).index[0]\n",
    "print(random_user)"
   ]
  },
  {
   "cell_type": "markdown",
   "id": "0d4eb092",
   "metadata": {
    "papermill": {
     "duration": 0.018075,
     "end_time": "2024-09-24T20:38:01.683755",
     "exception": false,
     "start_time": "2024-09-24T20:38:01.665680",
     "status": "completed"
    },
    "tags": []
   },
   "source": [
    "Creating a new dataframe named random_user_df consisting of observation units belonging to the selected user."
   ]
  },
  {
   "cell_type": "code",
   "execution_count": 17,
   "id": "a3ef98e7",
   "metadata": {
    "execution": {
     "iopub.execute_input": "2024-09-24T20:38:01.722396Z",
     "iopub.status.busy": "2024-09-24T20:38:01.721970Z",
     "iopub.status.idle": "2024-09-24T20:38:01.739166Z",
     "shell.execute_reply": "2024-09-24T20:38:01.737863Z"
    },
    "papermill": {
     "duration": 0.039524,
     "end_time": "2024-09-24T20:38:01.741805",
     "exception": false,
     "start_time": "2024-09-24T20:38:01.702281",
     "status": "completed"
    },
    "tags": []
   },
   "outputs": [
    {
     "data": {
      "text/html": [
       "<div>\n",
       "<style scoped>\n",
       "    .dataframe tbody tr th:only-of-type {\n",
       "        vertical-align: middle;\n",
       "    }\n",
       "\n",
       "    .dataframe tbody tr th {\n",
       "        vertical-align: top;\n",
       "    }\n",
       "\n",
       "    .dataframe thead th {\n",
       "        text-align: right;\n",
       "    }\n",
       "</style>\n",
       "<table border=\"1\" class=\"dataframe\">\n",
       "  <thead>\n",
       "    <tr style=\"text-align: right;\">\n",
       "      <th>title</th>\n",
       "      <th>'burbs, The (1989)</th>\n",
       "      <th>(500) Days of Summer (2009)</th>\n",
       "      <th>*batteries not included (1987)</th>\n",
       "      <th>...And Justice for All (1979)</th>\n",
       "      <th>10 Things I Hate About You (1999)</th>\n",
       "      <th>...</th>\n",
       "      <th>Zulu (1964)</th>\n",
       "      <th>[REC] (2007)</th>\n",
       "      <th>eXistenZ (1999)</th>\n",
       "      <th>xXx (2002)</th>\n",
       "      <th>¡Three Amigos! (1986)</th>\n",
       "    </tr>\n",
       "    <tr>\n",
       "      <th>userId</th>\n",
       "      <th></th>\n",
       "      <th></th>\n",
       "      <th></th>\n",
       "      <th></th>\n",
       "      <th></th>\n",
       "      <th></th>\n",
       "      <th></th>\n",
       "      <th></th>\n",
       "      <th></th>\n",
       "      <th></th>\n",
       "      <th></th>\n",
       "    </tr>\n",
       "  </thead>\n",
       "  <tbody>\n",
       "    <tr>\n",
       "      <th>28941</th>\n",
       "      <td>NaN</td>\n",
       "      <td>NaN</td>\n",
       "      <td>NaN</td>\n",
       "      <td>NaN</td>\n",
       "      <td>NaN</td>\n",
       "      <td>...</td>\n",
       "      <td>NaN</td>\n",
       "      <td>NaN</td>\n",
       "      <td>NaN</td>\n",
       "      <td>NaN</td>\n",
       "      <td>NaN</td>\n",
       "    </tr>\n",
       "  </tbody>\n",
       "</table>\n",
       "<p>1 rows × 3159 columns</p>\n",
       "</div>"
      ],
      "text/plain": [
       "title   'burbs, The (1989)  (500) Days of Summer (2009)  *batteries not included (1987)  ...And Justice for All (1979)  10 Things I Hate About You (1999)  ...  Zulu (1964)  [REC] (2007)  eXistenZ (1999)  xXx (2002)  ¡Three Amigos! (1986)\n",
       "userId                                                                                                                                                     ...                                                                               \n",
       "28941                  NaN                          NaN                             NaN                            NaN                                NaN  ...          NaN           NaN              NaN         NaN                    NaN\n",
       "\n",
       "[1 rows x 3159 columns]"
      ]
     },
     "execution_count": 17,
     "metadata": {},
     "output_type": "execute_result"
    }
   ],
   "source": [
    "random_user_df = user_movie_df[user_movie_df.index == random_user]\n",
    "random_user_df.head()"
   ]
  },
  {
   "cell_type": "markdown",
   "id": "17c91ac6",
   "metadata": {
    "papermill": {
     "duration": 0.022192,
     "end_time": "2024-09-24T20:38:01.784945",
     "exception": false,
     "start_time": "2024-09-24T20:38:01.762753",
     "status": "completed"
    },
    "tags": []
   },
   "source": [
    "Assigning the movies voted by the selected user to a list named movies_watched."
   ]
  },
  {
   "cell_type": "code",
   "execution_count": 18,
   "id": "b2b99e9a",
   "metadata": {
    "execution": {
     "iopub.execute_input": "2024-09-24T20:38:01.826412Z",
     "iopub.status.busy": "2024-09-24T20:38:01.825853Z",
     "iopub.status.idle": "2024-09-24T20:38:01.835763Z",
     "shell.execute_reply": "2024-09-24T20:38:01.834586Z"
    },
    "papermill": {
     "duration": 0.032325,
     "end_time": "2024-09-24T20:38:01.838369",
     "exception": false,
     "start_time": "2024-09-24T20:38:01.806044",
     "status": "completed"
    },
    "tags": []
   },
   "outputs": [
    {
     "name": "stdout",
     "output_type": "stream",
     "text": [
      "['Ace Ventura: Pet Detective (1994)', 'Ace Ventura: When Nature Calls (1995)', 'Aladdin (1992)', 'American President, The (1995)', 'Apollo 13 (1995)', 'Babe (1995)', 'Bullets Over Broadway (1994)', 'Clueless (1995)', 'Disclosure (1994)', 'Forrest Gump (1994)', 'Four Weddings and a Funeral (1994)', 'Home Alone (1990)', 'Jurassic Park (1993)', 'Like Water for Chocolate (Como agua para chocolate) (1992)', 'Little Women (1994)', \"Mr. Holland's Opus (1995)\", 'Mrs. Doubtfire (1993)', 'Much Ado About Nothing (1993)', \"Muriel's Wedding (1994)\", 'Nine Months (1995)', 'Operation Dumbo Drop (1995)', 'Piano, The (1993)', 'Postman, The (Postino, Il) (1994)', 'Ready to Wear (Pret-A-Porter) (1994)', 'Remains of the Day, The (1993)', 'Sabrina (1995)', \"Schindler's List (1993)\", 'Secret Garden, The (1993)', 'Sense and Sensibility (1995)', 'Shadowlands (1993)', 'Silence of the Lambs, The (1991)', 'Star Trek: Generations (1994)', 'Stargate (1994)']\n"
     ]
    }
   ],
   "source": [
    "movies_watched = random_user_df.columns[random_user_df.notna().any()].tolist()\n",
    "print(movies_watched)"
   ]
  },
  {
   "cell_type": "code",
   "execution_count": 19,
   "id": "1126ef65",
   "metadata": {
    "execution": {
     "iopub.execute_input": "2024-09-24T20:38:01.888471Z",
     "iopub.status.busy": "2024-09-24T20:38:01.887929Z",
     "iopub.status.idle": "2024-09-24T20:38:01.897185Z",
     "shell.execute_reply": "2024-09-24T20:38:01.895251Z"
    },
    "papermill": {
     "duration": 0.043255,
     "end_time": "2024-09-24T20:38:01.900951",
     "exception": false,
     "start_time": "2024-09-24T20:38:01.857696",
     "status": "completed"
    },
    "tags": []
   },
   "outputs": [
    {
     "data": {
      "text/plain": [
       "33"
      ]
     },
     "execution_count": 19,
     "metadata": {},
     "output_type": "execute_result"
    }
   ],
   "source": [
    "len(movies_watched)"
   ]
  },
  {
   "cell_type": "markdown",
   "id": "7c84128d",
   "metadata": {
    "papermill": {
     "duration": 0.021306,
     "end_time": "2024-09-24T20:38:01.942612",
     "exception": false,
     "start_time": "2024-09-24T20:38:01.921306",
     "status": "completed"
    },
    "tags": []
   },
   "source": [
    "Selecting the columns of movies watched by the selected user from user_movie_df and create a new dataframe named movies_watched_df."
   ]
  },
  {
   "cell_type": "code",
   "execution_count": 20,
   "id": "7a8d1e65",
   "metadata": {
    "execution": {
     "iopub.execute_input": "2024-09-24T20:38:01.980556Z",
     "iopub.status.busy": "2024-09-24T20:38:01.980139Z",
     "iopub.status.idle": "2024-09-24T20:38:02.045666Z",
     "shell.execute_reply": "2024-09-24T20:38:02.044536Z"
    },
    "papermill": {
     "duration": 0.08734,
     "end_time": "2024-09-24T20:38:02.048291",
     "exception": false,
     "start_time": "2024-09-24T20:38:01.960951",
     "status": "completed"
    },
    "tags": []
   },
   "outputs": [
    {
     "data": {
      "text/html": [
       "<div>\n",
       "<style scoped>\n",
       "    .dataframe tbody tr th:only-of-type {\n",
       "        vertical-align: middle;\n",
       "    }\n",
       "\n",
       "    .dataframe tbody tr th {\n",
       "        vertical-align: top;\n",
       "    }\n",
       "\n",
       "    .dataframe thead th {\n",
       "        text-align: right;\n",
       "    }\n",
       "</style>\n",
       "<table border=\"1\" class=\"dataframe\">\n",
       "  <thead>\n",
       "    <tr style=\"text-align: right;\">\n",
       "      <th>title</th>\n",
       "      <th>Ace Ventura: Pet Detective (1994)</th>\n",
       "      <th>Ace Ventura: When Nature Calls (1995)</th>\n",
       "      <th>Aladdin (1992)</th>\n",
       "      <th>American President, The (1995)</th>\n",
       "      <th>Apollo 13 (1995)</th>\n",
       "      <th>...</th>\n",
       "      <th>Sense and Sensibility (1995)</th>\n",
       "      <th>Shadowlands (1993)</th>\n",
       "      <th>Silence of the Lambs, The (1991)</th>\n",
       "      <th>Star Trek: Generations (1994)</th>\n",
       "      <th>Stargate (1994)</th>\n",
       "    </tr>\n",
       "    <tr>\n",
       "      <th>userId</th>\n",
       "      <th></th>\n",
       "      <th></th>\n",
       "      <th></th>\n",
       "      <th></th>\n",
       "      <th></th>\n",
       "      <th></th>\n",
       "      <th></th>\n",
       "      <th></th>\n",
       "      <th></th>\n",
       "      <th></th>\n",
       "      <th></th>\n",
       "    </tr>\n",
       "  </thead>\n",
       "  <tbody>\n",
       "    <tr>\n",
       "      <th>1</th>\n",
       "      <td>NaN</td>\n",
       "      <td>NaN</td>\n",
       "      <td>NaN</td>\n",
       "      <td>NaN</td>\n",
       "      <td>NaN</td>\n",
       "      <td>...</td>\n",
       "      <td>NaN</td>\n",
       "      <td>NaN</td>\n",
       "      <td>3.500</td>\n",
       "      <td>NaN</td>\n",
       "      <td>NaN</td>\n",
       "    </tr>\n",
       "    <tr>\n",
       "      <th>2</th>\n",
       "      <td>NaN</td>\n",
       "      <td>NaN</td>\n",
       "      <td>NaN</td>\n",
       "      <td>NaN</td>\n",
       "      <td>NaN</td>\n",
       "      <td>...</td>\n",
       "      <td>NaN</td>\n",
       "      <td>NaN</td>\n",
       "      <td>NaN</td>\n",
       "      <td>NaN</td>\n",
       "      <td>NaN</td>\n",
       "    </tr>\n",
       "    <tr>\n",
       "      <th>3</th>\n",
       "      <td>NaN</td>\n",
       "      <td>NaN</td>\n",
       "      <td>NaN</td>\n",
       "      <td>NaN</td>\n",
       "      <td>NaN</td>\n",
       "      <td>...</td>\n",
       "      <td>NaN</td>\n",
       "      <td>NaN</td>\n",
       "      <td>5.000</td>\n",
       "      <td>5.000</td>\n",
       "      <td>5.000</td>\n",
       "    </tr>\n",
       "    <tr>\n",
       "      <th>4</th>\n",
       "      <td>NaN</td>\n",
       "      <td>3.000</td>\n",
       "      <td>NaN</td>\n",
       "      <td>NaN</td>\n",
       "      <td>NaN</td>\n",
       "      <td>...</td>\n",
       "      <td>NaN</td>\n",
       "      <td>NaN</td>\n",
       "      <td>NaN</td>\n",
       "      <td>3.000</td>\n",
       "      <td>NaN</td>\n",
       "    </tr>\n",
       "    <tr>\n",
       "      <th>5</th>\n",
       "      <td>NaN</td>\n",
       "      <td>NaN</td>\n",
       "      <td>5.000</td>\n",
       "      <td>5.000</td>\n",
       "      <td>5.000</td>\n",
       "      <td>...</td>\n",
       "      <td>3.000</td>\n",
       "      <td>NaN</td>\n",
       "      <td>3.000</td>\n",
       "      <td>NaN</td>\n",
       "      <td>4.000</td>\n",
       "    </tr>\n",
       "  </tbody>\n",
       "</table>\n",
       "<p>5 rows × 33 columns</p>\n",
       "</div>"
      ],
      "text/plain": [
       "title   Ace Ventura: Pet Detective (1994)  Ace Ventura: When Nature Calls (1995)  Aladdin (1992)  American President, The (1995)  Apollo 13 (1995)  ...  Sense and Sensibility (1995)  Shadowlands (1993)  Silence of the Lambs, The (1991)  Star Trek: Generations (1994)  Stargate (1994)\n",
       "userId                                                                                                                                              ...                                                                                                                                    \n",
       "1                                     NaN                                    NaN             NaN                             NaN               NaN  ...                           NaN                 NaN                             3.500                            NaN              NaN\n",
       "2                                     NaN                                    NaN             NaN                             NaN               NaN  ...                           NaN                 NaN                               NaN                            NaN              NaN\n",
       "3                                     NaN                                    NaN             NaN                             NaN               NaN  ...                           NaN                 NaN                             5.000                          5.000            5.000\n",
       "4                                     NaN                                  3.000             NaN                             NaN               NaN  ...                           NaN                 NaN                               NaN                          3.000              NaN\n",
       "5                                     NaN                                    NaN           5.000                           5.000             5.000  ...                         3.000                 NaN                             3.000                            NaN            4.000\n",
       "\n",
       "[5 rows x 33 columns]"
      ]
     },
     "execution_count": 20,
     "metadata": {},
     "output_type": "execute_result"
    }
   ],
   "source": [
    "movies_watched_df = user_movie_df[movies_watched]\n",
    "movies_watched_df.head()"
   ]
  },
  {
   "cell_type": "markdown",
   "id": "afff1c27",
   "metadata": {
    "papermill": {
     "duration": 0.020242,
     "end_time": "2024-09-24T20:38:02.088399",
     "exception": false,
     "start_time": "2024-09-24T20:38:02.068157",
     "status": "completed"
    },
    "tags": []
   },
   "source": [
    "Creating a new dataframe named user_movie_count that contains information about how many of the movies each user has watched, reset the index and update the columns' names.\n",
    "\n"
   ]
  },
  {
   "cell_type": "code",
   "execution_count": 21,
   "id": "199b2f04",
   "metadata": {
    "execution": {
     "iopub.execute_input": "2024-09-24T20:38:02.192646Z",
     "iopub.status.busy": "2024-09-24T20:38:02.191549Z",
     "iopub.status.idle": "2024-09-24T20:38:02.230783Z",
     "shell.execute_reply": "2024-09-24T20:38:02.229608Z"
    },
    "papermill": {
     "duration": 0.063873,
     "end_time": "2024-09-24T20:38:02.234114",
     "exception": false,
     "start_time": "2024-09-24T20:38:02.170241",
     "status": "completed"
    },
    "tags": []
   },
   "outputs": [
    {
     "data": {
      "text/plain": [
       "userId\n",
       "1     1\n",
       "2     2\n",
       "3     4\n",
       "4     6\n",
       "5    11\n",
       "dtype: int64"
      ]
     },
     "execution_count": 21,
     "metadata": {},
     "output_type": "execute_result"
    }
   ],
   "source": [
    "#user_movie_count = movies_watched_df.T.notnull().sum()\n",
    "user_movie_count = movies_watched_df.notnull().sum(axis=1)\n",
    "user_movie_count.head()"
   ]
  },
  {
   "cell_type": "code",
   "execution_count": 22,
   "id": "000ac13b",
   "metadata": {
    "execution": {
     "iopub.execute_input": "2024-09-24T20:38:02.275646Z",
     "iopub.status.busy": "2024-09-24T20:38:02.274305Z",
     "iopub.status.idle": "2024-09-24T20:38:02.282999Z",
     "shell.execute_reply": "2024-09-24T20:38:02.281489Z"
    },
    "papermill": {
     "duration": 0.032937,
     "end_time": "2024-09-24T20:38:02.286138",
     "exception": false,
     "start_time": "2024-09-24T20:38:02.253201",
     "status": "completed"
    },
    "tags": []
   },
   "outputs": [
    {
     "data": {
      "text/plain": [
       "33"
      ]
     },
     "execution_count": 22,
     "metadata": {},
     "output_type": "execute_result"
    }
   ],
   "source": [
    "user_movie_count.max()"
   ]
  },
  {
   "cell_type": "code",
   "execution_count": 23,
   "id": "c3f69c63",
   "metadata": {
    "execution": {
     "iopub.execute_input": "2024-09-24T20:38:02.324651Z",
     "iopub.status.busy": "2024-09-24T20:38:02.324225Z",
     "iopub.status.idle": "2024-09-24T20:38:02.345234Z",
     "shell.execute_reply": "2024-09-24T20:38:02.343849Z"
    },
    "papermill": {
     "duration": 0.043955,
     "end_time": "2024-09-24T20:38:02.347922",
     "exception": false,
     "start_time": "2024-09-24T20:38:02.303967",
     "status": "completed"
    },
    "tags": []
   },
   "outputs": [
    {
     "data": {
      "text/plain": [
       "userId\n",
       "100399    33\n",
       "8405      33\n",
       "46663     33\n",
       "76630     33\n",
       "81218     33\n",
       "81596     33\n",
       "15919     33\n",
       "83090     33\n",
       "118205    33\n",
       "28941     33\n",
       "41389     33\n",
       "94231     33\n",
       "125912    33\n",
       "137391    33\n",
       "13938     33\n",
       "124052    33\n",
       "130986    33\n",
       "112939    32\n",
       "121956    32\n",
       "88604     32\n",
       "dtype: int64"
      ]
     },
     "execution_count": 23,
     "metadata": {},
     "output_type": "execute_result"
    }
   ],
   "source": [
    "user_movie_count.sort_values(ascending=False).head(20)"
   ]
  },
  {
   "cell_type": "code",
   "execution_count": 24,
   "id": "013d553d",
   "metadata": {
    "execution": {
     "iopub.execute_input": "2024-09-24T20:38:02.388579Z",
     "iopub.status.busy": "2024-09-24T20:38:02.387070Z",
     "iopub.status.idle": "2024-09-24T20:38:02.405011Z",
     "shell.execute_reply": "2024-09-24T20:38:02.403390Z"
    },
    "papermill": {
     "duration": 0.042377,
     "end_time": "2024-09-24T20:38:02.408751",
     "exception": false,
     "start_time": "2024-09-24T20:38:02.366374",
     "status": "completed"
    },
    "tags": []
   },
   "outputs": [
    {
     "data": {
      "text/html": [
       "<div>\n",
       "<style scoped>\n",
       "    .dataframe tbody tr th:only-of-type {\n",
       "        vertical-align: middle;\n",
       "    }\n",
       "\n",
       "    .dataframe tbody tr th {\n",
       "        vertical-align: top;\n",
       "    }\n",
       "\n",
       "    .dataframe thead th {\n",
       "        text-align: right;\n",
       "    }\n",
       "</style>\n",
       "<table border=\"1\" class=\"dataframe\">\n",
       "  <thead>\n",
       "    <tr style=\"text-align: right;\">\n",
       "      <th></th>\n",
       "      <th>userId</th>\n",
       "      <th>0</th>\n",
       "    </tr>\n",
       "  </thead>\n",
       "  <tbody>\n",
       "    <tr>\n",
       "      <th>0</th>\n",
       "      <td>1</td>\n",
       "      <td>1</td>\n",
       "    </tr>\n",
       "    <tr>\n",
       "      <th>1</th>\n",
       "      <td>2</td>\n",
       "      <td>2</td>\n",
       "    </tr>\n",
       "    <tr>\n",
       "      <th>2</th>\n",
       "      <td>3</td>\n",
       "      <td>4</td>\n",
       "    </tr>\n",
       "    <tr>\n",
       "      <th>3</th>\n",
       "      <td>4</td>\n",
       "      <td>6</td>\n",
       "    </tr>\n",
       "    <tr>\n",
       "      <th>4</th>\n",
       "      <td>5</td>\n",
       "      <td>11</td>\n",
       "    </tr>\n",
       "  </tbody>\n",
       "</table>\n",
       "</div>"
      ],
      "text/plain": [
       "   userId   0\n",
       "0       1   1\n",
       "1       2   2\n",
       "2       3   4\n",
       "3       4   6\n",
       "4       5  11"
      ]
     },
     "execution_count": 24,
     "metadata": {},
     "output_type": "execute_result"
    }
   ],
   "source": [
    "user_movie_count = user_movie_count.reset_index()\n",
    "user_movie_count.head()"
   ]
  },
  {
   "cell_type": "code",
   "execution_count": 25,
   "id": "043055ed",
   "metadata": {
    "execution": {
     "iopub.execute_input": "2024-09-24T20:38:02.449113Z",
     "iopub.status.busy": "2024-09-24T20:38:02.448659Z",
     "iopub.status.idle": "2024-09-24T20:38:02.459889Z",
     "shell.execute_reply": "2024-09-24T20:38:02.458487Z"
    },
    "papermill": {
     "duration": 0.035275,
     "end_time": "2024-09-24T20:38:02.462333",
     "exception": false,
     "start_time": "2024-09-24T20:38:02.427058",
     "status": "completed"
    },
    "tags": []
   },
   "outputs": [
    {
     "data": {
      "text/html": [
       "<div>\n",
       "<style scoped>\n",
       "    .dataframe tbody tr th:only-of-type {\n",
       "        vertical-align: middle;\n",
       "    }\n",
       "\n",
       "    .dataframe tbody tr th {\n",
       "        vertical-align: top;\n",
       "    }\n",
       "\n",
       "    .dataframe thead th {\n",
       "        text-align: right;\n",
       "    }\n",
       "</style>\n",
       "<table border=\"1\" class=\"dataframe\">\n",
       "  <thead>\n",
       "    <tr style=\"text-align: right;\">\n",
       "      <th></th>\n",
       "      <th>userId</th>\n",
       "      <th>movie_count</th>\n",
       "    </tr>\n",
       "  </thead>\n",
       "  <tbody>\n",
       "    <tr>\n",
       "      <th>0</th>\n",
       "      <td>1</td>\n",
       "      <td>1</td>\n",
       "    </tr>\n",
       "    <tr>\n",
       "      <th>1</th>\n",
       "      <td>2</td>\n",
       "      <td>2</td>\n",
       "    </tr>\n",
       "    <tr>\n",
       "      <th>2</th>\n",
       "      <td>3</td>\n",
       "      <td>4</td>\n",
       "    </tr>\n",
       "    <tr>\n",
       "      <th>3</th>\n",
       "      <td>4</td>\n",
       "      <td>6</td>\n",
       "    </tr>\n",
       "    <tr>\n",
       "      <th>4</th>\n",
       "      <td>5</td>\n",
       "      <td>11</td>\n",
       "    </tr>\n",
       "  </tbody>\n",
       "</table>\n",
       "</div>"
      ],
      "text/plain": [
       "   userId  movie_count\n",
       "0       1            1\n",
       "1       2            2\n",
       "2       3            4\n",
       "3       4            6\n",
       "4       5           11"
      ]
     },
     "execution_count": 25,
     "metadata": {},
     "output_type": "execute_result"
    }
   ],
   "source": [
    "user_movie_count.columns = [\"userId\", \"movie_count\"]\n",
    "user_movie_count.head()"
   ]
  },
  {
   "cell_type": "markdown",
   "id": "e04708a3",
   "metadata": {
    "papermill": {
     "duration": 0.017673,
     "end_time": "2024-09-24T20:38:02.498866",
     "exception": false,
     "start_time": "2024-09-24T20:38:02.481193",
     "status": "completed"
    },
    "tags": []
   },
   "source": [
    "We consider similar users to be those who have watched 60 percent or more of the movies voted by the selected user.  Create a list named users_same_movies from the IDs of these users."
   ]
  },
  {
   "cell_type": "code",
   "execution_count": 26,
   "id": "8fa4de3a",
   "metadata": {
    "execution": {
     "iopub.execute_input": "2024-09-24T20:38:02.538350Z",
     "iopub.status.busy": "2024-09-24T20:38:02.537932Z",
     "iopub.status.idle": "2024-09-24T20:38:02.546228Z",
     "shell.execute_reply": "2024-09-24T20:38:02.545173Z"
    },
    "papermill": {
     "duration": 0.03157,
     "end_time": "2024-09-24T20:38:02.548721",
     "exception": false,
     "start_time": "2024-09-24T20:38:02.517151",
     "status": "completed"
    },
    "tags": []
   },
   "outputs": [],
   "source": [
    "perc = round(len(movies_watched) * 60 / 100)\n",
    "users_same_movies = user_movie_count[user_movie_count[\"movie_count\"] > perc][\"userId\"].tolist()\n",
    "\n",
    "#users_same_movies = user_movie_count[user_movie_count > (movies_watched_df.shape[1] * 60 ) / 100].index"
   ]
  },
  {
   "cell_type": "markdown",
   "id": "9fa84416",
   "metadata": {
    "papermill": {
     "duration": 0.018256,
     "end_time": "2024-09-24T20:38:02.586351",
     "exception": false,
     "start_time": "2024-09-24T20:38:02.568095",
     "status": "completed"
    },
    "tags": []
   },
   "source": [
    "Filtering the movies_watched_df dataframe to find the IDs of users that are similar to the selected user in the user_same_movies list."
   ]
  },
  {
   "cell_type": "code",
   "execution_count": 27,
   "id": "2cb36a75",
   "metadata": {
    "execution": {
     "iopub.execute_input": "2024-09-24T20:38:02.624294Z",
     "iopub.status.busy": "2024-09-24T20:38:02.623873Z",
     "iopub.status.idle": "2024-09-24T20:38:02.643583Z",
     "shell.execute_reply": "2024-09-24T20:38:02.642392Z"
    },
    "papermill": {
     "duration": 0.041673,
     "end_time": "2024-09-24T20:38:02.646193",
     "exception": false,
     "start_time": "2024-09-24T20:38:02.604520",
     "status": "completed"
    },
    "tags": []
   },
   "outputs": [
    {
     "data": {
      "text/html": [
       "<div>\n",
       "<style scoped>\n",
       "    .dataframe tbody tr th:only-of-type {\n",
       "        vertical-align: middle;\n",
       "    }\n",
       "\n",
       "    .dataframe tbody tr th {\n",
       "        vertical-align: top;\n",
       "    }\n",
       "\n",
       "    .dataframe thead th {\n",
       "        text-align: right;\n",
       "    }\n",
       "</style>\n",
       "<table border=\"1\" class=\"dataframe\">\n",
       "  <thead>\n",
       "    <tr style=\"text-align: right;\">\n",
       "      <th>title</th>\n",
       "      <th>Ace Ventura: Pet Detective (1994)</th>\n",
       "      <th>Ace Ventura: When Nature Calls (1995)</th>\n",
       "      <th>Aladdin (1992)</th>\n",
       "      <th>American President, The (1995)</th>\n",
       "      <th>Apollo 13 (1995)</th>\n",
       "      <th>...</th>\n",
       "      <th>Sense and Sensibility (1995)</th>\n",
       "      <th>Shadowlands (1993)</th>\n",
       "      <th>Silence of the Lambs, The (1991)</th>\n",
       "      <th>Star Trek: Generations (1994)</th>\n",
       "      <th>Stargate (1994)</th>\n",
       "    </tr>\n",
       "    <tr>\n",
       "      <th>userId</th>\n",
       "      <th></th>\n",
       "      <th></th>\n",
       "      <th></th>\n",
       "      <th></th>\n",
       "      <th></th>\n",
       "      <th></th>\n",
       "      <th></th>\n",
       "      <th></th>\n",
       "      <th></th>\n",
       "      <th></th>\n",
       "      <th></th>\n",
       "    </tr>\n",
       "  </thead>\n",
       "  <tbody>\n",
       "    <tr>\n",
       "      <th>130</th>\n",
       "      <td>4.000</td>\n",
       "      <td>3.000</td>\n",
       "      <td>NaN</td>\n",
       "      <td>3.000</td>\n",
       "      <td>3.000</td>\n",
       "      <td>...</td>\n",
       "      <td>NaN</td>\n",
       "      <td>3.000</td>\n",
       "      <td>5.000</td>\n",
       "      <td>NaN</td>\n",
       "      <td>3.000</td>\n",
       "    </tr>\n",
       "    <tr>\n",
       "      <th>156</th>\n",
       "      <td>3.000</td>\n",
       "      <td>NaN</td>\n",
       "      <td>NaN</td>\n",
       "      <td>5.000</td>\n",
       "      <td>5.000</td>\n",
       "      <td>...</td>\n",
       "      <td>4.000</td>\n",
       "      <td>4.000</td>\n",
       "      <td>5.000</td>\n",
       "      <td>3.000</td>\n",
       "      <td>4.000</td>\n",
       "    </tr>\n",
       "    <tr>\n",
       "      <th>158</th>\n",
       "      <td>2.000</td>\n",
       "      <td>1.000</td>\n",
       "      <td>4.000</td>\n",
       "      <td>4.000</td>\n",
       "      <td>3.000</td>\n",
       "      <td>...</td>\n",
       "      <td>4.000</td>\n",
       "      <td>5.000</td>\n",
       "      <td>5.000</td>\n",
       "      <td>NaN</td>\n",
       "      <td>NaN</td>\n",
       "    </tr>\n",
       "    <tr>\n",
       "      <th>184</th>\n",
       "      <td>2.000</td>\n",
       "      <td>3.000</td>\n",
       "      <td>3.000</td>\n",
       "      <td>4.000</td>\n",
       "      <td>4.000</td>\n",
       "      <td>...</td>\n",
       "      <td>NaN</td>\n",
       "      <td>4.000</td>\n",
       "      <td>5.000</td>\n",
       "      <td>3.000</td>\n",
       "      <td>4.000</td>\n",
       "    </tr>\n",
       "    <tr>\n",
       "      <th>295</th>\n",
       "      <td>NaN</td>\n",
       "      <td>NaN</td>\n",
       "      <td>3.000</td>\n",
       "      <td>3.000</td>\n",
       "      <td>3.000</td>\n",
       "      <td>...</td>\n",
       "      <td>4.000</td>\n",
       "      <td>NaN</td>\n",
       "      <td>4.000</td>\n",
       "      <td>3.000</td>\n",
       "      <td>2.000</td>\n",
       "    </tr>\n",
       "  </tbody>\n",
       "</table>\n",
       "<p>5 rows × 33 columns</p>\n",
       "</div>"
      ],
      "text/plain": [
       "title   Ace Ventura: Pet Detective (1994)  Ace Ventura: When Nature Calls (1995)  Aladdin (1992)  American President, The (1995)  Apollo 13 (1995)  ...  Sense and Sensibility (1995)  Shadowlands (1993)  Silence of the Lambs, The (1991)  Star Trek: Generations (1994)  Stargate (1994)\n",
       "userId                                                                                                                                              ...                                                                                                                                    \n",
       "130                                 4.000                                  3.000             NaN                           3.000             3.000  ...                           NaN               3.000                             5.000                            NaN            3.000\n",
       "156                                 3.000                                    NaN             NaN                           5.000             5.000  ...                         4.000               4.000                             5.000                          3.000            4.000\n",
       "158                                 2.000                                  1.000           4.000                           4.000             3.000  ...                         4.000               5.000                             5.000                            NaN              NaN\n",
       "184                                 2.000                                  3.000           3.000                           4.000             4.000  ...                           NaN               4.000                             5.000                          3.000            4.000\n",
       "295                                   NaN                                    NaN           3.000                           3.000             3.000  ...                         4.000                 NaN                             4.000                          3.000            2.000\n",
       "\n",
       "[5 rows x 33 columns]"
      ]
     },
     "execution_count": 27,
     "metadata": {},
     "output_type": "execute_result"
    }
   ],
   "source": [
    "final_df = movies_watched_df[movies_watched_df.index.isin(users_same_movies)]\n",
    "\n",
    "final_df.head()"
   ]
  },
  {
   "cell_type": "markdown",
   "id": "31c2f684",
   "metadata": {
    "papermill": {
     "duration": 0.018977,
     "end_time": "2024-09-24T20:38:02.683752",
     "exception": false,
     "start_time": "2024-09-24T20:38:02.664775",
     "status": "completed"
    },
    "tags": []
   },
   "source": [
    "Creating a new corr_df dataframe that will contain the correlations between users."
   ]
  },
  {
   "cell_type": "code",
   "execution_count": 28,
   "id": "ef828eaf",
   "metadata": {
    "execution": {
     "iopub.execute_input": "2024-09-24T20:38:02.723391Z",
     "iopub.status.busy": "2024-09-24T20:38:02.723008Z",
     "iopub.status.idle": "2024-09-24T20:38:05.744767Z",
     "shell.execute_reply": "2024-09-24T20:38:05.743482Z"
    },
    "papermill": {
     "duration": 3.044135,
     "end_time": "2024-09-24T20:38:05.747426",
     "exception": false,
     "start_time": "2024-09-24T20:38:02.703291",
     "status": "completed"
    },
    "tags": []
   },
   "outputs": [
    {
     "data": {
      "text/html": [
       "<div>\n",
       "<style scoped>\n",
       "    .dataframe tbody tr th:only-of-type {\n",
       "        vertical-align: middle;\n",
       "    }\n",
       "\n",
       "    .dataframe tbody tr th {\n",
       "        vertical-align: top;\n",
       "    }\n",
       "\n",
       "    .dataframe thead th {\n",
       "        text-align: right;\n",
       "    }\n",
       "</style>\n",
       "<table border=\"1\" class=\"dataframe\">\n",
       "  <thead>\n",
       "    <tr style=\"text-align: right;\">\n",
       "      <th></th>\n",
       "      <th>user_id_1</th>\n",
       "      <th>user_id_2</th>\n",
       "      <th>corr</th>\n",
       "    </tr>\n",
       "  </thead>\n",
       "  <tbody>\n",
       "    <tr>\n",
       "      <th>0</th>\n",
       "      <td>130</td>\n",
       "      <td>130</td>\n",
       "      <td>1.000</td>\n",
       "    </tr>\n",
       "    <tr>\n",
       "      <th>1</th>\n",
       "      <td>130</td>\n",
       "      <td>156</td>\n",
       "      <td>0.129</td>\n",
       "    </tr>\n",
       "    <tr>\n",
       "      <th>2</th>\n",
       "      <td>130</td>\n",
       "      <td>158</td>\n",
       "      <td>0.261</td>\n",
       "    </tr>\n",
       "    <tr>\n",
       "      <th>3</th>\n",
       "      <td>130</td>\n",
       "      <td>184</td>\n",
       "      <td>0.149</td>\n",
       "    </tr>\n",
       "    <tr>\n",
       "      <th>4</th>\n",
       "      <td>130</td>\n",
       "      <td>295</td>\n",
       "      <td>0.597</td>\n",
       "    </tr>\n",
       "  </tbody>\n",
       "</table>\n",
       "</div>"
      ],
      "text/plain": [
       "   user_id_1  user_id_2  corr\n",
       "0        130        130 1.000\n",
       "1        130        156 0.129\n",
       "2        130        158 0.261\n",
       "3        130        184 0.149\n",
       "4        130        295 0.597"
      ]
     },
     "execution_count": 28,
     "metadata": {},
     "output_type": "execute_result"
    }
   ],
   "source": [
    "# final_df.T.corr()\n",
    "# corr_df = final_df.T.corr().unstack().sort_values().drop_duplicates()\n",
    "\n",
    "corr_df = final_df.T.corr().unstack()\n",
    "corr_df = pd.DataFrame(corr_df, columns=[\"corr\"])\n",
    "corr_df.index.names = ['user_id_1', 'user_id_2']\n",
    "corr_df = corr_df.reset_index()\n",
    "\n",
    "corr_df.head()"
   ]
  },
  {
   "cell_type": "markdown",
   "id": "07cdb062",
   "metadata": {
    "papermill": {
     "duration": 0.021324,
     "end_time": "2024-09-24T20:38:05.787526",
     "exception": false,
     "start_time": "2024-09-24T20:38:05.766202",
     "status": "completed"
    },
    "tags": []
   },
   "source": [
    "Creating a new dataframe named top_users by filtering out users that have a high correlation (above 0.65) with the selected user."
   ]
  },
  {
   "cell_type": "code",
   "execution_count": 29,
   "id": "f7b097e8",
   "metadata": {
    "execution": {
     "iopub.execute_input": "2024-09-24T20:38:05.829655Z",
     "iopub.status.busy": "2024-09-24T20:38:05.829237Z",
     "iopub.status.idle": "2024-09-24T20:38:05.869695Z",
     "shell.execute_reply": "2024-09-24T20:38:05.868331Z"
    },
    "papermill": {
     "duration": 0.064666,
     "end_time": "2024-09-24T20:38:05.872324",
     "exception": false,
     "start_time": "2024-09-24T20:38:05.807658",
     "status": "completed"
    },
    "tags": []
   },
   "outputs": [
    {
     "data": {
      "text/html": [
       "<div>\n",
       "<style scoped>\n",
       "    .dataframe tbody tr th:only-of-type {\n",
       "        vertical-align: middle;\n",
       "    }\n",
       "\n",
       "    .dataframe tbody tr th {\n",
       "        vertical-align: top;\n",
       "    }\n",
       "\n",
       "    .dataframe thead th {\n",
       "        text-align: right;\n",
       "    }\n",
       "</style>\n",
       "<table border=\"1\" class=\"dataframe\">\n",
       "  <thead>\n",
       "    <tr style=\"text-align: right;\">\n",
       "      <th></th>\n",
       "      <th>userId</th>\n",
       "      <th>corr</th>\n",
       "    </tr>\n",
       "  </thead>\n",
       "  <tbody>\n",
       "    <tr>\n",
       "      <th>12</th>\n",
       "      <td>28941</td>\n",
       "      <td>1.000</td>\n",
       "    </tr>\n",
       "    <tr>\n",
       "      <th>15</th>\n",
       "      <td>45158</td>\n",
       "      <td>0.801</td>\n",
       "    </tr>\n",
       "    <tr>\n",
       "      <th>30</th>\n",
       "      <td>101628</td>\n",
       "      <td>0.790</td>\n",
       "    </tr>\n",
       "    <tr>\n",
       "      <th>3</th>\n",
       "      <td>7542</td>\n",
       "      <td>0.772</td>\n",
       "    </tr>\n",
       "    <tr>\n",
       "      <th>36</th>\n",
       "      <td>127259</td>\n",
       "      <td>0.764</td>\n",
       "    </tr>\n",
       "  </tbody>\n",
       "</table>\n",
       "</div>"
      ],
      "text/plain": [
       "    userId  corr\n",
       "12   28941 1.000\n",
       "15   45158 0.801\n",
       "30  101628 0.790\n",
       "3     7542 0.772\n",
       "36  127259 0.764"
      ]
     },
     "execution_count": 29,
     "metadata": {},
     "output_type": "execute_result"
    }
   ],
   "source": [
    "top_users = corr_df[(corr_df[\"user_id_1\"] == random_user) & (corr_df[\"corr\"] >= 0.65)][\n",
    "    [\"user_id_2\", \"corr\"]].reset_index(drop=True)\n",
    "\n",
    "top_users = top_users.sort_values(by='corr', ascending=False)\n",
    "\n",
    "top_users.rename(columns={\"user_id_2\": \"userId\"}, inplace=True)\n",
    "\n",
    "top_users.head()"
   ]
  },
  {
   "cell_type": "markdown",
   "id": "39b7aabb",
   "metadata": {
    "papermill": {
     "duration": 0.022025,
     "end_time": "2024-09-24T20:38:05.913551",
     "exception": false,
     "start_time": "2024-09-24T20:38:05.891526",
     "status": "completed"
    },
    "tags": []
   },
   "source": [
    "Merging the top_users dataframe with the rating dataset and removing the selected user"
   ]
  },
  {
   "cell_type": "code",
   "execution_count": 30,
   "id": "a1642f32",
   "metadata": {
    "execution": {
     "iopub.execute_input": "2024-09-24T20:38:05.972892Z",
     "iopub.status.busy": "2024-09-24T20:38:05.972383Z",
     "iopub.status.idle": "2024-09-24T20:38:06.916715Z",
     "shell.execute_reply": "2024-09-24T20:38:06.914947Z"
    },
    "papermill": {
     "duration": 0.978592,
     "end_time": "2024-09-24T20:38:06.919928",
     "exception": false,
     "start_time": "2024-09-24T20:38:05.941336",
     "status": "completed"
    },
    "tags": []
   },
   "outputs": [
    {
     "data": {
      "text/html": [
       "<div>\n",
       "<style scoped>\n",
       "    .dataframe tbody tr th:only-of-type {\n",
       "        vertical-align: middle;\n",
       "    }\n",
       "\n",
       "    .dataframe tbody tr th {\n",
       "        vertical-align: top;\n",
       "    }\n",
       "\n",
       "    .dataframe thead th {\n",
       "        text-align: right;\n",
       "    }\n",
       "</style>\n",
       "<table border=\"1\" class=\"dataframe\">\n",
       "  <thead>\n",
       "    <tr style=\"text-align: right;\">\n",
       "      <th></th>\n",
       "      <th>userId</th>\n",
       "      <th>corr</th>\n",
       "      <th>movieId</th>\n",
       "      <th>rating</th>\n",
       "    </tr>\n",
       "  </thead>\n",
       "  <tbody>\n",
       "    <tr>\n",
       "      <th>33</th>\n",
       "      <td>45158</td>\n",
       "      <td>0.801</td>\n",
       "      <td>1</td>\n",
       "      <td>1.500</td>\n",
       "    </tr>\n",
       "    <tr>\n",
       "      <th>366</th>\n",
       "      <td>45158</td>\n",
       "      <td>0.801</td>\n",
       "      <td>3173</td>\n",
       "      <td>1.500</td>\n",
       "    </tr>\n",
       "    <tr>\n",
       "      <th>379</th>\n",
       "      <td>45158</td>\n",
       "      <td>0.801</td>\n",
       "      <td>3263</td>\n",
       "      <td>2.000</td>\n",
       "    </tr>\n",
       "    <tr>\n",
       "      <th>378</th>\n",
       "      <td>45158</td>\n",
       "      <td>0.801</td>\n",
       "      <td>3261</td>\n",
       "      <td>3.500</td>\n",
       "    </tr>\n",
       "    <tr>\n",
       "      <th>377</th>\n",
       "      <td>45158</td>\n",
       "      <td>0.801</td>\n",
       "      <td>3256</td>\n",
       "      <td>1.000</td>\n",
       "    </tr>\n",
       "    <tr>\n",
       "      <th>...</th>\n",
       "      <td>...</td>\n",
       "      <td>...</td>\n",
       "      <td>...</td>\n",
       "      <td>...</td>\n",
       "    </tr>\n",
       "    <tr>\n",
       "      <th>17082</th>\n",
       "      <td>82666</td>\n",
       "      <td>0.655</td>\n",
       "      <td>273</td>\n",
       "      <td>2.000</td>\n",
       "    </tr>\n",
       "    <tr>\n",
       "      <th>17083</th>\n",
       "      <td>82666</td>\n",
       "      <td>0.655</td>\n",
       "      <td>277</td>\n",
       "      <td>3.000</td>\n",
       "    </tr>\n",
       "    <tr>\n",
       "      <th>17084</th>\n",
       "      <td>82666</td>\n",
       "      <td>0.655</td>\n",
       "      <td>281</td>\n",
       "      <td>4.000</td>\n",
       "    </tr>\n",
       "    <tr>\n",
       "      <th>17085</th>\n",
       "      <td>82666</td>\n",
       "      <td>0.655</td>\n",
       "      <td>296</td>\n",
       "      <td>4.000</td>\n",
       "    </tr>\n",
       "    <tr>\n",
       "      <th>17122</th>\n",
       "      <td>82666</td>\n",
       "      <td>0.655</td>\n",
       "      <td>608</td>\n",
       "      <td>5.000</td>\n",
       "    </tr>\n",
       "  </tbody>\n",
       "</table>\n",
       "<p>17090 rows × 4 columns</p>\n",
       "</div>"
      ],
      "text/plain": [
       "       userId  corr  movieId  rating\n",
       "33      45158 0.801        1   1.500\n",
       "366     45158 0.801     3173   1.500\n",
       "379     45158 0.801     3263   2.000\n",
       "378     45158 0.801     3261   3.500\n",
       "377     45158 0.801     3256   1.000\n",
       "...       ...   ...      ...     ...\n",
       "17082   82666 0.655      273   2.000\n",
       "17083   82666 0.655      277   3.000\n",
       "17084   82666 0.655      281   4.000\n",
       "17085   82666 0.655      296   4.000\n",
       "17122   82666 0.655      608   5.000\n",
       "\n",
       "[17090 rows x 4 columns]"
      ]
     },
     "execution_count": 30,
     "metadata": {},
     "output_type": "execute_result"
    }
   ],
   "source": [
    "top_users_ratings = top_users.merge(rating[[\"userId\", \"movieId\", \"rating\"]], how='inner')\n",
    "top_users_ratings = top_users_ratings[top_users_ratings[\"userId\"] != random_user]\n",
    "top_users_ratings.sort_values(by='corr', ascending=False)"
   ]
  },
  {
   "cell_type": "markdown",
   "id": "fdefd272",
   "metadata": {
    "papermill": {
     "duration": 0.021478,
     "end_time": "2024-09-24T20:38:06.962666",
     "exception": false,
     "start_time": "2024-09-24T20:38:06.941188",
     "status": "completed"
    },
    "tags": []
   },
   "source": [
    "Creating a new variable named weighted_rating, which is the product of the corr and rating values of each user."
   ]
  },
  {
   "cell_type": "code",
   "execution_count": 31,
   "id": "73f50b91",
   "metadata": {
    "execution": {
     "iopub.execute_input": "2024-09-24T20:38:07.004312Z",
     "iopub.status.busy": "2024-09-24T20:38:07.003908Z",
     "iopub.status.idle": "2024-09-24T20:38:07.023224Z",
     "shell.execute_reply": "2024-09-24T20:38:07.022013Z"
    },
    "papermill": {
     "duration": 0.04233,
     "end_time": "2024-09-24T20:38:07.025783",
     "exception": false,
     "start_time": "2024-09-24T20:38:06.983453",
     "status": "completed"
    },
    "tags": []
   },
   "outputs": [
    {
     "data": {
      "text/html": [
       "<div>\n",
       "<style scoped>\n",
       "    .dataframe tbody tr th:only-of-type {\n",
       "        vertical-align: middle;\n",
       "    }\n",
       "\n",
       "    .dataframe tbody tr th {\n",
       "        vertical-align: top;\n",
       "    }\n",
       "\n",
       "    .dataframe thead th {\n",
       "        text-align: right;\n",
       "    }\n",
       "</style>\n",
       "<table border=\"1\" class=\"dataframe\">\n",
       "  <thead>\n",
       "    <tr style=\"text-align: right;\">\n",
       "      <th></th>\n",
       "      <th>userId</th>\n",
       "      <th>corr</th>\n",
       "      <th>movieId</th>\n",
       "      <th>rating</th>\n",
       "      <th>weighted_rating</th>\n",
       "    </tr>\n",
       "  </thead>\n",
       "  <tbody>\n",
       "    <tr>\n",
       "      <th>167</th>\n",
       "      <td>45158</td>\n",
       "      <td>0.801</td>\n",
       "      <td>1136</td>\n",
       "      <td>5.000</td>\n",
       "      <td>4.004</td>\n",
       "    </tr>\n",
       "    <tr>\n",
       "      <th>68</th>\n",
       "      <td>45158</td>\n",
       "      <td>0.801</td>\n",
       "      <td>265</td>\n",
       "      <td>5.000</td>\n",
       "      <td>4.004</td>\n",
       "    </tr>\n",
       "    <tr>\n",
       "      <th>465</th>\n",
       "      <td>45158</td>\n",
       "      <td>0.801</td>\n",
       "      <td>4973</td>\n",
       "      <td>5.000</td>\n",
       "      <td>4.004</td>\n",
       "    </tr>\n",
       "    <tr>\n",
       "      <th>473</th>\n",
       "      <td>45158</td>\n",
       "      <td>0.801</td>\n",
       "      <td>5135</td>\n",
       "      <td>5.000</td>\n",
       "      <td>4.004</td>\n",
       "    </tr>\n",
       "    <tr>\n",
       "      <th>483</th>\n",
       "      <td>45158</td>\n",
       "      <td>0.801</td>\n",
       "      <td>5617</td>\n",
       "      <td>5.000</td>\n",
       "      <td>4.004</td>\n",
       "    </tr>\n",
       "    <tr>\n",
       "      <th>...</th>\n",
       "      <td>...</td>\n",
       "      <td>...</td>\n",
       "      <td>...</td>\n",
       "      <td>...</td>\n",
       "      <td>...</td>\n",
       "    </tr>\n",
       "    <tr>\n",
       "      <th>15151</th>\n",
       "      <td>103998</td>\n",
       "      <td>0.663</td>\n",
       "      <td>1981</td>\n",
       "      <td>0.500</td>\n",
       "      <td>0.332</td>\n",
       "    </tr>\n",
       "    <tr>\n",
       "      <th>15787</th>\n",
       "      <td>103998</td>\n",
       "      <td>0.663</td>\n",
       "      <td>6157</td>\n",
       "      <td>0.500</td>\n",
       "      <td>0.332</td>\n",
       "    </tr>\n",
       "    <tr>\n",
       "      <th>16894</th>\n",
       "      <td>94379</td>\n",
       "      <td>0.656</td>\n",
       "      <td>4247</td>\n",
       "      <td>0.500</td>\n",
       "      <td>0.328</td>\n",
       "    </tr>\n",
       "    <tr>\n",
       "      <th>16599</th>\n",
       "      <td>94379</td>\n",
       "      <td>0.656</td>\n",
       "      <td>2178</td>\n",
       "      <td>0.500</td>\n",
       "      <td>0.328</td>\n",
       "    </tr>\n",
       "    <tr>\n",
       "      <th>16995</th>\n",
       "      <td>94379</td>\n",
       "      <td>0.656</td>\n",
       "      <td>5471</td>\n",
       "      <td>0.500</td>\n",
       "      <td>0.328</td>\n",
       "    </tr>\n",
       "  </tbody>\n",
       "</table>\n",
       "<p>17090 rows × 5 columns</p>\n",
       "</div>"
      ],
      "text/plain": [
       "       userId  corr  movieId  rating  weighted_rating\n",
       "167     45158 0.801     1136   5.000            4.004\n",
       "68      45158 0.801      265   5.000            4.004\n",
       "465     45158 0.801     4973   5.000            4.004\n",
       "473     45158 0.801     5135   5.000            4.004\n",
       "483     45158 0.801     5617   5.000            4.004\n",
       "...       ...   ...      ...     ...              ...\n",
       "15151  103998 0.663     1981   0.500            0.332\n",
       "15787  103998 0.663     6157   0.500            0.332\n",
       "16894   94379 0.656     4247   0.500            0.328\n",
       "16599   94379 0.656     2178   0.500            0.328\n",
       "16995   94379 0.656     5471   0.500            0.328\n",
       "\n",
       "[17090 rows x 5 columns]"
      ]
     },
     "execution_count": 31,
     "metadata": {},
     "output_type": "execute_result"
    }
   ],
   "source": [
    "top_users_ratings['weighted_rating'] = top_users_ratings['corr'] * top_users_ratings['rating']\n",
    "top_users_ratings.sort_values(by=\"weighted_rating\",ascending=False)"
   ]
  },
  {
   "cell_type": "markdown",
   "id": "0e44280d",
   "metadata": {
    "papermill": {
     "duration": 0.018822,
     "end_time": "2024-09-24T20:38:07.064057",
     "exception": false,
     "start_time": "2024-09-24T20:38:07.045235",
     "status": "completed"
    },
    "tags": []
   },
   "source": [
    "Create a new dataframe named recommendation_df that contains the movie id and the average value of all users’ weighted ratings for each movie."
   ]
  },
  {
   "cell_type": "code",
   "execution_count": 32,
   "id": "c5188fa2",
   "metadata": {
    "execution": {
     "iopub.execute_input": "2024-09-24T20:38:07.105701Z",
     "iopub.status.busy": "2024-09-24T20:38:07.104850Z",
     "iopub.status.idle": "2024-09-24T20:38:07.125336Z",
     "shell.execute_reply": "2024-09-24T20:38:07.124036Z"
    },
    "papermill": {
     "duration": 0.044893,
     "end_time": "2024-09-24T20:38:07.128301",
     "exception": false,
     "start_time": "2024-09-24T20:38:07.083408",
     "status": "completed"
    },
    "tags": []
   },
   "outputs": [
    {
     "data": {
      "text/html": [
       "<div>\n",
       "<style scoped>\n",
       "    .dataframe tbody tr th:only-of-type {\n",
       "        vertical-align: middle;\n",
       "    }\n",
       "\n",
       "    .dataframe tbody tr th {\n",
       "        vertical-align: top;\n",
       "    }\n",
       "\n",
       "    .dataframe thead th {\n",
       "        text-align: right;\n",
       "    }\n",
       "</style>\n",
       "<table border=\"1\" class=\"dataframe\">\n",
       "  <thead>\n",
       "    <tr style=\"text-align: right;\">\n",
       "      <th></th>\n",
       "      <th>movieId</th>\n",
       "      <th>weighted_rating</th>\n",
       "    </tr>\n",
       "  </thead>\n",
       "  <tbody>\n",
       "    <tr>\n",
       "      <th>46</th>\n",
       "      <td>53</td>\n",
       "      <td>3.952</td>\n",
       "    </tr>\n",
       "    <tr>\n",
       "      <th>1751</th>\n",
       "      <td>2504</td>\n",
       "      <td>3.764</td>\n",
       "    </tr>\n",
       "    <tr>\n",
       "      <th>1737</th>\n",
       "      <td>2485</td>\n",
       "      <td>3.764</td>\n",
       "    </tr>\n",
       "    <tr>\n",
       "      <th>1422</th>\n",
       "      <td>2057</td>\n",
       "      <td>3.764</td>\n",
       "    </tr>\n",
       "    <tr>\n",
       "      <th>1437</th>\n",
       "      <td>2077</td>\n",
       "      <td>3.764</td>\n",
       "    </tr>\n",
       "    <tr>\n",
       "      <th>...</th>\n",
       "      <td>...</td>\n",
       "      <td>...</td>\n",
       "    </tr>\n",
       "    <tr>\n",
       "      <th>3552</th>\n",
       "      <td>5864</td>\n",
       "      <td>0.352</td>\n",
       "    </tr>\n",
       "    <tr>\n",
       "      <th>1362</th>\n",
       "      <td>1981</td>\n",
       "      <td>0.349</td>\n",
       "    </tr>\n",
       "    <tr>\n",
       "      <th>3651</th>\n",
       "      <td>6157</td>\n",
       "      <td>0.332</td>\n",
       "    </tr>\n",
       "    <tr>\n",
       "      <th>3395</th>\n",
       "      <td>5471</td>\n",
       "      <td>0.328</td>\n",
       "    </tr>\n",
       "    <tr>\n",
       "      <th>2796</th>\n",
       "      <td>4247</td>\n",
       "      <td>0.328</td>\n",
       "    </tr>\n",
       "  </tbody>\n",
       "</table>\n",
       "<p>4856 rows × 2 columns</p>\n",
       "</div>"
      ],
      "text/plain": [
       "      movieId  weighted_rating\n",
       "46         53            3.952\n",
       "1751     2504            3.764\n",
       "1737     2485            3.764\n",
       "1422     2057            3.764\n",
       "1437     2077            3.764\n",
       "...       ...              ...\n",
       "3552     5864            0.352\n",
       "1362     1981            0.349\n",
       "3651     6157            0.332\n",
       "3395     5471            0.328\n",
       "2796     4247            0.328\n",
       "\n",
       "[4856 rows x 2 columns]"
      ]
     },
     "execution_count": 32,
     "metadata": {},
     "output_type": "execute_result"
    }
   ],
   "source": [
    "\n",
    "recommendation_df = top_users_ratings.groupby('movieId').agg({\"weighted_rating\": \"mean\"})\n",
    "\n",
    "recommendation_df = recommendation_df.reset_index()\n",
    "\n",
    "recommendation_df[[\"movieId\"]].nunique()\n",
    "\n",
    "recommendation_df.sort_values(by=\"weighted_rating\" ,ascending=False)"
   ]
  },
  {
   "cell_type": "markdown",
   "id": "47936c65",
   "metadata": {
    "papermill": {
     "duration": 0.018925,
     "end_time": "2024-09-24T20:38:07.173455",
     "exception": false,
     "start_time": "2024-09-24T20:38:07.154530",
     "status": "completed"
    },
    "tags": []
   },
   "source": [
    "Selecting the movies with a weighted rating greater than 3.5 in recommendation_df and sort them according to their weighted rating."
   ]
  },
  {
   "cell_type": "code",
   "execution_count": 33,
   "id": "060a1109",
   "metadata": {
    "execution": {
     "iopub.execute_input": "2024-09-24T20:38:07.216601Z",
     "iopub.status.busy": "2024-09-24T20:38:07.216087Z",
     "iopub.status.idle": "2024-09-24T20:38:07.234983Z",
     "shell.execute_reply": "2024-09-24T20:38:07.233167Z"
    },
    "papermill": {
     "duration": 0.044306,
     "end_time": "2024-09-24T20:38:07.238161",
     "exception": false,
     "start_time": "2024-09-24T20:38:07.193855",
     "status": "completed"
    },
    "tags": []
   },
   "outputs": [
    {
     "data": {
      "text/html": [
       "<div>\n",
       "<style scoped>\n",
       "    .dataframe tbody tr th:only-of-type {\n",
       "        vertical-align: middle;\n",
       "    }\n",
       "\n",
       "    .dataframe tbody tr th {\n",
       "        vertical-align: top;\n",
       "    }\n",
       "\n",
       "    .dataframe thead th {\n",
       "        text-align: right;\n",
       "    }\n",
       "</style>\n",
       "<table border=\"1\" class=\"dataframe\">\n",
       "  <thead>\n",
       "    <tr style=\"text-align: right;\">\n",
       "      <th></th>\n",
       "      <th>movieId</th>\n",
       "      <th>weighted_rating</th>\n",
       "    </tr>\n",
       "  </thead>\n",
       "  <tbody>\n",
       "    <tr>\n",
       "      <th>46</th>\n",
       "      <td>53</td>\n",
       "      <td>3.952</td>\n",
       "    </tr>\n",
       "    <tr>\n",
       "      <th>1751</th>\n",
       "      <td>2504</td>\n",
       "      <td>3.764</td>\n",
       "    </tr>\n",
       "    <tr>\n",
       "      <th>1737</th>\n",
       "      <td>2485</td>\n",
       "      <td>3.764</td>\n",
       "    </tr>\n",
       "    <tr>\n",
       "      <th>1422</th>\n",
       "      <td>2057</td>\n",
       "      <td>3.764</td>\n",
       "    </tr>\n",
       "    <tr>\n",
       "      <th>1437</th>\n",
       "      <td>2077</td>\n",
       "      <td>3.764</td>\n",
       "    </tr>\n",
       "    <tr>\n",
       "      <th>...</th>\n",
       "      <td>...</td>\n",
       "      <td>...</td>\n",
       "    </tr>\n",
       "    <tr>\n",
       "      <th>3552</th>\n",
       "      <td>5864</td>\n",
       "      <td>0.352</td>\n",
       "    </tr>\n",
       "    <tr>\n",
       "      <th>1362</th>\n",
       "      <td>1981</td>\n",
       "      <td>0.349</td>\n",
       "    </tr>\n",
       "    <tr>\n",
       "      <th>3651</th>\n",
       "      <td>6157</td>\n",
       "      <td>0.332</td>\n",
       "    </tr>\n",
       "    <tr>\n",
       "      <th>3395</th>\n",
       "      <td>5471</td>\n",
       "      <td>0.328</td>\n",
       "    </tr>\n",
       "    <tr>\n",
       "      <th>2796</th>\n",
       "      <td>4247</td>\n",
       "      <td>0.328</td>\n",
       "    </tr>\n",
       "  </tbody>\n",
       "</table>\n",
       "<p>4856 rows × 2 columns</p>\n",
       "</div>"
      ],
      "text/plain": [
       "      movieId  weighted_rating\n",
       "46         53            3.952\n",
       "1751     2504            3.764\n",
       "1737     2485            3.764\n",
       "1422     2057            3.764\n",
       "1437     2077            3.764\n",
       "...       ...              ...\n",
       "3552     5864            0.352\n",
       "1362     1981            0.349\n",
       "3651     6157            0.332\n",
       "3395     5471            0.328\n",
       "2796     4247            0.328\n",
       "\n",
       "[4856 rows x 2 columns]"
      ]
     },
     "execution_count": 33,
     "metadata": {},
     "output_type": "execute_result"
    }
   ],
   "source": [
    "movies_to_be_recommend = recommendation_df[recommendation_df[\"weighted_rating\"] > 3.5].sort_values(\"weighted_rating\", ascending=False)\n",
    "recommendation_df.sort_values(by=\"weighted_rating\" ,ascending=False)"
   ]
  },
  {
   "cell_type": "markdown",
   "id": "d163d8d4",
   "metadata": {
    "papermill": {
     "duration": 0.0202,
     "end_time": "2024-09-24T20:38:07.279381",
     "exception": false,
     "start_time": "2024-09-24T20:38:07.259181",
     "status": "completed"
    },
    "tags": []
   },
   "source": [
    "Listing the names of 5 recommended movies."
   ]
  },
  {
   "cell_type": "code",
   "execution_count": 34,
   "id": "80b421cf",
   "metadata": {
    "execution": {
     "iopub.execute_input": "2024-09-24T20:38:07.321337Z",
     "iopub.status.busy": "2024-09-24T20:38:07.320240Z",
     "iopub.status.idle": "2024-09-24T20:38:07.345966Z",
     "shell.execute_reply": "2024-09-24T20:38:07.344760Z"
    },
    "papermill": {
     "duration": 0.049392,
     "end_time": "2024-09-24T20:38:07.348592",
     "exception": false,
     "start_time": "2024-09-24T20:38:07.299200",
     "status": "completed"
    },
    "tags": []
   },
   "outputs": [
    {
     "data": {
      "text/html": [
       "<div>\n",
       "<style scoped>\n",
       "    .dataframe tbody tr th:only-of-type {\n",
       "        vertical-align: middle;\n",
       "    }\n",
       "\n",
       "    .dataframe tbody tr th {\n",
       "        vertical-align: top;\n",
       "    }\n",
       "\n",
       "    .dataframe thead th {\n",
       "        text-align: right;\n",
       "    }\n",
       "</style>\n",
       "<table border=\"1\" class=\"dataframe\">\n",
       "  <thead>\n",
       "    <tr style=\"text-align: right;\">\n",
       "      <th></th>\n",
       "      <th>movieId</th>\n",
       "      <th>weighted_rating</th>\n",
       "      <th>title</th>\n",
       "    </tr>\n",
       "  </thead>\n",
       "  <tbody>\n",
       "    <tr>\n",
       "      <th>0</th>\n",
       "      <td>53</td>\n",
       "      <td>3.952</td>\n",
       "      <td>Lamerica (1994)</td>\n",
       "    </tr>\n",
       "    <tr>\n",
       "      <th>1</th>\n",
       "      <td>2504</td>\n",
       "      <td>3.764</td>\n",
       "      <td>200 Cigarettes (1999)</td>\n",
       "    </tr>\n",
       "    <tr>\n",
       "      <th>2</th>\n",
       "      <td>3910</td>\n",
       "      <td>3.764</td>\n",
       "      <td>Dancer in the Dark (2000)</td>\n",
       "    </tr>\n",
       "    <tr>\n",
       "      <th>3</th>\n",
       "      <td>3118</td>\n",
       "      <td>3.764</td>\n",
       "      <td>Tumbleweeds (1999)</td>\n",
       "    </tr>\n",
       "    <tr>\n",
       "      <th>4</th>\n",
       "      <td>1922</td>\n",
       "      <td>3.764</td>\n",
       "      <td>Whatever (1998)</td>\n",
       "    </tr>\n",
       "  </tbody>\n",
       "</table>\n",
       "</div>"
      ],
      "text/plain": [
       "   movieId  weighted_rating                      title\n",
       "0       53            3.952            Lamerica (1994)\n",
       "1     2504            3.764      200 Cigarettes (1999)\n",
       "2     3910            3.764  Dancer in the Dark (2000)\n",
       "3     3118            3.764         Tumbleweeds (1999)\n",
       "4     1922            3.764            Whatever (1998)"
      ]
     },
     "execution_count": 34,
     "metadata": {},
     "output_type": "execute_result"
    }
   ],
   "source": [
    "movies_to_be_recommend = movies_to_be_recommend.merge(movie[[\"movieId\", \"title\"]])\n",
    "movies_to_be_recommend.head()"
   ]
  },
  {
   "cell_type": "markdown",
   "id": "a5f71293",
   "metadata": {
    "papermill": {
     "duration": 0.021699,
     "end_time": "2024-09-24T20:38:07.390890",
     "exception": false,
     "start_time": "2024-09-24T20:38:07.369191",
     "status": "completed"
    },
    "tags": []
   },
   "source": [
    "<div style=\"text-align: center; font-size: 24px; font-weight: bold; color: red;\">\n",
    "    Item Based Recommendation\n",
    "</div>"
   ]
  },
  {
   "cell_type": "markdown",
   "id": "a8dbf820",
   "metadata": {
    "papermill": {
     "duration": 0.020055,
     "end_time": "2024-09-24T20:38:07.432102",
     "exception": false,
     "start_time": "2024-09-24T20:38:07.412047",
     "status": "completed"
    },
    "tags": []
   },
   "source": [
    "Making item-based suggestions based on the name of the movie the user last watched and gave the highest rating to.\n",
    "\n",
    "user ID = 28941"
   ]
  },
  {
   "cell_type": "markdown",
   "id": "6e8e60ba",
   "metadata": {
    "papermill": {
     "duration": 0.019743,
     "end_time": "2024-09-24T20:38:07.474209",
     "exception": false,
     "start_time": "2024-09-24T20:38:07.454466",
     "status": "completed"
    },
    "tags": []
   },
   "source": [
    "Calling the datasets and merging them"
   ]
  },
  {
   "cell_type": "code",
   "execution_count": 35,
   "id": "b8e81e00",
   "metadata": {
    "execution": {
     "iopub.execute_input": "2024-09-24T20:38:07.517326Z",
     "iopub.status.busy": "2024-09-24T20:38:07.516937Z",
     "iopub.status.idle": "2024-09-24T20:38:07.528127Z",
     "shell.execute_reply": "2024-09-24T20:38:07.526788Z"
    },
    "papermill": {
     "duration": 0.035883,
     "end_time": "2024-09-24T20:38:07.530659",
     "exception": false,
     "start_time": "2024-09-24T20:38:07.494776",
     "status": "completed"
    },
    "tags": []
   },
   "outputs": [
    {
     "data": {
      "text/html": [
       "<div>\n",
       "<style scoped>\n",
       "    .dataframe tbody tr th:only-of-type {\n",
       "        vertical-align: middle;\n",
       "    }\n",
       "\n",
       "    .dataframe tbody tr th {\n",
       "        vertical-align: top;\n",
       "    }\n",
       "\n",
       "    .dataframe thead th {\n",
       "        text-align: right;\n",
       "    }\n",
       "</style>\n",
       "<table border=\"1\" class=\"dataframe\">\n",
       "  <thead>\n",
       "    <tr style=\"text-align: right;\">\n",
       "      <th></th>\n",
       "      <th>movieId</th>\n",
       "      <th>title</th>\n",
       "      <th>genres</th>\n",
       "    </tr>\n",
       "  </thead>\n",
       "  <tbody>\n",
       "    <tr>\n",
       "      <th>0</th>\n",
       "      <td>1</td>\n",
       "      <td>Toy Story (1995)</td>\n",
       "      <td>Adventure|Animation|Children|Comedy|Fantasy</td>\n",
       "    </tr>\n",
       "    <tr>\n",
       "      <th>1</th>\n",
       "      <td>2</td>\n",
       "      <td>Jumanji (1995)</td>\n",
       "      <td>Adventure|Children|Fantasy</td>\n",
       "    </tr>\n",
       "    <tr>\n",
       "      <th>2</th>\n",
       "      <td>3</td>\n",
       "      <td>Grumpier Old Men (1995)</td>\n",
       "      <td>Comedy|Romance</td>\n",
       "    </tr>\n",
       "    <tr>\n",
       "      <th>3</th>\n",
       "      <td>4</td>\n",
       "      <td>Waiting to Exhale (1995)</td>\n",
       "      <td>Comedy|Drama|Romance</td>\n",
       "    </tr>\n",
       "    <tr>\n",
       "      <th>4</th>\n",
       "      <td>5</td>\n",
       "      <td>Father of the Bride Part II (1995)</td>\n",
       "      <td>Comedy</td>\n",
       "    </tr>\n",
       "  </tbody>\n",
       "</table>\n",
       "</div>"
      ],
      "text/plain": [
       "   movieId                               title                                       genres\n",
       "0        1                    Toy Story (1995)  Adventure|Animation|Children|Comedy|Fantasy\n",
       "1        2                      Jumanji (1995)                   Adventure|Children|Fantasy\n",
       "2        3             Grumpier Old Men (1995)                               Comedy|Romance\n",
       "3        4            Waiting to Exhale (1995)                         Comedy|Drama|Romance\n",
       "4        5  Father of the Bride Part II (1995)                                       Comedy"
      ]
     },
     "execution_count": 35,
     "metadata": {},
     "output_type": "execute_result"
    }
   ],
   "source": [
    "#movie = pd.read_csv('/kaggle/input/movielens-20m-dataset/movie.csv')\n",
    "movie.head()"
   ]
  },
  {
   "cell_type": "code",
   "execution_count": 36,
   "id": "f3d600df",
   "metadata": {
    "execution": {
     "iopub.execute_input": "2024-09-24T20:38:07.572247Z",
     "iopub.status.busy": "2024-09-24T20:38:07.571843Z",
     "iopub.status.idle": "2024-09-24T20:38:07.583163Z",
     "shell.execute_reply": "2024-09-24T20:38:07.581862Z"
    },
    "papermill": {
     "duration": 0.035217,
     "end_time": "2024-09-24T20:38:07.585727",
     "exception": false,
     "start_time": "2024-09-24T20:38:07.550510",
     "status": "completed"
    },
    "tags": []
   },
   "outputs": [
    {
     "data": {
      "text/html": [
       "<div>\n",
       "<style scoped>\n",
       "    .dataframe tbody tr th:only-of-type {\n",
       "        vertical-align: middle;\n",
       "    }\n",
       "\n",
       "    .dataframe tbody tr th {\n",
       "        vertical-align: top;\n",
       "    }\n",
       "\n",
       "    .dataframe thead th {\n",
       "        text-align: right;\n",
       "    }\n",
       "</style>\n",
       "<table border=\"1\" class=\"dataframe\">\n",
       "  <thead>\n",
       "    <tr style=\"text-align: right;\">\n",
       "      <th></th>\n",
       "      <th>userId</th>\n",
       "      <th>movieId</th>\n",
       "      <th>rating</th>\n",
       "      <th>timestamp</th>\n",
       "    </tr>\n",
       "  </thead>\n",
       "  <tbody>\n",
       "    <tr>\n",
       "      <th>0</th>\n",
       "      <td>1</td>\n",
       "      <td>2</td>\n",
       "      <td>3.500</td>\n",
       "      <td>2005-04-02 23:53:47</td>\n",
       "    </tr>\n",
       "    <tr>\n",
       "      <th>1</th>\n",
       "      <td>1</td>\n",
       "      <td>29</td>\n",
       "      <td>3.500</td>\n",
       "      <td>2005-04-02 23:31:16</td>\n",
       "    </tr>\n",
       "    <tr>\n",
       "      <th>2</th>\n",
       "      <td>1</td>\n",
       "      <td>32</td>\n",
       "      <td>3.500</td>\n",
       "      <td>2005-04-02 23:33:39</td>\n",
       "    </tr>\n",
       "    <tr>\n",
       "      <th>3</th>\n",
       "      <td>1</td>\n",
       "      <td>47</td>\n",
       "      <td>3.500</td>\n",
       "      <td>2005-04-02 23:32:07</td>\n",
       "    </tr>\n",
       "    <tr>\n",
       "      <th>4</th>\n",
       "      <td>1</td>\n",
       "      <td>50</td>\n",
       "      <td>3.500</td>\n",
       "      <td>2005-04-02 23:29:40</td>\n",
       "    </tr>\n",
       "  </tbody>\n",
       "</table>\n",
       "</div>"
      ],
      "text/plain": [
       "   userId  movieId  rating            timestamp\n",
       "0       1        2   3.500  2005-04-02 23:53:47\n",
       "1       1       29   3.500  2005-04-02 23:31:16\n",
       "2       1       32   3.500  2005-04-02 23:33:39\n",
       "3       1       47   3.500  2005-04-02 23:32:07\n",
       "4       1       50   3.500  2005-04-02 23:29:40"
      ]
     },
     "execution_count": 36,
     "metadata": {},
     "output_type": "execute_result"
    }
   ],
   "source": [
    "#rating = pd.read_csv('/kaggle/input/movielens-20m-dataset/rating.csv')\n",
    "rating.head()"
   ]
  },
  {
   "cell_type": "code",
   "execution_count": 37,
   "id": "1180862e",
   "metadata": {
    "execution": {
     "iopub.execute_input": "2024-09-24T20:38:07.628572Z",
     "iopub.status.busy": "2024-09-24T20:38:07.628146Z",
     "iopub.status.idle": "2024-09-24T20:38:07.632792Z",
     "shell.execute_reply": "2024-09-24T20:38:07.631658Z"
    },
    "papermill": {
     "duration": 0.028847,
     "end_time": "2024-09-24T20:38:07.635365",
     "exception": false,
     "start_time": "2024-09-24T20:38:07.606518",
     "status": "completed"
    },
    "tags": []
   },
   "outputs": [],
   "source": [
    "# df = rating.merge(movie, how=\"inner\", on=\"movieId\")\n",
    "# df.head()"
   ]
  },
  {
   "cell_type": "markdown",
   "id": "b6a1fb5b",
   "metadata": {
    "papermill": {
     "duration": 0.020522,
     "end_time": "2024-09-24T20:38:07.676494",
     "exception": false,
     "start_time": "2024-09-24T20:38:07.655972",
     "status": "completed"
    },
    "tags": []
   },
   "source": [
    "Getting the ID of the movie with the most up-to-date score among the movies that the user to be recommended gave 5 points to."
   ]
  },
  {
   "cell_type": "code",
   "execution_count": 38,
   "id": "a44bf521",
   "metadata": {
    "execution": {
     "iopub.execute_input": "2024-09-24T20:38:07.720707Z",
     "iopub.status.busy": "2024-09-24T20:38:07.720288Z",
     "iopub.status.idle": "2024-09-24T20:38:07.786745Z",
     "shell.execute_reply": "2024-09-24T20:38:07.785250Z"
    },
    "papermill": {
     "duration": 0.090931,
     "end_time": "2024-09-24T20:38:07.789693",
     "exception": false,
     "start_time": "2024-09-24T20:38:07.698762",
     "status": "completed"
    },
    "tags": []
   },
   "outputs": [
    {
     "name": "stdout",
     "output_type": "stream",
     "text": [
      "7\n"
     ]
    }
   ],
   "source": [
    "movie_id = df[(df[\"userId\"] == random_user) & (df[\"rating\"] == 5.0)].sort_values(by='timestamp', ascending=False)[\"movieId\"].iloc[0]\n",
    "print(movie_id)"
   ]
  },
  {
   "cell_type": "markdown",
   "id": "7d8c6c97",
   "metadata": {
    "papermill": {
     "duration": 0.020961,
     "end_time": "2024-09-24T20:38:07.833136",
     "exception": false,
     "start_time": "2024-09-24T20:38:07.812175",
     "status": "completed"
    },
    "tags": []
   },
   "source": [
    "Filtering the user_movie_df dataframe created in the User based recommendation section according to the selected movie ID."
   ]
  },
  {
   "cell_type": "code",
   "execution_count": 39,
   "id": "9638a529",
   "metadata": {
    "execution": {
     "iopub.execute_input": "2024-09-24T20:38:07.877634Z",
     "iopub.status.busy": "2024-09-24T20:38:07.877164Z",
     "iopub.status.idle": "2024-09-24T20:38:07.904017Z",
     "shell.execute_reply": "2024-09-24T20:38:07.902085Z"
    },
    "papermill": {
     "duration": 0.05311,
     "end_time": "2024-09-24T20:38:07.907214",
     "exception": false,
     "start_time": "2024-09-24T20:38:07.854104",
     "status": "completed"
    },
    "tags": []
   },
   "outputs": [
    {
     "name": "stdout",
     "output_type": "stream",
     "text": [
      "Sabrina (1995)\n"
     ]
    }
   ],
   "source": [
    "movie_name = df[df[\"movieId\"] == movie_id][\"title\"].values[0]\n",
    "print(movie_name)"
   ]
  },
  {
   "cell_type": "code",
   "execution_count": 40,
   "id": "4d0350af",
   "metadata": {
    "execution": {
     "iopub.execute_input": "2024-09-24T20:38:07.950883Z",
     "iopub.status.busy": "2024-09-24T20:38:07.950427Z",
     "iopub.status.idle": "2024-09-24T20:38:07.955723Z",
     "shell.execute_reply": "2024-09-24T20:38:07.954682Z"
    },
    "papermill": {
     "duration": 0.02946,
     "end_time": "2024-09-24T20:38:07.958182",
     "exception": false,
     "start_time": "2024-09-24T20:38:07.928722",
     "status": "completed"
    },
    "tags": []
   },
   "outputs": [],
   "source": [
    "movie_name = user_movie_df[movie_name]"
   ]
  },
  {
   "cell_type": "markdown",
   "id": "9750dd2b",
   "metadata": {
    "papermill": {
     "duration": 0.021077,
     "end_time": "2024-09-24T20:38:07.999638",
     "exception": false,
     "start_time": "2024-09-24T20:38:07.978561",
     "status": "completed"
    },
    "tags": []
   },
   "source": [
    "Using the filtered dataframe, find the correlation between the selected movie and other movies and rank them."
   ]
  },
  {
   "cell_type": "code",
   "execution_count": 41,
   "id": "a5a6d447",
   "metadata": {
    "execution": {
     "iopub.execute_input": "2024-09-24T20:38:08.044872Z",
     "iopub.status.busy": "2024-09-24T20:38:08.044484Z",
     "iopub.status.idle": "2024-09-24T20:38:19.087035Z",
     "shell.execute_reply": "2024-09-24T20:38:19.085783Z"
    },
    "papermill": {
     "duration": 11.068209,
     "end_time": "2024-09-24T20:38:19.089691",
     "exception": false,
     "start_time": "2024-09-24T20:38:08.021482",
     "status": "completed"
    },
    "tags": []
   },
   "outputs": [
    {
     "data": {
      "text/html": [
       "<div>\n",
       "<style scoped>\n",
       "    .dataframe tbody tr th:only-of-type {\n",
       "        vertical-align: middle;\n",
       "    }\n",
       "\n",
       "    .dataframe tbody tr th {\n",
       "        vertical-align: top;\n",
       "    }\n",
       "\n",
       "    .dataframe thead th {\n",
       "        text-align: right;\n",
       "    }\n",
       "</style>\n",
       "<table border=\"1\" class=\"dataframe\">\n",
       "  <thead>\n",
       "    <tr style=\"text-align: right;\">\n",
       "      <th></th>\n",
       "      <th>title</th>\n",
       "      <th>corr</th>\n",
       "    </tr>\n",
       "  </thead>\n",
       "  <tbody>\n",
       "    <tr>\n",
       "      <th>0</th>\n",
       "      <td>Sabrina (1995)</td>\n",
       "      <td>1.000</td>\n",
       "    </tr>\n",
       "    <tr>\n",
       "      <th>1</th>\n",
       "      <td>Intouchables (2011)</td>\n",
       "      <td>0.503</td>\n",
       "    </tr>\n",
       "    <tr>\n",
       "      <th>2</th>\n",
       "      <td>Father of the Bride (1991)</td>\n",
       "      <td>0.500</td>\n",
       "    </tr>\n",
       "    <tr>\n",
       "      <th>3</th>\n",
       "      <td>Anna and the King (1999)</td>\n",
       "      <td>0.494</td>\n",
       "    </tr>\n",
       "    <tr>\n",
       "      <th>4</th>\n",
       "      <td>Runaway Bride (1999)</td>\n",
       "      <td>0.484</td>\n",
       "    </tr>\n",
       "  </tbody>\n",
       "</table>\n",
       "</div>"
      ],
      "text/plain": [
       "                        title  corr\n",
       "0              Sabrina (1995) 1.000\n",
       "1         Intouchables (2011) 0.503\n",
       "2  Father of the Bride (1991) 0.500\n",
       "3    Anna and the King (1999) 0.494\n",
       "4        Runaway Bride (1999) 0.484"
      ]
     },
     "execution_count": 41,
     "metadata": {},
     "output_type": "execute_result"
    }
   ],
   "source": [
    "corr_df = user_movie_df.corrwith(movie_name).sort_values(ascending=False).head(10)\n",
    "\n",
    "corr_df = corr_df.reset_index()\n",
    "\n",
    "corr_df.columns = [\"title\", \"corr\"]\n",
    "\n",
    "corr_df.head()"
   ]
  },
  {
   "cell_type": "markdown",
   "id": "55fd3172",
   "metadata": {
    "papermill": {
     "duration": 0.02081,
     "end_time": "2024-09-24T20:38:19.132388",
     "exception": false,
     "start_time": "2024-09-24T20:38:19.111578",
     "status": "completed"
    },
    "tags": []
   },
   "source": [
    "List the first 5 movies as suggestions (exclude the selected movie itself)"
   ]
  },
  {
   "cell_type": "code",
   "execution_count": 42,
   "id": "aa226356",
   "metadata": {
    "execution": {
     "iopub.execute_input": "2024-09-24T20:38:19.177351Z",
     "iopub.status.busy": "2024-09-24T20:38:19.176368Z",
     "iopub.status.idle": "2024-09-24T20:38:19.186185Z",
     "shell.execute_reply": "2024-09-24T20:38:19.184756Z"
    },
    "papermill": {
     "duration": 0.03535,
     "end_time": "2024-09-24T20:38:19.189077",
     "exception": false,
     "start_time": "2024-09-24T20:38:19.153727",
     "status": "completed"
    },
    "tags": []
   },
   "outputs": [
    {
     "name": "stdout",
     "output_type": "stream",
     "text": [
      "                              title  corr\n",
      "1               Intouchables (2011) 0.503\n",
      "2        Father of the Bride (1991) 0.500\n",
      "3          Anna and the King (1999) 0.494\n",
      "4              Runaway Bride (1999) 0.484\n",
      "5  Phantom of the Opera, The (2004) 0.476\n"
     ]
    }
   ],
   "source": [
    "movies_to_recommend = corr_df.sort_values(by='corr', ascending=False)[1:6]\n",
    "print(movies_to_recommend)"
   ]
  },
  {
   "cell_type": "markdown",
   "id": "1444eae9",
   "metadata": {
    "papermill": {
     "duration": 0.021059,
     "end_time": "2024-09-24T20:38:19.231809",
     "exception": false,
     "start_time": "2024-09-24T20:38:19.210750",
     "status": "completed"
    },
    "tags": []
   },
   "source": [
    "<div style=\"text-align: center; font-size: 24px; font-weight: bold; color: green;\">\n",
    "    Hybrid Recommendation\n",
    "</div>"
   ]
  },
  {
   "cell_type": "code",
   "execution_count": 43,
   "id": "d76be801",
   "metadata": {
    "execution": {
     "iopub.execute_input": "2024-09-24T20:38:19.276793Z",
     "iopub.status.busy": "2024-09-24T20:38:19.276347Z",
     "iopub.status.idle": "2024-09-24T20:38:19.295491Z",
     "shell.execute_reply": "2024-09-24T20:38:19.294197Z"
    },
    "papermill": {
     "duration": 0.045801,
     "end_time": "2024-09-24T20:38:19.298355",
     "exception": false,
     "start_time": "2024-09-24T20:38:19.252554",
     "status": "completed"
    },
    "tags": []
   },
   "outputs": [
    {
     "data": {
      "text/html": [
       "<div>\n",
       "<style scoped>\n",
       "    .dataframe tbody tr th:only-of-type {\n",
       "        vertical-align: middle;\n",
       "    }\n",
       "\n",
       "    .dataframe tbody tr th {\n",
       "        vertical-align: top;\n",
       "    }\n",
       "\n",
       "    .dataframe thead th {\n",
       "        text-align: right;\n",
       "    }\n",
       "</style>\n",
       "<table border=\"1\" class=\"dataframe\">\n",
       "  <thead>\n",
       "    <tr style=\"text-align: right;\">\n",
       "      <th></th>\n",
       "      <th>movieId</th>\n",
       "      <th>weighted_rating</th>\n",
       "      <th>title</th>\n",
       "    </tr>\n",
       "  </thead>\n",
       "  <tbody>\n",
       "    <tr>\n",
       "      <th>0</th>\n",
       "      <td>1</td>\n",
       "      <td>2.424</td>\n",
       "      <td>Toy Story (1995)</td>\n",
       "    </tr>\n",
       "    <tr>\n",
       "      <th>1</th>\n",
       "      <td>2</td>\n",
       "      <td>1.749</td>\n",
       "      <td>Jumanji (1995)</td>\n",
       "    </tr>\n",
       "    <tr>\n",
       "      <th>2</th>\n",
       "      <td>3</td>\n",
       "      <td>1.431</td>\n",
       "      <td>Grumpier Old Men (1995)</td>\n",
       "    </tr>\n",
       "    <tr>\n",
       "      <th>3</th>\n",
       "      <td>4</td>\n",
       "      <td>1.691</td>\n",
       "      <td>Waiting to Exhale (1995)</td>\n",
       "    </tr>\n",
       "    <tr>\n",
       "      <th>4</th>\n",
       "      <td>5</td>\n",
       "      <td>1.425</td>\n",
       "      <td>Father of the Bride Part II (1995)</td>\n",
       "    </tr>\n",
       "  </tbody>\n",
       "</table>\n",
       "</div>"
      ],
      "text/plain": [
       "   movieId  weighted_rating                               title\n",
       "0        1            2.424                    Toy Story (1995)\n",
       "1        2            1.749                      Jumanji (1995)\n",
       "2        3            1.431             Grumpier Old Men (1995)\n",
       "3        4            1.691            Waiting to Exhale (1995)\n",
       "4        5            1.425  Father of the Bride Part II (1995)"
      ]
     },
     "execution_count": 43,
     "metadata": {},
     "output_type": "execute_result"
    }
   ],
   "source": [
    "movies_ordered_by_rating = pd.merge(recommendation_df,movie,how=\"inner\",on=\"movieId\")[[\"movieId\",\"weighted_rating\",\"title\"]]\n",
    "movies_ordered_by_rating.head()"
   ]
  },
  {
   "cell_type": "code",
   "execution_count": 44,
   "id": "f3590e44",
   "metadata": {
    "execution": {
     "iopub.execute_input": "2024-09-24T20:38:19.344596Z",
     "iopub.status.busy": "2024-09-24T20:38:19.343358Z",
     "iopub.status.idle": "2024-09-24T20:38:19.359641Z",
     "shell.execute_reply": "2024-09-24T20:38:19.358393Z"
    },
    "papermill": {
     "duration": 0.042877,
     "end_time": "2024-09-24T20:38:19.362216",
     "exception": false,
     "start_time": "2024-09-24T20:38:19.319339",
     "status": "completed"
    },
    "tags": []
   },
   "outputs": [
    {
     "data": {
      "text/html": [
       "<div>\n",
       "<style scoped>\n",
       "    .dataframe tbody tr th:only-of-type {\n",
       "        vertical-align: middle;\n",
       "    }\n",
       "\n",
       "    .dataframe tbody tr th {\n",
       "        vertical-align: top;\n",
       "    }\n",
       "\n",
       "    .dataframe thead th {\n",
       "        text-align: right;\n",
       "    }\n",
       "</style>\n",
       "<table border=\"1\" class=\"dataframe\">\n",
       "  <thead>\n",
       "    <tr style=\"text-align: right;\">\n",
       "      <th></th>\n",
       "      <th>title</th>\n",
       "      <th>corr</th>\n",
       "      <th>movieId</th>\n",
       "      <th>weighted_rating</th>\n",
       "    </tr>\n",
       "  </thead>\n",
       "  <tbody>\n",
       "    <tr>\n",
       "      <th>0</th>\n",
       "      <td>Sabrina (1995)</td>\n",
       "      <td>1.000</td>\n",
       "      <td>7</td>\n",
       "      <td>2.440</td>\n",
       "    </tr>\n",
       "    <tr>\n",
       "      <th>1</th>\n",
       "      <td>Father of the Bride (1991)</td>\n",
       "      <td>0.500</td>\n",
       "      <td>6944</td>\n",
       "      <td>2.446</td>\n",
       "    </tr>\n",
       "    <tr>\n",
       "      <th>2</th>\n",
       "      <td>Anna and the King (1999)</td>\n",
       "      <td>0.494</td>\n",
       "      <td>3155</td>\n",
       "      <td>2.515</td>\n",
       "    </tr>\n",
       "    <tr>\n",
       "      <th>3</th>\n",
       "      <td>Runaway Bride (1999)</td>\n",
       "      <td>0.484</td>\n",
       "      <td>2724</td>\n",
       "      <td>1.263</td>\n",
       "    </tr>\n",
       "    <tr>\n",
       "      <th>4</th>\n",
       "      <td>Mrs. Winterbourne (1996)</td>\n",
       "      <td>0.474</td>\n",
       "      <td>691</td>\n",
       "      <td>1.272</td>\n",
       "    </tr>\n",
       "  </tbody>\n",
       "</table>\n",
       "</div>"
      ],
      "text/plain": [
       "                        title  corr  movieId  weighted_rating\n",
       "0              Sabrina (1995) 1.000        7            2.440\n",
       "1  Father of the Bride (1991) 0.500     6944            2.446\n",
       "2    Anna and the King (1999) 0.494     3155            2.515\n",
       "3        Runaway Bride (1999) 0.484     2724            1.263\n",
       "4    Mrs. Winterbourne (1996) 0.474      691            1.272"
      ]
     },
     "execution_count": 44,
     "metadata": {},
     "output_type": "execute_result"
    }
   ],
   "source": [
    "merged = pd.merge(corr_df,movies_ordered_by_rating,how=\"inner\", on=\"title\")\n",
    "merged.head()"
   ]
  },
  {
   "cell_type": "code",
   "execution_count": 45,
   "id": "428eed40",
   "metadata": {
    "execution": {
     "iopub.execute_input": "2024-09-24T20:38:19.409840Z",
     "iopub.status.busy": "2024-09-24T20:38:19.408541Z",
     "iopub.status.idle": "2024-09-24T20:38:19.425303Z",
     "shell.execute_reply": "2024-09-24T20:38:19.423887Z"
    },
    "papermill": {
     "duration": 0.043585,
     "end_time": "2024-09-24T20:38:19.427932",
     "exception": false,
     "start_time": "2024-09-24T20:38:19.384347",
     "status": "completed"
    },
    "tags": []
   },
   "outputs": [
    {
     "data": {
      "text/html": [
       "<div>\n",
       "<style scoped>\n",
       "    .dataframe tbody tr th:only-of-type {\n",
       "        vertical-align: middle;\n",
       "    }\n",
       "\n",
       "    .dataframe tbody tr th {\n",
       "        vertical-align: top;\n",
       "    }\n",
       "\n",
       "    .dataframe thead th {\n",
       "        text-align: right;\n",
       "    }\n",
       "</style>\n",
       "<table border=\"1\" class=\"dataframe\">\n",
       "  <thead>\n",
       "    <tr style=\"text-align: right;\">\n",
       "      <th></th>\n",
       "      <th>title</th>\n",
       "      <th>hybrid</th>\n",
       "    </tr>\n",
       "  </thead>\n",
       "  <tbody>\n",
       "    <tr>\n",
       "      <th>1</th>\n",
       "      <td>Anna and the King (1999)</td>\n",
       "      <td>1.243</td>\n",
       "    </tr>\n",
       "    <tr>\n",
       "      <th>2</th>\n",
       "      <td>Father of the Bride (1991)</td>\n",
       "      <td>1.224</td>\n",
       "    </tr>\n",
       "    <tr>\n",
       "      <th>3</th>\n",
       "      <td>Two Weeks Notice (2002)</td>\n",
       "      <td>1.111</td>\n",
       "    </tr>\n",
       "    <tr>\n",
       "      <th>4</th>\n",
       "      <td>Sweet Home Alabama (2002)</td>\n",
       "      <td>0.839</td>\n",
       "    </tr>\n",
       "    <tr>\n",
       "      <th>5</th>\n",
       "      <td>You've Got Mail (1998)</td>\n",
       "      <td>0.831</td>\n",
       "    </tr>\n",
       "    <tr>\n",
       "      <th>6</th>\n",
       "      <td>Runaway Bride (1999)</td>\n",
       "      <td>0.611</td>\n",
       "    </tr>\n",
       "    <tr>\n",
       "      <th>7</th>\n",
       "      <td>Mrs. Winterbourne (1996)</td>\n",
       "      <td>0.604</td>\n",
       "    </tr>\n",
       "  </tbody>\n",
       "</table>\n",
       "</div>"
      ],
      "text/plain": [
       "                        title  hybrid\n",
       "1    Anna and the King (1999)   1.243\n",
       "2  Father of the Bride (1991)   1.224\n",
       "3     Two Weeks Notice (2002)   1.111\n",
       "4   Sweet Home Alabama (2002)   0.839\n",
       "5      You've Got Mail (1998)   0.831\n",
       "6        Runaway Bride (1999)   0.611\n",
       "7    Mrs. Winterbourne (1996)   0.604"
      ]
     },
     "execution_count": 45,
     "metadata": {},
     "output_type": "execute_result"
    }
   ],
   "source": [
    "merged[\"hybrid\"] = merged[\"corr\"] * merged[\"weighted_rating\"]\n",
    "merged[[\"title\",\"hybrid\"]].sort_values(by=\"hybrid\", ascending=False, ignore_index=True)[1:11]"
   ]
  }
 ],
 "metadata": {
  "kaggle": {
   "accelerator": "none",
   "dataSources": [
    {
     "datasetId": 339,
     "sourceId": 77759,
     "sourceType": "datasetVersion"
    }
   ],
   "dockerImageVersionId": 30761,
   "isGpuEnabled": false,
   "isInternetEnabled": true,
   "language": "python",
   "sourceType": "notebook"
  },
  "kernelspec": {
   "display_name": "Python 3",
   "language": "python",
   "name": "python3"
  },
  "language_info": {
   "codemirror_mode": {
    "name": "ipython",
    "version": 3
   },
   "file_extension": ".py",
   "mimetype": "text/x-python",
   "name": "python",
   "nbconvert_exporter": "python",
   "pygments_lexer": "ipython3",
   "version": "3.10.14"
  },
  "papermill": {
   "default_parameters": {},
   "duration": 89.324238,
   "end_time": "2024-09-24T20:38:22.071655",
   "environment_variables": {},
   "exception": null,
   "input_path": "__notebook__.ipynb",
   "output_path": "__notebook__.ipynb",
   "parameters": {},
   "start_time": "2024-09-24T20:36:52.747417",
   "version": "2.6.0"
  }
 },
 "nbformat": 4,
 "nbformat_minor": 5
}
