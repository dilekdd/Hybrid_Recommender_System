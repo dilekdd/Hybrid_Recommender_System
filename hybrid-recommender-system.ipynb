{
 "cells": [
  {
   "cell_type": "markdown",
   "id": "ba5a86ae",
   "metadata": {
    "papermill": {
     "duration": 0.022333,
     "end_time": "2024-09-25T13:54:34.187052",
     "exception": false,
     "start_time": "2024-09-25T13:54:34.164719",
     "status": "completed"
    },
    "tags": []
   },
   "source": [
    "<div style=\"text-align: center; font-size: 40px; font-weight: bold; color: orange;\">\n",
    "     Hybrid Recommender System\n",
    "</div>"
   ]
  },
  {
   "cell_type": "markdown",
   "id": "a3d86ddb",
   "metadata": {
    "papermill": {
     "duration": 0.020945,
     "end_time": "2024-09-25T13:54:34.229778",
     "exception": false,
     "start_time": "2024-09-25T13:54:34.208833",
     "status": "completed"
    },
    "tags": []
   },
   "source": [
    "Make 10 movie recommendations for the given user ID using the item-based and user-based recommender methods.\n",
    "\n",
    "\n",
    "The dataset is provided by MovieLens, a movie recommendation service. It contains movies along with their ratings. It contains 2,000,0263 ratings for 27,278 movies. This dataset was created on October 17, 2016. It contains 138,493 users and data between January 09, 1995 and March 31, 2015. Users were randomly selected. It is known that all selected users rated at least 20 movies.\n",
    "\n",
    "\n",
    "**movie.csv**\n",
    "\n",
    "| **Column** | **Description**      |\n",
    "|------------|----------------------|\n",
    "| movieId    | Unique movie ID.  |\n",
    "| title      | Movie title.          |\n",
    "| genres     | Genre.                |\n",
    "\n",
    "\n",
    "**rating.csv**\n",
    "\n",
    "| **Column**  | **Description**                              |\n",
    "|-------------|----------------------------------------------|\n",
    "| userId      | Unique user ID (UniqueID).               |\n",
    "| movieId     | Unique movie ID (UniqueID).              |\n",
    "| rating      | The rating given to the movie by the user.   |\n",
    "| timestamp   | The date of the rating.                      |\n"
   ]
  },
  {
   "cell_type": "markdown",
   "id": "a6ffb2bd",
   "metadata": {
    "papermill": {
     "duration": 0.020723,
     "end_time": "2024-09-25T13:54:34.271959",
     "exception": false,
     "start_time": "2024-09-25T13:54:34.251236",
     "status": "completed"
    },
    "tags": []
   },
   "source": [
    "<div style=\"text-align: center; font-size: 24px; font-weight: bold; color: green;\">\n",
    "    User Based Recommendation\n",
    "</div>"
   ]
  },
  {
   "cell_type": "code",
   "execution_count": 1,
   "id": "8c7ebc0a",
   "metadata": {
    "execution": {
     "iopub.execute_input": "2024-09-25T13:54:34.317354Z",
     "iopub.status.busy": "2024-09-25T13:54:34.316297Z",
     "iopub.status.idle": "2024-09-25T13:54:34.322283Z",
     "shell.execute_reply": "2024-09-25T13:54:34.320951Z"
    },
    "papermill": {
     "duration": 0.031746,
     "end_time": "2024-09-25T13:54:34.325318",
     "exception": false,
     "start_time": "2024-09-25T13:54:34.293572",
     "status": "completed"
    },
    "tags": []
   },
   "outputs": [],
   "source": [
    "# import pandas as pd\n",
    "# print(pd.__version__)"
   ]
  },
  {
   "cell_type": "markdown",
   "id": "a668b16b",
   "metadata": {
    "papermill": {
     "duration": 0.020681,
     "end_time": "2024-09-25T13:54:34.368371",
     "exception": false,
     "start_time": "2024-09-25T13:54:34.347690",
     "status": "completed"
    },
    "tags": []
   },
   "source": [
    "Installing the specific pandas version and importing it. "
   ]
  },
  {
   "cell_type": "code",
   "execution_count": 2,
   "id": "f4ba0046",
   "metadata": {
    "execution": {
     "iopub.execute_input": "2024-09-25T13:54:34.412145Z",
     "iopub.status.busy": "2024-09-25T13:54:34.411742Z",
     "iopub.status.idle": "2024-09-25T13:54:35.349501Z",
     "shell.execute_reply": "2024-09-25T13:54:35.348318Z"
    },
    "papermill": {
     "duration": 0.96297,
     "end_time": "2024-09-25T13:54:35.352425",
     "exception": false,
     "start_time": "2024-09-25T13:54:34.389455",
     "status": "completed"
    },
    "tags": []
   },
   "outputs": [],
   "source": [
    "import pandas as pd\n",
    "pd.options.display.max_columns=10\n",
    "pd.options.display.max_rows=20\n",
    "pd.options.display.float_format = '{:.3f}'.format\n",
    "pd.options.display.width = 1000\n",
    "pd.set_option('display.expand_frame_repr', False)"
   ]
  },
  {
   "cell_type": "markdown",
   "id": "f4f54a2a",
   "metadata": {
    "papermill": {
     "duration": 0.020885,
     "end_time": "2024-09-25T13:54:35.394315",
     "exception": false,
     "start_time": "2024-09-25T13:54:35.373430",
     "status": "completed"
    },
    "tags": []
   },
   "source": [
    "Calling the data sets"
   ]
  },
  {
   "cell_type": "code",
   "execution_count": 3,
   "id": "69c76ebd",
   "metadata": {
    "execution": {
     "iopub.execute_input": "2024-09-25T13:54:35.438194Z",
     "iopub.status.busy": "2024-09-25T13:54:35.437573Z",
     "iopub.status.idle": "2024-09-25T13:54:35.693954Z",
     "shell.execute_reply": "2024-09-25T13:54:35.692388Z"
    },
    "papermill": {
     "duration": 0.282005,
     "end_time": "2024-09-25T13:54:35.697206",
     "exception": false,
     "start_time": "2024-09-25T13:54:35.415201",
     "status": "completed"
    },
    "tags": []
   },
   "outputs": [
    {
     "data": {
      "text/html": [
       "<div>\n",
       "<style scoped>\n",
       "    .dataframe tbody tr th:only-of-type {\n",
       "        vertical-align: middle;\n",
       "    }\n",
       "\n",
       "    .dataframe tbody tr th {\n",
       "        vertical-align: top;\n",
       "    }\n",
       "\n",
       "    .dataframe thead th {\n",
       "        text-align: right;\n",
       "    }\n",
       "</style>\n",
       "<table border=\"1\" class=\"dataframe\">\n",
       "  <thead>\n",
       "    <tr style=\"text-align: right;\">\n",
       "      <th></th>\n",
       "      <th>movieId</th>\n",
       "      <th>title</th>\n",
       "      <th>genres</th>\n",
       "    </tr>\n",
       "  </thead>\n",
       "  <tbody>\n",
       "    <tr>\n",
       "      <th>0</th>\n",
       "      <td>1</td>\n",
       "      <td>Toy Story (1995)</td>\n",
       "      <td>Adventure|Animation|Children|Comedy|Fantasy</td>\n",
       "    </tr>\n",
       "    <tr>\n",
       "      <th>1</th>\n",
       "      <td>2</td>\n",
       "      <td>Jumanji (1995)</td>\n",
       "      <td>Adventure|Children|Fantasy</td>\n",
       "    </tr>\n",
       "    <tr>\n",
       "      <th>2</th>\n",
       "      <td>3</td>\n",
       "      <td>Grumpier Old Men (1995)</td>\n",
       "      <td>Comedy|Romance</td>\n",
       "    </tr>\n",
       "    <tr>\n",
       "      <th>3</th>\n",
       "      <td>4</td>\n",
       "      <td>Waiting to Exhale (1995)</td>\n",
       "      <td>Comedy|Drama|Romance</td>\n",
       "    </tr>\n",
       "    <tr>\n",
       "      <th>4</th>\n",
       "      <td>5</td>\n",
       "      <td>Father of the Bride Part II (1995)</td>\n",
       "      <td>Comedy</td>\n",
       "    </tr>\n",
       "  </tbody>\n",
       "</table>\n",
       "</div>"
      ],
      "text/plain": [
       "   movieId                               title                                       genres\n",
       "0        1                    Toy Story (1995)  Adventure|Animation|Children|Comedy|Fantasy\n",
       "1        2                      Jumanji (1995)                   Adventure|Children|Fantasy\n",
       "2        3             Grumpier Old Men (1995)                               Comedy|Romance\n",
       "3        4            Waiting to Exhale (1995)                         Comedy|Drama|Romance\n",
       "4        5  Father of the Bride Part II (1995)                                       Comedy"
      ]
     },
     "execution_count": 3,
     "metadata": {},
     "output_type": "execute_result"
    }
   ],
   "source": [
    "movie = pd.read_csv('/kaggle/input/movielens-20m-dataset/movie.csv')\n",
    "movie.head()"
   ]
  },
  {
   "cell_type": "code",
   "execution_count": 4,
   "id": "240f28eb",
   "metadata": {
    "execution": {
     "iopub.execute_input": "2024-09-25T13:54:35.741958Z",
     "iopub.status.busy": "2024-09-25T13:54:35.741443Z",
     "iopub.status.idle": "2024-09-25T13:54:35.749910Z",
     "shell.execute_reply": "2024-09-25T13:54:35.748603Z"
    },
    "papermill": {
     "duration": 0.033847,
     "end_time": "2024-09-25T13:54:35.752517",
     "exception": false,
     "start_time": "2024-09-25T13:54:35.718670",
     "status": "completed"
    },
    "tags": []
   },
   "outputs": [
    {
     "data": {
      "text/plain": [
       "(27278, 3)"
      ]
     },
     "execution_count": 4,
     "metadata": {},
     "output_type": "execute_result"
    }
   ],
   "source": [
    "movie.shape"
   ]
  },
  {
   "cell_type": "code",
   "execution_count": 5,
   "id": "46a6d623",
   "metadata": {
    "execution": {
     "iopub.execute_input": "2024-09-25T13:54:35.797522Z",
     "iopub.status.busy": "2024-09-25T13:54:35.796996Z",
     "iopub.status.idle": "2024-09-25T13:55:19.882089Z",
     "shell.execute_reply": "2024-09-25T13:55:19.880895Z"
    },
    "papermill": {
     "duration": 44.133267,
     "end_time": "2024-09-25T13:55:19.907393",
     "exception": false,
     "start_time": "2024-09-25T13:54:35.774126",
     "status": "completed"
    },
    "tags": []
   },
   "outputs": [
    {
     "data": {
      "text/html": [
       "<div>\n",
       "<style scoped>\n",
       "    .dataframe tbody tr th:only-of-type {\n",
       "        vertical-align: middle;\n",
       "    }\n",
       "\n",
       "    .dataframe tbody tr th {\n",
       "        vertical-align: top;\n",
       "    }\n",
       "\n",
       "    .dataframe thead th {\n",
       "        text-align: right;\n",
       "    }\n",
       "</style>\n",
       "<table border=\"1\" class=\"dataframe\">\n",
       "  <thead>\n",
       "    <tr style=\"text-align: right;\">\n",
       "      <th></th>\n",
       "      <th>userId</th>\n",
       "      <th>movieId</th>\n",
       "      <th>rating</th>\n",
       "      <th>timestamp</th>\n",
       "    </tr>\n",
       "  </thead>\n",
       "  <tbody>\n",
       "    <tr>\n",
       "      <th>0</th>\n",
       "      <td>1</td>\n",
       "      <td>2</td>\n",
       "      <td>3.500</td>\n",
       "      <td>2005-04-02 23:53:47</td>\n",
       "    </tr>\n",
       "    <tr>\n",
       "      <th>1</th>\n",
       "      <td>1</td>\n",
       "      <td>29</td>\n",
       "      <td>3.500</td>\n",
       "      <td>2005-04-02 23:31:16</td>\n",
       "    </tr>\n",
       "    <tr>\n",
       "      <th>2</th>\n",
       "      <td>1</td>\n",
       "      <td>32</td>\n",
       "      <td>3.500</td>\n",
       "      <td>2005-04-02 23:33:39</td>\n",
       "    </tr>\n",
       "    <tr>\n",
       "      <th>3</th>\n",
       "      <td>1</td>\n",
       "      <td>47</td>\n",
       "      <td>3.500</td>\n",
       "      <td>2005-04-02 23:32:07</td>\n",
       "    </tr>\n",
       "    <tr>\n",
       "      <th>4</th>\n",
       "      <td>1</td>\n",
       "      <td>50</td>\n",
       "      <td>3.500</td>\n",
       "      <td>2005-04-02 23:29:40</td>\n",
       "    </tr>\n",
       "  </tbody>\n",
       "</table>\n",
       "</div>"
      ],
      "text/plain": [
       "   userId  movieId  rating            timestamp\n",
       "0       1        2   3.500  2005-04-02 23:53:47\n",
       "1       1       29   3.500  2005-04-02 23:31:16\n",
       "2       1       32   3.500  2005-04-02 23:33:39\n",
       "3       1       47   3.500  2005-04-02 23:32:07\n",
       "4       1       50   3.500  2005-04-02 23:29:40"
      ]
     },
     "execution_count": 5,
     "metadata": {},
     "output_type": "execute_result"
    }
   ],
   "source": [
    "rating = pd.read_csv('/kaggle/input/movielens-20m-dataset/rating.csv')\n",
    "rating.head()"
   ]
  },
  {
   "cell_type": "code",
   "execution_count": 6,
   "id": "a1712779",
   "metadata": {
    "execution": {
     "iopub.execute_input": "2024-09-25T13:55:19.953049Z",
     "iopub.status.busy": "2024-09-25T13:55:19.952602Z",
     "iopub.status.idle": "2024-09-25T13:55:19.961189Z",
     "shell.execute_reply": "2024-09-25T13:55:19.959893Z"
    },
    "papermill": {
     "duration": 0.035096,
     "end_time": "2024-09-25T13:55:19.964044",
     "exception": false,
     "start_time": "2024-09-25T13:55:19.928948",
     "status": "completed"
    },
    "tags": []
   },
   "outputs": [
    {
     "data": {
      "text/plain": [
       "(20000263, 4)"
      ]
     },
     "execution_count": 6,
     "metadata": {},
     "output_type": "execute_result"
    }
   ],
   "source": [
    "rating.shape"
   ]
  },
  {
   "cell_type": "markdown",
   "id": "918936d4",
   "metadata": {
    "papermill": {
     "duration": 0.023353,
     "end_time": "2024-09-25T13:55:20.010064",
     "exception": false,
     "start_time": "2024-09-25T13:55:19.986711",
     "status": "completed"
    },
    "tags": []
   },
   "source": [
    "Merging the datasets"
   ]
  },
  {
   "cell_type": "code",
   "execution_count": 7,
   "id": "da9dace3",
   "metadata": {
    "execution": {
     "iopub.execute_input": "2024-09-25T13:55:20.057073Z",
     "iopub.status.busy": "2024-09-25T13:55:20.056475Z",
     "iopub.status.idle": "2024-09-25T13:55:28.476488Z",
     "shell.execute_reply": "2024-09-25T13:55:28.475303Z"
    },
    "papermill": {
     "duration": 8.446429,
     "end_time": "2024-09-25T13:55:28.479089",
     "exception": false,
     "start_time": "2024-09-25T13:55:20.032660",
     "status": "completed"
    },
    "tags": []
   },
   "outputs": [
    {
     "data": {
      "text/html": [
       "<div>\n",
       "<style scoped>\n",
       "    .dataframe tbody tr th:only-of-type {\n",
       "        vertical-align: middle;\n",
       "    }\n",
       "\n",
       "    .dataframe tbody tr th {\n",
       "        vertical-align: top;\n",
       "    }\n",
       "\n",
       "    .dataframe thead th {\n",
       "        text-align: right;\n",
       "    }\n",
       "</style>\n",
       "<table border=\"1\" class=\"dataframe\">\n",
       "  <thead>\n",
       "    <tr style=\"text-align: right;\">\n",
       "      <th></th>\n",
       "      <th>movieId</th>\n",
       "      <th>title</th>\n",
       "      <th>genres</th>\n",
       "      <th>userId</th>\n",
       "      <th>rating</th>\n",
       "      <th>timestamp</th>\n",
       "    </tr>\n",
       "  </thead>\n",
       "  <tbody>\n",
       "    <tr>\n",
       "      <th>0</th>\n",
       "      <td>1</td>\n",
       "      <td>Toy Story (1995)</td>\n",
       "      <td>Adventure|Animation|Children|Comedy|Fantasy</td>\n",
       "      <td>3</td>\n",
       "      <td>4.000</td>\n",
       "      <td>1999-12-11 13:36:47</td>\n",
       "    </tr>\n",
       "    <tr>\n",
       "      <th>1</th>\n",
       "      <td>1</td>\n",
       "      <td>Toy Story (1995)</td>\n",
       "      <td>Adventure|Animation|Children|Comedy|Fantasy</td>\n",
       "      <td>6</td>\n",
       "      <td>5.000</td>\n",
       "      <td>1997-03-13 17:50:52</td>\n",
       "    </tr>\n",
       "    <tr>\n",
       "      <th>2</th>\n",
       "      <td>1</td>\n",
       "      <td>Toy Story (1995)</td>\n",
       "      <td>Adventure|Animation|Children|Comedy|Fantasy</td>\n",
       "      <td>8</td>\n",
       "      <td>4.000</td>\n",
       "      <td>1996-06-05 13:37:51</td>\n",
       "    </tr>\n",
       "    <tr>\n",
       "      <th>3</th>\n",
       "      <td>1</td>\n",
       "      <td>Toy Story (1995)</td>\n",
       "      <td>Adventure|Animation|Children|Comedy|Fantasy</td>\n",
       "      <td>10</td>\n",
       "      <td>4.000</td>\n",
       "      <td>1999-11-25 02:44:47</td>\n",
       "    </tr>\n",
       "    <tr>\n",
       "      <th>4</th>\n",
       "      <td>1</td>\n",
       "      <td>Toy Story (1995)</td>\n",
       "      <td>Adventure|Animation|Children|Comedy|Fantasy</td>\n",
       "      <td>11</td>\n",
       "      <td>4.500</td>\n",
       "      <td>2009-01-02 01:13:41</td>\n",
       "    </tr>\n",
       "  </tbody>\n",
       "</table>\n",
       "</div>"
      ],
      "text/plain": [
       "   movieId             title                                       genres  userId  rating            timestamp\n",
       "0        1  Toy Story (1995)  Adventure|Animation|Children|Comedy|Fantasy       3   4.000  1999-12-11 13:36:47\n",
       "1        1  Toy Story (1995)  Adventure|Animation|Children|Comedy|Fantasy       6   5.000  1997-03-13 17:50:52\n",
       "2        1  Toy Story (1995)  Adventure|Animation|Children|Comedy|Fantasy       8   4.000  1996-06-05 13:37:51\n",
       "3        1  Toy Story (1995)  Adventure|Animation|Children|Comedy|Fantasy      10   4.000  1999-11-25 02:44:47\n",
       "4        1  Toy Story (1995)  Adventure|Animation|Children|Comedy|Fantasy      11   4.500  2009-01-02 01:13:41"
      ]
     },
     "execution_count": 7,
     "metadata": {},
     "output_type": "execute_result"
    }
   ],
   "source": [
    "df = pd.merge(movie,rating, how=\"inner\", on=\"movieId\")\n",
    "df.head()"
   ]
  },
  {
   "cell_type": "code",
   "execution_count": 8,
   "id": "ed753b49",
   "metadata": {
    "execution": {
     "iopub.execute_input": "2024-09-25T13:55:28.526386Z",
     "iopub.status.busy": "2024-09-25T13:55:28.525895Z",
     "iopub.status.idle": "2024-09-25T13:55:28.534441Z",
     "shell.execute_reply": "2024-09-25T13:55:28.533172Z"
    },
    "papermill": {
     "duration": 0.035372,
     "end_time": "2024-09-25T13:55:28.537022",
     "exception": false,
     "start_time": "2024-09-25T13:55:28.501650",
     "status": "completed"
    },
    "tags": []
   },
   "outputs": [
    {
     "data": {
      "text/plain": [
       "(20000263, 6)"
      ]
     },
     "execution_count": 8,
     "metadata": {},
     "output_type": "execute_result"
    }
   ],
   "source": [
    "df.shape"
   ]
  },
  {
   "cell_type": "code",
   "execution_count": 9,
   "id": "129ad302",
   "metadata": {
    "execution": {
     "iopub.execute_input": "2024-09-25T13:55:28.589266Z",
     "iopub.status.busy": "2024-09-25T13:55:28.587549Z",
     "iopub.status.idle": "2024-09-25T13:55:36.914499Z",
     "shell.execute_reply": "2024-09-25T13:55:36.912879Z"
    },
    "papermill": {
     "duration": 8.357893,
     "end_time": "2024-09-25T13:55:36.917332",
     "exception": false,
     "start_time": "2024-09-25T13:55:28.559439",
     "status": "completed"
    },
    "tags": []
   },
   "outputs": [
    {
     "data": {
      "text/plain": [
       "movieId      0\n",
       "title        0\n",
       "genres       0\n",
       "userId       0\n",
       "rating       0\n",
       "timestamp    0\n",
       "dtype: int64"
      ]
     },
     "execution_count": 9,
     "metadata": {},
     "output_type": "execute_result"
    }
   ],
   "source": [
    "df.isnull().sum()"
   ]
  },
  {
   "cell_type": "markdown",
   "id": "7687a190",
   "metadata": {
    "papermill": {
     "duration": 0.022275,
     "end_time": "2024-09-25T13:55:36.962500",
     "exception": false,
     "start_time": "2024-09-25T13:55:36.940225",
     "status": "completed"
    },
    "tags": []
   },
   "source": [
    "Calculate the total number of votes for each movie and creating a dataframe for it"
   ]
  },
  {
   "cell_type": "code",
   "execution_count": 10,
   "id": "f691b9fd",
   "metadata": {
    "execution": {
     "iopub.execute_input": "2024-09-25T13:55:37.009673Z",
     "iopub.status.busy": "2024-09-25T13:55:37.009179Z",
     "iopub.status.idle": "2024-09-25T13:55:39.833670Z",
     "shell.execute_reply": "2024-09-25T13:55:39.832401Z"
    },
    "papermill": {
     "duration": 2.851641,
     "end_time": "2024-09-25T13:55:39.836558",
     "exception": false,
     "start_time": "2024-09-25T13:55:36.984917",
     "status": "completed"
    },
    "tags": []
   },
   "outputs": [
    {
     "data": {
      "text/html": [
       "<div>\n",
       "<style scoped>\n",
       "    .dataframe tbody tr th:only-of-type {\n",
       "        vertical-align: middle;\n",
       "    }\n",
       "\n",
       "    .dataframe tbody tr th {\n",
       "        vertical-align: top;\n",
       "    }\n",
       "\n",
       "    .dataframe thead th {\n",
       "        text-align: right;\n",
       "    }\n",
       "</style>\n",
       "<table border=\"1\" class=\"dataframe\">\n",
       "  <thead>\n",
       "    <tr style=\"text-align: right;\">\n",
       "      <th></th>\n",
       "      <th>count</th>\n",
       "    </tr>\n",
       "    <tr>\n",
       "      <th>title</th>\n",
       "      <th></th>\n",
       "    </tr>\n",
       "  </thead>\n",
       "  <tbody>\n",
       "    <tr>\n",
       "      <th>Pulp Fiction (1994)</th>\n",
       "      <td>67310</td>\n",
       "    </tr>\n",
       "    <tr>\n",
       "      <th>Forrest Gump (1994)</th>\n",
       "      <td>66172</td>\n",
       "    </tr>\n",
       "    <tr>\n",
       "      <th>Shawshank Redemption, The (1994)</th>\n",
       "      <td>63366</td>\n",
       "    </tr>\n",
       "    <tr>\n",
       "      <th>Silence of the Lambs, The (1991)</th>\n",
       "      <td>63299</td>\n",
       "    </tr>\n",
       "    <tr>\n",
       "      <th>Jurassic Park (1993)</th>\n",
       "      <td>59715</td>\n",
       "    </tr>\n",
       "  </tbody>\n",
       "</table>\n",
       "</div>"
      ],
      "text/plain": [
       "                                  count\n",
       "title                                  \n",
       "Pulp Fiction (1994)               67310\n",
       "Forrest Gump (1994)               66172\n",
       "Shawshank Redemption, The (1994)  63366\n",
       "Silence of the Lambs, The (1991)  63299\n",
       "Jurassic Park (1993)              59715"
      ]
     },
     "execution_count": 10,
     "metadata": {},
     "output_type": "execute_result"
    }
   ],
   "source": [
    "comment_counts = pd.DataFrame(df[\"title\"].value_counts())\n",
    "comment_counts.head()"
   ]
  },
  {
   "cell_type": "markdown",
   "id": "18ff59b3",
   "metadata": {
    "papermill": {
     "duration": 0.023104,
     "end_time": "2024-09-25T13:55:39.882859",
     "exception": false,
     "start_time": "2024-09-25T13:55:39.859755",
     "status": "completed"
    },
    "tags": []
   },
   "source": [
    "We keep the names of the movies with less than 1000 total votes in 'rare_movies' and movies with more than 1000 votes in \"common_movies\"."
   ]
  },
  {
   "cell_type": "code",
   "execution_count": 11,
   "id": "f5828908",
   "metadata": {
    "execution": {
     "iopub.execute_input": "2024-09-25T13:55:39.931546Z",
     "iopub.status.busy": "2024-09-25T13:55:39.931071Z",
     "iopub.status.idle": "2024-09-25T13:55:39.947548Z",
     "shell.execute_reply": "2024-09-25T13:55:39.946287Z"
    },
    "papermill": {
     "duration": 0.043474,
     "end_time": "2024-09-25T13:55:39.950076",
     "exception": false,
     "start_time": "2024-09-25T13:55:39.906602",
     "status": "completed"
    },
    "tags": []
   },
   "outputs": [
    {
     "name": "stdout",
     "output_type": "stream",
     "text": [
      "Index(['Rosewood (1997)', 'One Night at McCool's (2001)', 'Ted (2012)', 'Bear, The (Ours, L') (1988)', 'Marked for Death (1990)', 'Adam's Rib (1949)', 'Three to Tango (1999)', 'Stakeout (1987)', 'I Now Pronounce You Chuck and Larry (2007)', 'Someone Like You (2001)',\n",
      "       ...\n",
      "       'Expert, The (1995)', 'Goliath Awaits (1981)', 'Short Eyes (1977)', 'Restless Souls (Bag det stille ydre) (2005)', 'Cold Trail (Köld slóð) (2006)', 'Easy Wheels (1989)', 'Ditirambo (1969)', 'Scorching Winds (Garm Hava) (Garam Hawa) (1974)', 'Serrallonga (2008)', 'Innocence (2014)'], dtype='object', name='title', length=23570)\n"
     ]
    }
   ],
   "source": [
    "rare_movies = comment_counts[comment_counts[\"count\"] < 1000].index\n",
    "print(rare_movies)"
   ]
  },
  {
   "cell_type": "code",
   "execution_count": 12,
   "id": "0df1a969",
   "metadata": {
    "execution": {
     "iopub.execute_input": "2024-09-25T13:55:39.998451Z",
     "iopub.status.busy": "2024-09-25T13:55:39.997521Z",
     "iopub.status.idle": "2024-09-25T13:55:44.188202Z",
     "shell.execute_reply": "2024-09-25T13:55:44.186816Z"
    },
    "papermill": {
     "duration": 4.218013,
     "end_time": "2024-09-25T13:55:44.191036",
     "exception": false,
     "start_time": "2024-09-25T13:55:39.973023",
     "status": "completed"
    },
    "tags": []
   },
   "outputs": [
    {
     "data": {
      "text/html": [
       "<div>\n",
       "<style scoped>\n",
       "    .dataframe tbody tr th:only-of-type {\n",
       "        vertical-align: middle;\n",
       "    }\n",
       "\n",
       "    .dataframe tbody tr th {\n",
       "        vertical-align: top;\n",
       "    }\n",
       "\n",
       "    .dataframe thead th {\n",
       "        text-align: right;\n",
       "    }\n",
       "</style>\n",
       "<table border=\"1\" class=\"dataframe\">\n",
       "  <thead>\n",
       "    <tr style=\"text-align: right;\">\n",
       "      <th></th>\n",
       "      <th>movieId</th>\n",
       "      <th>title</th>\n",
       "      <th>genres</th>\n",
       "      <th>userId</th>\n",
       "      <th>rating</th>\n",
       "      <th>timestamp</th>\n",
       "    </tr>\n",
       "  </thead>\n",
       "  <tbody>\n",
       "    <tr>\n",
       "      <th>0</th>\n",
       "      <td>1</td>\n",
       "      <td>Toy Story (1995)</td>\n",
       "      <td>Adventure|Animation|Children|Comedy|Fantasy</td>\n",
       "      <td>3</td>\n",
       "      <td>4.000</td>\n",
       "      <td>1999-12-11 13:36:47</td>\n",
       "    </tr>\n",
       "    <tr>\n",
       "      <th>1</th>\n",
       "      <td>1</td>\n",
       "      <td>Toy Story (1995)</td>\n",
       "      <td>Adventure|Animation|Children|Comedy|Fantasy</td>\n",
       "      <td>6</td>\n",
       "      <td>5.000</td>\n",
       "      <td>1997-03-13 17:50:52</td>\n",
       "    </tr>\n",
       "    <tr>\n",
       "      <th>2</th>\n",
       "      <td>1</td>\n",
       "      <td>Toy Story (1995)</td>\n",
       "      <td>Adventure|Animation|Children|Comedy|Fantasy</td>\n",
       "      <td>8</td>\n",
       "      <td>4.000</td>\n",
       "      <td>1996-06-05 13:37:51</td>\n",
       "    </tr>\n",
       "    <tr>\n",
       "      <th>3</th>\n",
       "      <td>1</td>\n",
       "      <td>Toy Story (1995)</td>\n",
       "      <td>Adventure|Animation|Children|Comedy|Fantasy</td>\n",
       "      <td>10</td>\n",
       "      <td>4.000</td>\n",
       "      <td>1999-11-25 02:44:47</td>\n",
       "    </tr>\n",
       "    <tr>\n",
       "      <th>4</th>\n",
       "      <td>1</td>\n",
       "      <td>Toy Story (1995)</td>\n",
       "      <td>Adventure|Animation|Children|Comedy|Fantasy</td>\n",
       "      <td>11</td>\n",
       "      <td>4.500</td>\n",
       "      <td>2009-01-02 01:13:41</td>\n",
       "    </tr>\n",
       "  </tbody>\n",
       "</table>\n",
       "</div>"
      ],
      "text/plain": [
       "   movieId             title                                       genres  userId  rating            timestamp\n",
       "0        1  Toy Story (1995)  Adventure|Animation|Children|Comedy|Fantasy       3   4.000  1999-12-11 13:36:47\n",
       "1        1  Toy Story (1995)  Adventure|Animation|Children|Comedy|Fantasy       6   5.000  1997-03-13 17:50:52\n",
       "2        1  Toy Story (1995)  Adventure|Animation|Children|Comedy|Fantasy       8   4.000  1996-06-05 13:37:51\n",
       "3        1  Toy Story (1995)  Adventure|Animation|Children|Comedy|Fantasy      10   4.000  1999-11-25 02:44:47\n",
       "4        1  Toy Story (1995)  Adventure|Animation|Children|Comedy|Fantasy      11   4.500  2009-01-02 01:13:41"
      ]
     },
     "execution_count": 12,
     "metadata": {},
     "output_type": "execute_result"
    }
   ],
   "source": [
    "common_movies = df[~df[\"title\"].isin(rare_movies)]\n",
    "common_movies.head()"
   ]
  },
  {
   "cell_type": "code",
   "execution_count": 13,
   "id": "e20292ab",
   "metadata": {
    "execution": {
     "iopub.execute_input": "2024-09-25T13:55:44.240473Z",
     "iopub.status.busy": "2024-09-25T13:55:44.239169Z",
     "iopub.status.idle": "2024-09-25T13:55:46.171133Z",
     "shell.execute_reply": "2024-09-25T13:55:46.169835Z"
    },
    "papermill": {
     "duration": 1.960172,
     "end_time": "2024-09-25T13:55:46.174180",
     "exception": false,
     "start_time": "2024-09-25T13:55:44.214008",
     "status": "completed"
    },
    "tags": []
   },
   "outputs": [
    {
     "data": {
      "text/plain": [
       "3159"
      ]
     },
     "execution_count": 13,
     "metadata": {},
     "output_type": "execute_result"
    }
   ],
   "source": [
    "common_movies[\"title\"].nunique()"
   ]
  },
  {
   "cell_type": "markdown",
   "id": "bbfb572b",
   "metadata": {
    "papermill": {
     "duration": 0.024307,
     "end_time": "2024-09-25T13:55:46.222774",
     "exception": false,
     "start_time": "2024-09-25T13:55:46.198467",
     "status": "completed"
    },
    "tags": []
   },
   "source": [
    "Creating a pivot table for the dataframe with userIDs in the index, movie names in the columns, and ratings as values."
   ]
  },
  {
   "cell_type": "code",
   "execution_count": 14,
   "id": "aabeaa08",
   "metadata": {
    "execution": {
     "iopub.execute_input": "2024-09-25T13:55:46.274367Z",
     "iopub.status.busy": "2024-09-25T13:55:46.273133Z",
     "iopub.status.idle": "2024-09-25T13:56:04.689769Z",
     "shell.execute_reply": "2024-09-25T13:56:04.688421Z"
    },
    "papermill": {
     "duration": 18.445915,
     "end_time": "2024-09-25T13:56:04.692797",
     "exception": false,
     "start_time": "2024-09-25T13:55:46.246882",
     "status": "completed"
    },
    "tags": []
   },
   "outputs": [
    {
     "data": {
      "text/html": [
       "<div>\n",
       "<style scoped>\n",
       "    .dataframe tbody tr th:only-of-type {\n",
       "        vertical-align: middle;\n",
       "    }\n",
       "\n",
       "    .dataframe tbody tr th {\n",
       "        vertical-align: top;\n",
       "    }\n",
       "\n",
       "    .dataframe thead th {\n",
       "        text-align: right;\n",
       "    }\n",
       "</style>\n",
       "<table border=\"1\" class=\"dataframe\">\n",
       "  <thead>\n",
       "    <tr style=\"text-align: right;\">\n",
       "      <th>title</th>\n",
       "      <th>'burbs, The (1989)</th>\n",
       "      <th>(500) Days of Summer (2009)</th>\n",
       "      <th>*batteries not included (1987)</th>\n",
       "      <th>...And Justice for All (1979)</th>\n",
       "      <th>10 Things I Hate About You (1999)</th>\n",
       "      <th>...</th>\n",
       "      <th>Zulu (1964)</th>\n",
       "      <th>[REC] (2007)</th>\n",
       "      <th>eXistenZ (1999)</th>\n",
       "      <th>xXx (2002)</th>\n",
       "      <th>¡Three Amigos! (1986)</th>\n",
       "    </tr>\n",
       "    <tr>\n",
       "      <th>userId</th>\n",
       "      <th></th>\n",
       "      <th></th>\n",
       "      <th></th>\n",
       "      <th></th>\n",
       "      <th></th>\n",
       "      <th></th>\n",
       "      <th></th>\n",
       "      <th></th>\n",
       "      <th></th>\n",
       "      <th></th>\n",
       "      <th></th>\n",
       "    </tr>\n",
       "  </thead>\n",
       "  <tbody>\n",
       "    <tr>\n",
       "      <th>1</th>\n",
       "      <td>NaN</td>\n",
       "      <td>NaN</td>\n",
       "      <td>NaN</td>\n",
       "      <td>NaN</td>\n",
       "      <td>NaN</td>\n",
       "      <td>...</td>\n",
       "      <td>NaN</td>\n",
       "      <td>NaN</td>\n",
       "      <td>NaN</td>\n",
       "      <td>NaN</td>\n",
       "      <td>NaN</td>\n",
       "    </tr>\n",
       "    <tr>\n",
       "      <th>2</th>\n",
       "      <td>NaN</td>\n",
       "      <td>NaN</td>\n",
       "      <td>NaN</td>\n",
       "      <td>NaN</td>\n",
       "      <td>NaN</td>\n",
       "      <td>...</td>\n",
       "      <td>NaN</td>\n",
       "      <td>NaN</td>\n",
       "      <td>NaN</td>\n",
       "      <td>NaN</td>\n",
       "      <td>NaN</td>\n",
       "    </tr>\n",
       "    <tr>\n",
       "      <th>3</th>\n",
       "      <td>NaN</td>\n",
       "      <td>NaN</td>\n",
       "      <td>NaN</td>\n",
       "      <td>NaN</td>\n",
       "      <td>NaN</td>\n",
       "      <td>...</td>\n",
       "      <td>NaN</td>\n",
       "      <td>NaN</td>\n",
       "      <td>NaN</td>\n",
       "      <td>NaN</td>\n",
       "      <td>NaN</td>\n",
       "    </tr>\n",
       "    <tr>\n",
       "      <th>4</th>\n",
       "      <td>NaN</td>\n",
       "      <td>NaN</td>\n",
       "      <td>NaN</td>\n",
       "      <td>NaN</td>\n",
       "      <td>NaN</td>\n",
       "      <td>...</td>\n",
       "      <td>NaN</td>\n",
       "      <td>NaN</td>\n",
       "      <td>NaN</td>\n",
       "      <td>NaN</td>\n",
       "      <td>NaN</td>\n",
       "    </tr>\n",
       "    <tr>\n",
       "      <th>5</th>\n",
       "      <td>NaN</td>\n",
       "      <td>NaN</td>\n",
       "      <td>NaN</td>\n",
       "      <td>NaN</td>\n",
       "      <td>NaN</td>\n",
       "      <td>...</td>\n",
       "      <td>NaN</td>\n",
       "      <td>NaN</td>\n",
       "      <td>NaN</td>\n",
       "      <td>NaN</td>\n",
       "      <td>NaN</td>\n",
       "    </tr>\n",
       "    <tr>\n",
       "      <th>6</th>\n",
       "      <td>NaN</td>\n",
       "      <td>NaN</td>\n",
       "      <td>NaN</td>\n",
       "      <td>NaN</td>\n",
       "      <td>NaN</td>\n",
       "      <td>...</td>\n",
       "      <td>NaN</td>\n",
       "      <td>NaN</td>\n",
       "      <td>NaN</td>\n",
       "      <td>NaN</td>\n",
       "      <td>NaN</td>\n",
       "    </tr>\n",
       "    <tr>\n",
       "      <th>7</th>\n",
       "      <td>NaN</td>\n",
       "      <td>NaN</td>\n",
       "      <td>NaN</td>\n",
       "      <td>NaN</td>\n",
       "      <td>NaN</td>\n",
       "      <td>...</td>\n",
       "      <td>NaN</td>\n",
       "      <td>NaN</td>\n",
       "      <td>NaN</td>\n",
       "      <td>NaN</td>\n",
       "      <td>2.000</td>\n",
       "    </tr>\n",
       "    <tr>\n",
       "      <th>8</th>\n",
       "      <td>NaN</td>\n",
       "      <td>NaN</td>\n",
       "      <td>NaN</td>\n",
       "      <td>NaN</td>\n",
       "      <td>NaN</td>\n",
       "      <td>...</td>\n",
       "      <td>NaN</td>\n",
       "      <td>NaN</td>\n",
       "      <td>NaN</td>\n",
       "      <td>NaN</td>\n",
       "      <td>NaN</td>\n",
       "    </tr>\n",
       "    <tr>\n",
       "      <th>9</th>\n",
       "      <td>NaN</td>\n",
       "      <td>NaN</td>\n",
       "      <td>NaN</td>\n",
       "      <td>NaN</td>\n",
       "      <td>NaN</td>\n",
       "      <td>...</td>\n",
       "      <td>NaN</td>\n",
       "      <td>NaN</td>\n",
       "      <td>NaN</td>\n",
       "      <td>NaN</td>\n",
       "      <td>NaN</td>\n",
       "    </tr>\n",
       "    <tr>\n",
       "      <th>10</th>\n",
       "      <td>NaN</td>\n",
       "      <td>NaN</td>\n",
       "      <td>NaN</td>\n",
       "      <td>NaN</td>\n",
       "      <td>NaN</td>\n",
       "      <td>...</td>\n",
       "      <td>NaN</td>\n",
       "      <td>NaN</td>\n",
       "      <td>NaN</td>\n",
       "      <td>NaN</td>\n",
       "      <td>NaN</td>\n",
       "    </tr>\n",
       "    <tr>\n",
       "      <th>11</th>\n",
       "      <td>NaN</td>\n",
       "      <td>NaN</td>\n",
       "      <td>5.000</td>\n",
       "      <td>NaN</td>\n",
       "      <td>5.000</td>\n",
       "      <td>...</td>\n",
       "      <td>NaN</td>\n",
       "      <td>NaN</td>\n",
       "      <td>5.000</td>\n",
       "      <td>NaN</td>\n",
       "      <td>NaN</td>\n",
       "    </tr>\n",
       "    <tr>\n",
       "      <th>12</th>\n",
       "      <td>NaN</td>\n",
       "      <td>NaN</td>\n",
       "      <td>NaN</td>\n",
       "      <td>NaN</td>\n",
       "      <td>NaN</td>\n",
       "      <td>...</td>\n",
       "      <td>NaN</td>\n",
       "      <td>NaN</td>\n",
       "      <td>NaN</td>\n",
       "      <td>NaN</td>\n",
       "      <td>NaN</td>\n",
       "    </tr>\n",
       "    <tr>\n",
       "      <th>13</th>\n",
       "      <td>NaN</td>\n",
       "      <td>NaN</td>\n",
       "      <td>NaN</td>\n",
       "      <td>NaN</td>\n",
       "      <td>NaN</td>\n",
       "      <td>...</td>\n",
       "      <td>NaN</td>\n",
       "      <td>NaN</td>\n",
       "      <td>NaN</td>\n",
       "      <td>NaN</td>\n",
       "      <td>NaN</td>\n",
       "    </tr>\n",
       "    <tr>\n",
       "      <th>14</th>\n",
       "      <td>NaN</td>\n",
       "      <td>NaN</td>\n",
       "      <td>NaN</td>\n",
       "      <td>NaN</td>\n",
       "      <td>NaN</td>\n",
       "      <td>...</td>\n",
       "      <td>NaN</td>\n",
       "      <td>NaN</td>\n",
       "      <td>NaN</td>\n",
       "      <td>NaN</td>\n",
       "      <td>NaN</td>\n",
       "    </tr>\n",
       "    <tr>\n",
       "      <th>15</th>\n",
       "      <td>NaN</td>\n",
       "      <td>NaN</td>\n",
       "      <td>NaN</td>\n",
       "      <td>NaN</td>\n",
       "      <td>NaN</td>\n",
       "      <td>...</td>\n",
       "      <td>NaN</td>\n",
       "      <td>NaN</td>\n",
       "      <td>NaN</td>\n",
       "      <td>NaN</td>\n",
       "      <td>NaN</td>\n",
       "    </tr>\n",
       "    <tr>\n",
       "      <th>16</th>\n",
       "      <td>NaN</td>\n",
       "      <td>NaN</td>\n",
       "      <td>NaN</td>\n",
       "      <td>NaN</td>\n",
       "      <td>NaN</td>\n",
       "      <td>...</td>\n",
       "      <td>NaN</td>\n",
       "      <td>NaN</td>\n",
       "      <td>NaN</td>\n",
       "      <td>NaN</td>\n",
       "      <td>NaN</td>\n",
       "    </tr>\n",
       "    <tr>\n",
       "      <th>17</th>\n",
       "      <td>NaN</td>\n",
       "      <td>NaN</td>\n",
       "      <td>NaN</td>\n",
       "      <td>NaN</td>\n",
       "      <td>NaN</td>\n",
       "      <td>...</td>\n",
       "      <td>NaN</td>\n",
       "      <td>NaN</td>\n",
       "      <td>NaN</td>\n",
       "      <td>NaN</td>\n",
       "      <td>NaN</td>\n",
       "    </tr>\n",
       "    <tr>\n",
       "      <th>18</th>\n",
       "      <td>NaN</td>\n",
       "      <td>NaN</td>\n",
       "      <td>NaN</td>\n",
       "      <td>NaN</td>\n",
       "      <td>NaN</td>\n",
       "      <td>...</td>\n",
       "      <td>NaN</td>\n",
       "      <td>NaN</td>\n",
       "      <td>NaN</td>\n",
       "      <td>NaN</td>\n",
       "      <td>NaN</td>\n",
       "    </tr>\n",
       "    <tr>\n",
       "      <th>19</th>\n",
       "      <td>NaN</td>\n",
       "      <td>NaN</td>\n",
       "      <td>NaN</td>\n",
       "      <td>NaN</td>\n",
       "      <td>NaN</td>\n",
       "      <td>...</td>\n",
       "      <td>NaN</td>\n",
       "      <td>NaN</td>\n",
       "      <td>NaN</td>\n",
       "      <td>NaN</td>\n",
       "      <td>NaN</td>\n",
       "    </tr>\n",
       "    <tr>\n",
       "      <th>20</th>\n",
       "      <td>NaN</td>\n",
       "      <td>NaN</td>\n",
       "      <td>NaN</td>\n",
       "      <td>NaN</td>\n",
       "      <td>NaN</td>\n",
       "      <td>...</td>\n",
       "      <td>NaN</td>\n",
       "      <td>NaN</td>\n",
       "      <td>NaN</td>\n",
       "      <td>NaN</td>\n",
       "      <td>NaN</td>\n",
       "    </tr>\n",
       "  </tbody>\n",
       "</table>\n",
       "<p>20 rows × 3159 columns</p>\n",
       "</div>"
      ],
      "text/plain": [
       "title   'burbs, The (1989)  (500) Days of Summer (2009)  *batteries not included (1987)  ...And Justice for All (1979)  10 Things I Hate About You (1999)  ...  Zulu (1964)  [REC] (2007)  eXistenZ (1999)  xXx (2002)  ¡Three Amigos! (1986)\n",
       "userId                                                                                                                                                     ...                                                                               \n",
       "1                      NaN                          NaN                             NaN                            NaN                                NaN  ...          NaN           NaN              NaN         NaN                    NaN\n",
       "2                      NaN                          NaN                             NaN                            NaN                                NaN  ...          NaN           NaN              NaN         NaN                    NaN\n",
       "3                      NaN                          NaN                             NaN                            NaN                                NaN  ...          NaN           NaN              NaN         NaN                    NaN\n",
       "4                      NaN                          NaN                             NaN                            NaN                                NaN  ...          NaN           NaN              NaN         NaN                    NaN\n",
       "5                      NaN                          NaN                             NaN                            NaN                                NaN  ...          NaN           NaN              NaN         NaN                    NaN\n",
       "6                      NaN                          NaN                             NaN                            NaN                                NaN  ...          NaN           NaN              NaN         NaN                    NaN\n",
       "7                      NaN                          NaN                             NaN                            NaN                                NaN  ...          NaN           NaN              NaN         NaN                  2.000\n",
       "8                      NaN                          NaN                             NaN                            NaN                                NaN  ...          NaN           NaN              NaN         NaN                    NaN\n",
       "9                      NaN                          NaN                             NaN                            NaN                                NaN  ...          NaN           NaN              NaN         NaN                    NaN\n",
       "10                     NaN                          NaN                             NaN                            NaN                                NaN  ...          NaN           NaN              NaN         NaN                    NaN\n",
       "11                     NaN                          NaN                           5.000                            NaN                              5.000  ...          NaN           NaN            5.000         NaN                    NaN\n",
       "12                     NaN                          NaN                             NaN                            NaN                                NaN  ...          NaN           NaN              NaN         NaN                    NaN\n",
       "13                     NaN                          NaN                             NaN                            NaN                                NaN  ...          NaN           NaN              NaN         NaN                    NaN\n",
       "14                     NaN                          NaN                             NaN                            NaN                                NaN  ...          NaN           NaN              NaN         NaN                    NaN\n",
       "15                     NaN                          NaN                             NaN                            NaN                                NaN  ...          NaN           NaN              NaN         NaN                    NaN\n",
       "16                     NaN                          NaN                             NaN                            NaN                                NaN  ...          NaN           NaN              NaN         NaN                    NaN\n",
       "17                     NaN                          NaN                             NaN                            NaN                                NaN  ...          NaN           NaN              NaN         NaN                    NaN\n",
       "18                     NaN                          NaN                             NaN                            NaN                                NaN  ...          NaN           NaN              NaN         NaN                    NaN\n",
       "19                     NaN                          NaN                             NaN                            NaN                                NaN  ...          NaN           NaN              NaN         NaN                    NaN\n",
       "20                     NaN                          NaN                             NaN                            NaN                                NaN  ...          NaN           NaN              NaN         NaN                    NaN\n",
       "\n",
       "[20 rows x 3159 columns]"
      ]
     },
     "execution_count": 14,
     "metadata": {},
     "output_type": "execute_result"
    }
   ],
   "source": [
    "#user_movie_df = common_movies.pivot_table(index=[\"userId\"], columns=[\"title\"], values=\"rating\")\n",
    "user_movie_df = common_movies.groupby([\"userId\",\"title\"])[\"rating\"].mean().unstack()\n",
    "user_movie_df.head(20)"
   ]
  },
  {
   "cell_type": "markdown",
   "id": "43474328",
   "metadata": {
    "papermill": {
     "duration": 0.024654,
     "end_time": "2024-09-25T13:56:04.743214",
     "exception": false,
     "start_time": "2024-09-25T13:56:04.718560",
     "status": "completed"
    },
    "tags": []
   },
   "source": [
    "Functionalize all the operations done above"
   ]
  },
  {
   "cell_type": "code",
   "execution_count": 15,
   "id": "fd9ad640",
   "metadata": {
    "execution": {
     "iopub.execute_input": "2024-09-25T13:56:04.794604Z",
     "iopub.status.busy": "2024-09-25T13:56:04.794132Z",
     "iopub.status.idle": "2024-09-25T13:56:04.799833Z",
     "shell.execute_reply": "2024-09-25T13:56:04.798577Z"
    },
    "papermill": {
     "duration": 0.034383,
     "end_time": "2024-09-25T13:56:04.802463",
     "exception": false,
     "start_time": "2024-09-25T13:56:04.768080",
     "status": "completed"
    },
    "tags": []
   },
   "outputs": [],
   "source": [
    "# def create_user_movie_df():\n",
    "#     import pandas as pd\n",
    "#     movie = pd.read_csv('recommender_systems/datasets/movie_lens_dataset/movie.csv')\n",
    "#     rating = pd.read_csv('recommender_systems/datasets/movie_lens_dataset/rating.csv')\n",
    "#     df = movie.merge(rating, how=\"inner\", on=\"movieId\")\n",
    "#     comment_counts = pd.DataFrame(df[\"title\"].value_counts())\n",
    "#     rare_movies = comment_counts[comment_counts[\"title\"] <= 1000].index\n",
    "#     common_movies = df[~df[\"title\"].isin(rare_movies)]\n",
    "#     user_movie_df = common_movies.pivot_table(index=[\"userId\"], columns=[\"title\"], values=\"rating\")\n",
    "#     return user_movie_df\n",
    "\n",
    "# user_movie_df = create_user_movie_df()\n"
   ]
  },
  {
   "cell_type": "markdown",
   "id": "2f0f3808",
   "metadata": {
    "papermill": {
     "duration": 0.023269,
     "end_time": "2024-09-25T13:56:04.850244",
     "exception": false,
     "start_time": "2024-09-25T13:56:04.826975",
     "status": "completed"
    },
    "tags": []
   },
   "source": [
    "Choosing a random user id"
   ]
  },
  {
   "cell_type": "code",
   "execution_count": 16,
   "id": "16c05956",
   "metadata": {
    "execution": {
     "iopub.execute_input": "2024-09-25T13:56:04.899477Z",
     "iopub.status.busy": "2024-09-25T13:56:04.899028Z",
     "iopub.status.idle": "2024-09-25T13:56:04.913578Z",
     "shell.execute_reply": "2024-09-25T13:56:04.912299Z"
    },
    "papermill": {
     "duration": 0.042054,
     "end_time": "2024-09-25T13:56:04.916010",
     "exception": false,
     "start_time": "2024-09-25T13:56:04.873956",
     "status": "completed"
    },
    "tags": []
   },
   "outputs": [
    {
     "name": "stdout",
     "output_type": "stream",
     "text": [
      "28941\n"
     ]
    }
   ],
   "source": [
    "#random_user = int(pd.Series(user_movie_df.index).sample(1, random_state=45).values[0])\n",
    "random_user = user_movie_df.sample(1,random_state=45).index[0]\n",
    "print(random_user)"
   ]
  },
  {
   "cell_type": "markdown",
   "id": "4fc1d603",
   "metadata": {
    "papermill": {
     "duration": 0.024218,
     "end_time": "2024-09-25T13:56:04.963940",
     "exception": false,
     "start_time": "2024-09-25T13:56:04.939722",
     "status": "completed"
    },
    "tags": []
   },
   "source": [
    "Creating a new dataframe named random_user_df consisting of observation units belonging to the selected user."
   ]
  },
  {
   "cell_type": "code",
   "execution_count": 17,
   "id": "bec7a4f0",
   "metadata": {
    "execution": {
     "iopub.execute_input": "2024-09-25T13:56:05.014162Z",
     "iopub.status.busy": "2024-09-25T13:56:05.013626Z",
     "iopub.status.idle": "2024-09-25T13:56:05.032720Z",
     "shell.execute_reply": "2024-09-25T13:56:05.031460Z"
    },
    "papermill": {
     "duration": 0.047213,
     "end_time": "2024-09-25T13:56:05.035385",
     "exception": false,
     "start_time": "2024-09-25T13:56:04.988172",
     "status": "completed"
    },
    "tags": []
   },
   "outputs": [
    {
     "data": {
      "text/html": [
       "<div>\n",
       "<style scoped>\n",
       "    .dataframe tbody tr th:only-of-type {\n",
       "        vertical-align: middle;\n",
       "    }\n",
       "\n",
       "    .dataframe tbody tr th {\n",
       "        vertical-align: top;\n",
       "    }\n",
       "\n",
       "    .dataframe thead th {\n",
       "        text-align: right;\n",
       "    }\n",
       "</style>\n",
       "<table border=\"1\" class=\"dataframe\">\n",
       "  <thead>\n",
       "    <tr style=\"text-align: right;\">\n",
       "      <th>title</th>\n",
       "      <th>'burbs, The (1989)</th>\n",
       "      <th>(500) Days of Summer (2009)</th>\n",
       "      <th>*batteries not included (1987)</th>\n",
       "      <th>...And Justice for All (1979)</th>\n",
       "      <th>10 Things I Hate About You (1999)</th>\n",
       "      <th>...</th>\n",
       "      <th>Zulu (1964)</th>\n",
       "      <th>[REC] (2007)</th>\n",
       "      <th>eXistenZ (1999)</th>\n",
       "      <th>xXx (2002)</th>\n",
       "      <th>¡Three Amigos! (1986)</th>\n",
       "    </tr>\n",
       "    <tr>\n",
       "      <th>userId</th>\n",
       "      <th></th>\n",
       "      <th></th>\n",
       "      <th></th>\n",
       "      <th></th>\n",
       "      <th></th>\n",
       "      <th></th>\n",
       "      <th></th>\n",
       "      <th></th>\n",
       "      <th></th>\n",
       "      <th></th>\n",
       "      <th></th>\n",
       "    </tr>\n",
       "  </thead>\n",
       "  <tbody>\n",
       "    <tr>\n",
       "      <th>28941</th>\n",
       "      <td>NaN</td>\n",
       "      <td>NaN</td>\n",
       "      <td>NaN</td>\n",
       "      <td>NaN</td>\n",
       "      <td>NaN</td>\n",
       "      <td>...</td>\n",
       "      <td>NaN</td>\n",
       "      <td>NaN</td>\n",
       "      <td>NaN</td>\n",
       "      <td>NaN</td>\n",
       "      <td>NaN</td>\n",
       "    </tr>\n",
       "  </tbody>\n",
       "</table>\n",
       "<p>1 rows × 3159 columns</p>\n",
       "</div>"
      ],
      "text/plain": [
       "title   'burbs, The (1989)  (500) Days of Summer (2009)  *batteries not included (1987)  ...And Justice for All (1979)  10 Things I Hate About You (1999)  ...  Zulu (1964)  [REC] (2007)  eXistenZ (1999)  xXx (2002)  ¡Three Amigos! (1986)\n",
       "userId                                                                                                                                                     ...                                                                               \n",
       "28941                  NaN                          NaN                             NaN                            NaN                                NaN  ...          NaN           NaN              NaN         NaN                    NaN\n",
       "\n",
       "[1 rows x 3159 columns]"
      ]
     },
     "execution_count": 17,
     "metadata": {},
     "output_type": "execute_result"
    }
   ],
   "source": [
    "random_user_df = user_movie_df[user_movie_df.index == random_user]\n",
    "random_user_df.head()"
   ]
  },
  {
   "cell_type": "markdown",
   "id": "976f41fe",
   "metadata": {
    "papermill": {
     "duration": 0.023814,
     "end_time": "2024-09-25T13:56:05.083456",
     "exception": false,
     "start_time": "2024-09-25T13:56:05.059642",
     "status": "completed"
    },
    "tags": []
   },
   "source": [
    "Assigning the movies voted by the selected user to a list named movies_watched."
   ]
  },
  {
   "cell_type": "code",
   "execution_count": 18,
   "id": "33e9f018",
   "metadata": {
    "execution": {
     "iopub.execute_input": "2024-09-25T13:56:05.134594Z",
     "iopub.status.busy": "2024-09-25T13:56:05.134141Z",
     "iopub.status.idle": "2024-09-25T13:56:05.142738Z",
     "shell.execute_reply": "2024-09-25T13:56:05.141123Z"
    },
    "papermill": {
     "duration": 0.037767,
     "end_time": "2024-09-25T13:56:05.145826",
     "exception": false,
     "start_time": "2024-09-25T13:56:05.108059",
     "status": "completed"
    },
    "tags": []
   },
   "outputs": [
    {
     "name": "stdout",
     "output_type": "stream",
     "text": [
      "['Ace Ventura: Pet Detective (1994)', 'Ace Ventura: When Nature Calls (1995)', 'Aladdin (1992)', 'American President, The (1995)', 'Apollo 13 (1995)', 'Babe (1995)', 'Bullets Over Broadway (1994)', 'Clueless (1995)', 'Disclosure (1994)', 'Forrest Gump (1994)', 'Four Weddings and a Funeral (1994)', 'Home Alone (1990)', 'Jurassic Park (1993)', 'Like Water for Chocolate (Como agua para chocolate) (1992)', 'Little Women (1994)', \"Mr. Holland's Opus (1995)\", 'Mrs. Doubtfire (1993)', 'Much Ado About Nothing (1993)', \"Muriel's Wedding (1994)\", 'Nine Months (1995)', 'Operation Dumbo Drop (1995)', 'Piano, The (1993)', 'Postman, The (Postino, Il) (1994)', 'Ready to Wear (Pret-A-Porter) (1994)', 'Remains of the Day, The (1993)', 'Sabrina (1995)', \"Schindler's List (1993)\", 'Secret Garden, The (1993)', 'Sense and Sensibility (1995)', 'Shadowlands (1993)', 'Silence of the Lambs, The (1991)', 'Star Trek: Generations (1994)', 'Stargate (1994)']\n"
     ]
    }
   ],
   "source": [
    "movies_watched = random_user_df.columns[random_user_df.notna().any()].tolist()\n",
    "print(movies_watched)"
   ]
  },
  {
   "cell_type": "code",
   "execution_count": 19,
   "id": "532126ac",
   "metadata": {
    "execution": {
     "iopub.execute_input": "2024-09-25T13:56:05.197787Z",
     "iopub.status.busy": "2024-09-25T13:56:05.197318Z",
     "iopub.status.idle": "2024-09-25T13:56:05.205701Z",
     "shell.execute_reply": "2024-09-25T13:56:05.204172Z"
    },
    "papermill": {
     "duration": 0.037528,
     "end_time": "2024-09-25T13:56:05.208484",
     "exception": false,
     "start_time": "2024-09-25T13:56:05.170956",
     "status": "completed"
    },
    "tags": []
   },
   "outputs": [
    {
     "data": {
      "text/plain": [
       "33"
      ]
     },
     "execution_count": 19,
     "metadata": {},
     "output_type": "execute_result"
    }
   ],
   "source": [
    "len(movies_watched)"
   ]
  },
  {
   "cell_type": "markdown",
   "id": "f11fda7d",
   "metadata": {
    "papermill": {
     "duration": 0.024961,
     "end_time": "2024-09-25T13:56:05.261027",
     "exception": false,
     "start_time": "2024-09-25T13:56:05.236066",
     "status": "completed"
    },
    "tags": []
   },
   "source": [
    "Selecting the columns of movies watched by the selected user from user_movie_df and create a new dataframe named movies_watched_df."
   ]
  },
  {
   "cell_type": "code",
   "execution_count": 20,
   "id": "2ad11bec",
   "metadata": {
    "execution": {
     "iopub.execute_input": "2024-09-25T13:56:05.312043Z",
     "iopub.status.busy": "2024-09-25T13:56:05.311539Z",
     "iopub.status.idle": "2024-09-25T13:56:05.395937Z",
     "shell.execute_reply": "2024-09-25T13:56:05.394726Z"
    },
    "papermill": {
     "duration": 0.113213,
     "end_time": "2024-09-25T13:56:05.398720",
     "exception": false,
     "start_time": "2024-09-25T13:56:05.285507",
     "status": "completed"
    },
    "tags": []
   },
   "outputs": [
    {
     "data": {
      "text/html": [
       "<div>\n",
       "<style scoped>\n",
       "    .dataframe tbody tr th:only-of-type {\n",
       "        vertical-align: middle;\n",
       "    }\n",
       "\n",
       "    .dataframe tbody tr th {\n",
       "        vertical-align: top;\n",
       "    }\n",
       "\n",
       "    .dataframe thead th {\n",
       "        text-align: right;\n",
       "    }\n",
       "</style>\n",
       "<table border=\"1\" class=\"dataframe\">\n",
       "  <thead>\n",
       "    <tr style=\"text-align: right;\">\n",
       "      <th>title</th>\n",
       "      <th>Ace Ventura: Pet Detective (1994)</th>\n",
       "      <th>Ace Ventura: When Nature Calls (1995)</th>\n",
       "      <th>Aladdin (1992)</th>\n",
       "      <th>American President, The (1995)</th>\n",
       "      <th>Apollo 13 (1995)</th>\n",
       "      <th>...</th>\n",
       "      <th>Sense and Sensibility (1995)</th>\n",
       "      <th>Shadowlands (1993)</th>\n",
       "      <th>Silence of the Lambs, The (1991)</th>\n",
       "      <th>Star Trek: Generations (1994)</th>\n",
       "      <th>Stargate (1994)</th>\n",
       "    </tr>\n",
       "    <tr>\n",
       "      <th>userId</th>\n",
       "      <th></th>\n",
       "      <th></th>\n",
       "      <th></th>\n",
       "      <th></th>\n",
       "      <th></th>\n",
       "      <th></th>\n",
       "      <th></th>\n",
       "      <th></th>\n",
       "      <th></th>\n",
       "      <th></th>\n",
       "      <th></th>\n",
       "    </tr>\n",
       "  </thead>\n",
       "  <tbody>\n",
       "    <tr>\n",
       "      <th>1</th>\n",
       "      <td>NaN</td>\n",
       "      <td>NaN</td>\n",
       "      <td>NaN</td>\n",
       "      <td>NaN</td>\n",
       "      <td>NaN</td>\n",
       "      <td>...</td>\n",
       "      <td>NaN</td>\n",
       "      <td>NaN</td>\n",
       "      <td>3.500</td>\n",
       "      <td>NaN</td>\n",
       "      <td>NaN</td>\n",
       "    </tr>\n",
       "    <tr>\n",
       "      <th>2</th>\n",
       "      <td>NaN</td>\n",
       "      <td>NaN</td>\n",
       "      <td>NaN</td>\n",
       "      <td>NaN</td>\n",
       "      <td>NaN</td>\n",
       "      <td>...</td>\n",
       "      <td>NaN</td>\n",
       "      <td>NaN</td>\n",
       "      <td>NaN</td>\n",
       "      <td>NaN</td>\n",
       "      <td>NaN</td>\n",
       "    </tr>\n",
       "    <tr>\n",
       "      <th>3</th>\n",
       "      <td>NaN</td>\n",
       "      <td>NaN</td>\n",
       "      <td>NaN</td>\n",
       "      <td>NaN</td>\n",
       "      <td>NaN</td>\n",
       "      <td>...</td>\n",
       "      <td>NaN</td>\n",
       "      <td>NaN</td>\n",
       "      <td>5.000</td>\n",
       "      <td>5.000</td>\n",
       "      <td>5.000</td>\n",
       "    </tr>\n",
       "    <tr>\n",
       "      <th>4</th>\n",
       "      <td>NaN</td>\n",
       "      <td>3.000</td>\n",
       "      <td>NaN</td>\n",
       "      <td>NaN</td>\n",
       "      <td>NaN</td>\n",
       "      <td>...</td>\n",
       "      <td>NaN</td>\n",
       "      <td>NaN</td>\n",
       "      <td>NaN</td>\n",
       "      <td>3.000</td>\n",
       "      <td>NaN</td>\n",
       "    </tr>\n",
       "    <tr>\n",
       "      <th>5</th>\n",
       "      <td>NaN</td>\n",
       "      <td>NaN</td>\n",
       "      <td>5.000</td>\n",
       "      <td>5.000</td>\n",
       "      <td>5.000</td>\n",
       "      <td>...</td>\n",
       "      <td>3.000</td>\n",
       "      <td>NaN</td>\n",
       "      <td>3.000</td>\n",
       "      <td>NaN</td>\n",
       "      <td>4.000</td>\n",
       "    </tr>\n",
       "  </tbody>\n",
       "</table>\n",
       "<p>5 rows × 33 columns</p>\n",
       "</div>"
      ],
      "text/plain": [
       "title   Ace Ventura: Pet Detective (1994)  Ace Ventura: When Nature Calls (1995)  Aladdin (1992)  American President, The (1995)  Apollo 13 (1995)  ...  Sense and Sensibility (1995)  Shadowlands (1993)  Silence of the Lambs, The (1991)  Star Trek: Generations (1994)  Stargate (1994)\n",
       "userId                                                                                                                                              ...                                                                                                                                    \n",
       "1                                     NaN                                    NaN             NaN                             NaN               NaN  ...                           NaN                 NaN                             3.500                            NaN              NaN\n",
       "2                                     NaN                                    NaN             NaN                             NaN               NaN  ...                           NaN                 NaN                               NaN                            NaN              NaN\n",
       "3                                     NaN                                    NaN             NaN                             NaN               NaN  ...                           NaN                 NaN                             5.000                          5.000            5.000\n",
       "4                                     NaN                                  3.000             NaN                             NaN               NaN  ...                           NaN                 NaN                               NaN                          3.000              NaN\n",
       "5                                     NaN                                    NaN           5.000                           5.000             5.000  ...                         3.000                 NaN                             3.000                            NaN            4.000\n",
       "\n",
       "[5 rows x 33 columns]"
      ]
     },
     "execution_count": 20,
     "metadata": {},
     "output_type": "execute_result"
    }
   ],
   "source": [
    "movies_watched_df = user_movie_df[movies_watched]\n",
    "movies_watched_df.head()"
   ]
  },
  {
   "cell_type": "markdown",
   "id": "2bd06698",
   "metadata": {
    "papermill": {
     "duration": 0.024334,
     "end_time": "2024-09-25T13:56:05.513619",
     "exception": false,
     "start_time": "2024-09-25T13:56:05.489285",
     "status": "completed"
    },
    "tags": []
   },
   "source": [
    "Creating a new dataframe named user_movie_count that contains information about how many of the movies each user has watched, reset the index and update the columns' names.\n",
    "\n"
   ]
  },
  {
   "cell_type": "code",
   "execution_count": 21,
   "id": "b13158f6",
   "metadata": {
    "execution": {
     "iopub.execute_input": "2024-09-25T13:56:05.565050Z",
     "iopub.status.busy": "2024-09-25T13:56:05.564548Z",
     "iopub.status.idle": "2024-09-25T13:56:05.619093Z",
     "shell.execute_reply": "2024-09-25T13:56:05.617846Z"
    },
    "papermill": {
     "duration": 0.083423,
     "end_time": "2024-09-25T13:56:05.621730",
     "exception": false,
     "start_time": "2024-09-25T13:56:05.538307",
     "status": "completed"
    },
    "tags": []
   },
   "outputs": [
    {
     "data": {
      "text/plain": [
       "userId\n",
       "1     1\n",
       "2     2\n",
       "3     4\n",
       "4     6\n",
       "5    11\n",
       "dtype: int64"
      ]
     },
     "execution_count": 21,
     "metadata": {},
     "output_type": "execute_result"
    }
   ],
   "source": [
    "#user_movie_count = movies_watched_df.T.notnull().sum()\n",
    "user_movie_count = movies_watched_df.notnull().sum(axis=1)\n",
    "user_movie_count.head()"
   ]
  },
  {
   "cell_type": "code",
   "execution_count": 22,
   "id": "bbe387eb",
   "metadata": {
    "execution": {
     "iopub.execute_input": "2024-09-25T13:56:05.674269Z",
     "iopub.status.busy": "2024-09-25T13:56:05.673175Z",
     "iopub.status.idle": "2024-09-25T13:56:05.682120Z",
     "shell.execute_reply": "2024-09-25T13:56:05.680808Z"
    },
    "papermill": {
     "duration": 0.038082,
     "end_time": "2024-09-25T13:56:05.684659",
     "exception": false,
     "start_time": "2024-09-25T13:56:05.646577",
     "status": "completed"
    },
    "tags": []
   },
   "outputs": [
    {
     "data": {
      "text/plain": [
       "33"
      ]
     },
     "execution_count": 22,
     "metadata": {},
     "output_type": "execute_result"
    }
   ],
   "source": [
    "user_movie_count.max()"
   ]
  },
  {
   "cell_type": "code",
   "execution_count": 23,
   "id": "5d44ef77",
   "metadata": {
    "execution": {
     "iopub.execute_input": "2024-09-25T13:56:05.739540Z",
     "iopub.status.busy": "2024-09-25T13:56:05.739040Z",
     "iopub.status.idle": "2024-09-25T13:56:05.760218Z",
     "shell.execute_reply": "2024-09-25T13:56:05.758772Z"
    },
    "papermill": {
     "duration": 0.05261,
     "end_time": "2024-09-25T13:56:05.763294",
     "exception": false,
     "start_time": "2024-09-25T13:56:05.710684",
     "status": "completed"
    },
    "tags": []
   },
   "outputs": [
    {
     "data": {
      "text/plain": [
       "userId\n",
       "100399    33\n",
       "8405      33\n",
       "46663     33\n",
       "76630     33\n",
       "81218     33\n",
       "81596     33\n",
       "15919     33\n",
       "83090     33\n",
       "118205    33\n",
       "28941     33\n",
       "41389     33\n",
       "94231     33\n",
       "125912    33\n",
       "137391    33\n",
       "13938     33\n",
       "124052    33\n",
       "130986    33\n",
       "112939    32\n",
       "121956    32\n",
       "88604     32\n",
       "dtype: int64"
      ]
     },
     "execution_count": 23,
     "metadata": {},
     "output_type": "execute_result"
    }
   ],
   "source": [
    "user_movie_count.sort_values(ascending=False).head(20)"
   ]
  },
  {
   "cell_type": "code",
   "execution_count": 24,
   "id": "13063c9e",
   "metadata": {
    "execution": {
     "iopub.execute_input": "2024-09-25T13:56:05.817044Z",
     "iopub.status.busy": "2024-09-25T13:56:05.816559Z",
     "iopub.status.idle": "2024-09-25T13:56:05.831436Z",
     "shell.execute_reply": "2024-09-25T13:56:05.829770Z"
    },
    "papermill": {
     "duration": 0.044464,
     "end_time": "2024-09-25T13:56:05.834154",
     "exception": false,
     "start_time": "2024-09-25T13:56:05.789690",
     "status": "completed"
    },
    "tags": []
   },
   "outputs": [
    {
     "data": {
      "text/html": [
       "<div>\n",
       "<style scoped>\n",
       "    .dataframe tbody tr th:only-of-type {\n",
       "        vertical-align: middle;\n",
       "    }\n",
       "\n",
       "    .dataframe tbody tr th {\n",
       "        vertical-align: top;\n",
       "    }\n",
       "\n",
       "    .dataframe thead th {\n",
       "        text-align: right;\n",
       "    }\n",
       "</style>\n",
       "<table border=\"1\" class=\"dataframe\">\n",
       "  <thead>\n",
       "    <tr style=\"text-align: right;\">\n",
       "      <th></th>\n",
       "      <th>userId</th>\n",
       "      <th>0</th>\n",
       "    </tr>\n",
       "  </thead>\n",
       "  <tbody>\n",
       "    <tr>\n",
       "      <th>0</th>\n",
       "      <td>1</td>\n",
       "      <td>1</td>\n",
       "    </tr>\n",
       "    <tr>\n",
       "      <th>1</th>\n",
       "      <td>2</td>\n",
       "      <td>2</td>\n",
       "    </tr>\n",
       "    <tr>\n",
       "      <th>2</th>\n",
       "      <td>3</td>\n",
       "      <td>4</td>\n",
       "    </tr>\n",
       "    <tr>\n",
       "      <th>3</th>\n",
       "      <td>4</td>\n",
       "      <td>6</td>\n",
       "    </tr>\n",
       "    <tr>\n",
       "      <th>4</th>\n",
       "      <td>5</td>\n",
       "      <td>11</td>\n",
       "    </tr>\n",
       "  </tbody>\n",
       "</table>\n",
       "</div>"
      ],
      "text/plain": [
       "   userId   0\n",
       "0       1   1\n",
       "1       2   2\n",
       "2       3   4\n",
       "3       4   6\n",
       "4       5  11"
      ]
     },
     "execution_count": 24,
     "metadata": {},
     "output_type": "execute_result"
    }
   ],
   "source": [
    "user_movie_count = user_movie_count.reset_index()\n",
    "user_movie_count.head()"
   ]
  },
  {
   "cell_type": "code",
   "execution_count": 25,
   "id": "29806ff7",
   "metadata": {
    "execution": {
     "iopub.execute_input": "2024-09-25T13:56:05.888096Z",
     "iopub.status.busy": "2024-09-25T13:56:05.887621Z",
     "iopub.status.idle": "2024-09-25T13:56:05.900066Z",
     "shell.execute_reply": "2024-09-25T13:56:05.898704Z"
    },
    "papermill": {
     "duration": 0.042622,
     "end_time": "2024-09-25T13:56:05.902991",
     "exception": false,
     "start_time": "2024-09-25T13:56:05.860369",
     "status": "completed"
    },
    "tags": []
   },
   "outputs": [
    {
     "data": {
      "text/html": [
       "<div>\n",
       "<style scoped>\n",
       "    .dataframe tbody tr th:only-of-type {\n",
       "        vertical-align: middle;\n",
       "    }\n",
       "\n",
       "    .dataframe tbody tr th {\n",
       "        vertical-align: top;\n",
       "    }\n",
       "\n",
       "    .dataframe thead th {\n",
       "        text-align: right;\n",
       "    }\n",
       "</style>\n",
       "<table border=\"1\" class=\"dataframe\">\n",
       "  <thead>\n",
       "    <tr style=\"text-align: right;\">\n",
       "      <th></th>\n",
       "      <th>userId</th>\n",
       "      <th>movie_count</th>\n",
       "    </tr>\n",
       "  </thead>\n",
       "  <tbody>\n",
       "    <tr>\n",
       "      <th>0</th>\n",
       "      <td>1</td>\n",
       "      <td>1</td>\n",
       "    </tr>\n",
       "    <tr>\n",
       "      <th>1</th>\n",
       "      <td>2</td>\n",
       "      <td>2</td>\n",
       "    </tr>\n",
       "    <tr>\n",
       "      <th>2</th>\n",
       "      <td>3</td>\n",
       "      <td>4</td>\n",
       "    </tr>\n",
       "    <tr>\n",
       "      <th>3</th>\n",
       "      <td>4</td>\n",
       "      <td>6</td>\n",
       "    </tr>\n",
       "    <tr>\n",
       "      <th>4</th>\n",
       "      <td>5</td>\n",
       "      <td>11</td>\n",
       "    </tr>\n",
       "  </tbody>\n",
       "</table>\n",
       "</div>"
      ],
      "text/plain": [
       "   userId  movie_count\n",
       "0       1            1\n",
       "1       2            2\n",
       "2       3            4\n",
       "3       4            6\n",
       "4       5           11"
      ]
     },
     "execution_count": 25,
     "metadata": {},
     "output_type": "execute_result"
    }
   ],
   "source": [
    "user_movie_count.columns = [\"userId\", \"movie_count\"]\n",
    "user_movie_count.head()"
   ]
  },
  {
   "cell_type": "markdown",
   "id": "4f830ba6",
   "metadata": {
    "papermill": {
     "duration": 0.025753,
     "end_time": "2024-09-25T13:56:05.955658",
     "exception": false,
     "start_time": "2024-09-25T13:56:05.929905",
     "status": "completed"
    },
    "tags": []
   },
   "source": [
    "We consider similar users to be those who have watched 60 percent or more of the movies voted by the selected user.  Create a list named users_same_movies from the IDs of these users."
   ]
  },
  {
   "cell_type": "code",
   "execution_count": 26,
   "id": "cbe3d27b",
   "metadata": {
    "execution": {
     "iopub.execute_input": "2024-09-25T13:56:06.011313Z",
     "iopub.status.busy": "2024-09-25T13:56:06.009866Z",
     "iopub.status.idle": "2024-09-25T13:56:06.019977Z",
     "shell.execute_reply": "2024-09-25T13:56:06.018762Z"
    },
    "papermill": {
     "duration": 0.041029,
     "end_time": "2024-09-25T13:56:06.022967",
     "exception": false,
     "start_time": "2024-09-25T13:56:05.981938",
     "status": "completed"
    },
    "tags": []
   },
   "outputs": [],
   "source": [
    "perc = round(len(movies_watched) * 60 / 100)\n",
    "users_same_movies = user_movie_count[user_movie_count[\"movie_count\"] > perc][\"userId\"].tolist()\n",
    "\n",
    "#users_same_movies = user_movie_count[user_movie_count > (movies_watched_df.shape[1] * 60 ) / 100].index"
   ]
  },
  {
   "cell_type": "markdown",
   "id": "32eaf8f4",
   "metadata": {
    "papermill": {
     "duration": 0.025368,
     "end_time": "2024-09-25T13:56:06.074286",
     "exception": false,
     "start_time": "2024-09-25T13:56:06.048918",
     "status": "completed"
    },
    "tags": []
   },
   "source": [
    "Filtering the movies_watched_df dataframe to find the IDs of users that are similar to the selected user in the user_same_movies list."
   ]
  },
  {
   "cell_type": "code",
   "execution_count": 27,
   "id": "119090f6",
   "metadata": {
    "execution": {
     "iopub.execute_input": "2024-09-25T13:56:06.128527Z",
     "iopub.status.busy": "2024-09-25T13:56:06.127997Z",
     "iopub.status.idle": "2024-09-25T13:56:06.151227Z",
     "shell.execute_reply": "2024-09-25T13:56:06.149820Z"
    },
    "papermill": {
     "duration": 0.053664,
     "end_time": "2024-09-25T13:56:06.154223",
     "exception": false,
     "start_time": "2024-09-25T13:56:06.100559",
     "status": "completed"
    },
    "tags": []
   },
   "outputs": [
    {
     "data": {
      "text/html": [
       "<div>\n",
       "<style scoped>\n",
       "    .dataframe tbody tr th:only-of-type {\n",
       "        vertical-align: middle;\n",
       "    }\n",
       "\n",
       "    .dataframe tbody tr th {\n",
       "        vertical-align: top;\n",
       "    }\n",
       "\n",
       "    .dataframe thead th {\n",
       "        text-align: right;\n",
       "    }\n",
       "</style>\n",
       "<table border=\"1\" class=\"dataframe\">\n",
       "  <thead>\n",
       "    <tr style=\"text-align: right;\">\n",
       "      <th>title</th>\n",
       "      <th>Ace Ventura: Pet Detective (1994)</th>\n",
       "      <th>Ace Ventura: When Nature Calls (1995)</th>\n",
       "      <th>Aladdin (1992)</th>\n",
       "      <th>American President, The (1995)</th>\n",
       "      <th>Apollo 13 (1995)</th>\n",
       "      <th>...</th>\n",
       "      <th>Sense and Sensibility (1995)</th>\n",
       "      <th>Shadowlands (1993)</th>\n",
       "      <th>Silence of the Lambs, The (1991)</th>\n",
       "      <th>Star Trek: Generations (1994)</th>\n",
       "      <th>Stargate (1994)</th>\n",
       "    </tr>\n",
       "    <tr>\n",
       "      <th>userId</th>\n",
       "      <th></th>\n",
       "      <th></th>\n",
       "      <th></th>\n",
       "      <th></th>\n",
       "      <th></th>\n",
       "      <th></th>\n",
       "      <th></th>\n",
       "      <th></th>\n",
       "      <th></th>\n",
       "      <th></th>\n",
       "      <th></th>\n",
       "    </tr>\n",
       "  </thead>\n",
       "  <tbody>\n",
       "    <tr>\n",
       "      <th>130</th>\n",
       "      <td>4.000</td>\n",
       "      <td>3.000</td>\n",
       "      <td>NaN</td>\n",
       "      <td>3.000</td>\n",
       "      <td>3.000</td>\n",
       "      <td>...</td>\n",
       "      <td>NaN</td>\n",
       "      <td>3.000</td>\n",
       "      <td>5.000</td>\n",
       "      <td>NaN</td>\n",
       "      <td>3.000</td>\n",
       "    </tr>\n",
       "    <tr>\n",
       "      <th>156</th>\n",
       "      <td>3.000</td>\n",
       "      <td>NaN</td>\n",
       "      <td>NaN</td>\n",
       "      <td>5.000</td>\n",
       "      <td>5.000</td>\n",
       "      <td>...</td>\n",
       "      <td>4.000</td>\n",
       "      <td>4.000</td>\n",
       "      <td>5.000</td>\n",
       "      <td>3.000</td>\n",
       "      <td>4.000</td>\n",
       "    </tr>\n",
       "    <tr>\n",
       "      <th>158</th>\n",
       "      <td>2.000</td>\n",
       "      <td>1.000</td>\n",
       "      <td>4.000</td>\n",
       "      <td>4.000</td>\n",
       "      <td>3.000</td>\n",
       "      <td>...</td>\n",
       "      <td>4.000</td>\n",
       "      <td>5.000</td>\n",
       "      <td>5.000</td>\n",
       "      <td>NaN</td>\n",
       "      <td>NaN</td>\n",
       "    </tr>\n",
       "    <tr>\n",
       "      <th>184</th>\n",
       "      <td>2.000</td>\n",
       "      <td>3.000</td>\n",
       "      <td>3.000</td>\n",
       "      <td>4.000</td>\n",
       "      <td>4.000</td>\n",
       "      <td>...</td>\n",
       "      <td>NaN</td>\n",
       "      <td>4.000</td>\n",
       "      <td>5.000</td>\n",
       "      <td>3.000</td>\n",
       "      <td>4.000</td>\n",
       "    </tr>\n",
       "    <tr>\n",
       "      <th>295</th>\n",
       "      <td>NaN</td>\n",
       "      <td>NaN</td>\n",
       "      <td>3.000</td>\n",
       "      <td>3.000</td>\n",
       "      <td>3.000</td>\n",
       "      <td>...</td>\n",
       "      <td>4.000</td>\n",
       "      <td>NaN</td>\n",
       "      <td>4.000</td>\n",
       "      <td>3.000</td>\n",
       "      <td>2.000</td>\n",
       "    </tr>\n",
       "  </tbody>\n",
       "</table>\n",
       "<p>5 rows × 33 columns</p>\n",
       "</div>"
      ],
      "text/plain": [
       "title   Ace Ventura: Pet Detective (1994)  Ace Ventura: When Nature Calls (1995)  Aladdin (1992)  American President, The (1995)  Apollo 13 (1995)  ...  Sense and Sensibility (1995)  Shadowlands (1993)  Silence of the Lambs, The (1991)  Star Trek: Generations (1994)  Stargate (1994)\n",
       "userId                                                                                                                                              ...                                                                                                                                    \n",
       "130                                 4.000                                  3.000             NaN                           3.000             3.000  ...                           NaN               3.000                             5.000                            NaN            3.000\n",
       "156                                 3.000                                    NaN             NaN                           5.000             5.000  ...                         4.000               4.000                             5.000                          3.000            4.000\n",
       "158                                 2.000                                  1.000           4.000                           4.000             3.000  ...                         4.000               5.000                             5.000                            NaN              NaN\n",
       "184                                 2.000                                  3.000           3.000                           4.000             4.000  ...                           NaN               4.000                             5.000                          3.000            4.000\n",
       "295                                   NaN                                    NaN           3.000                           3.000             3.000  ...                         4.000                 NaN                             4.000                          3.000            2.000\n",
       "\n",
       "[5 rows x 33 columns]"
      ]
     },
     "execution_count": 27,
     "metadata": {},
     "output_type": "execute_result"
    }
   ],
   "source": [
    "final_df = movies_watched_df[movies_watched_df.index.isin(users_same_movies)]\n",
    "\n",
    "final_df.head()"
   ]
  },
  {
   "cell_type": "markdown",
   "id": "aa40cb12",
   "metadata": {
    "papermill": {
     "duration": 0.026667,
     "end_time": "2024-09-25T13:56:06.207829",
     "exception": false,
     "start_time": "2024-09-25T13:56:06.181162",
     "status": "completed"
    },
    "tags": []
   },
   "source": [
    "Creating a new corr_df dataframe that will contain the correlations between users."
   ]
  },
  {
   "cell_type": "code",
   "execution_count": 28,
   "id": "ab36f6bd",
   "metadata": {
    "execution": {
     "iopub.execute_input": "2024-09-25T13:56:06.266416Z",
     "iopub.status.busy": "2024-09-25T13:56:06.265437Z",
     "iopub.status.idle": "2024-09-25T13:56:09.090940Z",
     "shell.execute_reply": "2024-09-25T13:56:09.089480Z"
    },
    "papermill": {
     "duration": 2.857197,
     "end_time": "2024-09-25T13:56:09.093850",
     "exception": false,
     "start_time": "2024-09-25T13:56:06.236653",
     "status": "completed"
    },
    "tags": []
   },
   "outputs": [
    {
     "data": {
      "text/plain": [
       "userId  userId\n",
       "130     130      1.000\n",
       "        156      0.129\n",
       "        158      0.261\n",
       "        184      0.149\n",
       "        295      0.597\n",
       "dtype: float64"
      ]
     },
     "execution_count": 28,
     "metadata": {},
     "output_type": "execute_result"
    }
   ],
   "source": [
    "# final_df.T.corr()\n",
    "# corr_df = final_df.T.corr().unstack().sort_values().drop_duplicates()\n",
    "\n",
    "corr_df = final_df.T.corr().unstack()\n",
    "corr_df.head()"
   ]
  },
  {
   "cell_type": "code",
   "execution_count": 29,
   "id": "9c78e32c",
   "metadata": {
    "execution": {
     "iopub.execute_input": "2024-09-25T13:56:09.150718Z",
     "iopub.status.busy": "2024-09-25T13:56:09.150190Z",
     "iopub.status.idle": "2024-09-25T13:56:09.581030Z",
     "shell.execute_reply": "2024-09-25T13:56:09.579648Z"
    },
    "papermill": {
     "duration": 0.46286,
     "end_time": "2024-09-25T13:56:09.584250",
     "exception": false,
     "start_time": "2024-09-25T13:56:09.121390",
     "status": "completed"
    },
    "tags": []
   },
   "outputs": [
    {
     "data": {
      "text/html": [
       "<div>\n",
       "<style scoped>\n",
       "    .dataframe tbody tr th:only-of-type {\n",
       "        vertical-align: middle;\n",
       "    }\n",
       "\n",
       "    .dataframe tbody tr th {\n",
       "        vertical-align: top;\n",
       "    }\n",
       "\n",
       "    .dataframe thead th {\n",
       "        text-align: right;\n",
       "    }\n",
       "</style>\n",
       "<table border=\"1\" class=\"dataframe\">\n",
       "  <thead>\n",
       "    <tr style=\"text-align: right;\">\n",
       "      <th></th>\n",
       "      <th>user_id_1</th>\n",
       "      <th>user_id_2</th>\n",
       "      <th>corr</th>\n",
       "    </tr>\n",
       "  </thead>\n",
       "  <tbody>\n",
       "    <tr>\n",
       "      <th>0</th>\n",
       "      <td>130</td>\n",
       "      <td>130</td>\n",
       "      <td>1.000</td>\n",
       "    </tr>\n",
       "    <tr>\n",
       "      <th>1</th>\n",
       "      <td>130</td>\n",
       "      <td>156</td>\n",
       "      <td>0.129</td>\n",
       "    </tr>\n",
       "    <tr>\n",
       "      <th>2</th>\n",
       "      <td>130</td>\n",
       "      <td>158</td>\n",
       "      <td>0.261</td>\n",
       "    </tr>\n",
       "    <tr>\n",
       "      <th>3</th>\n",
       "      <td>130</td>\n",
       "      <td>184</td>\n",
       "      <td>0.149</td>\n",
       "    </tr>\n",
       "    <tr>\n",
       "      <th>4</th>\n",
       "      <td>130</td>\n",
       "      <td>295</td>\n",
       "      <td>0.597</td>\n",
       "    </tr>\n",
       "  </tbody>\n",
       "</table>\n",
       "</div>"
      ],
      "text/plain": [
       "   user_id_1  user_id_2  corr\n",
       "0        130        130 1.000\n",
       "1        130        156 0.129\n",
       "2        130        158 0.261\n",
       "3        130        184 0.149\n",
       "4        130        295 0.597"
      ]
     },
     "execution_count": 29,
     "metadata": {},
     "output_type": "execute_result"
    }
   ],
   "source": [
    "corr_df = pd.DataFrame(corr_df, columns=[\"corr\"])\n",
    "corr_df.index.names = ['user_id_1', 'user_id_2']\n",
    "corr_df = corr_df.reset_index()\n",
    "\n",
    "corr_df.head()"
   ]
  },
  {
   "cell_type": "markdown",
   "id": "5e0c3f20",
   "metadata": {
    "papermill": {
     "duration": 0.027421,
     "end_time": "2024-09-25T13:56:09.640958",
     "exception": false,
     "start_time": "2024-09-25T13:56:09.613537",
     "status": "completed"
    },
    "tags": []
   },
   "source": [
    "Creating a new dataframe named top_users by filtering out users that have a high correlation (above 0.65) with the selected user."
   ]
  },
  {
   "cell_type": "code",
   "execution_count": 30,
   "id": "6dd03796",
   "metadata": {
    "execution": {
     "iopub.execute_input": "2024-09-25T13:56:09.698417Z",
     "iopub.status.busy": "2024-09-25T13:56:09.696995Z",
     "iopub.status.idle": "2024-09-25T13:56:09.743015Z",
     "shell.execute_reply": "2024-09-25T13:56:09.741754Z"
    },
    "papermill": {
     "duration": 0.077858,
     "end_time": "2024-09-25T13:56:09.746015",
     "exception": false,
     "start_time": "2024-09-25T13:56:09.668157",
     "status": "completed"
    },
    "tags": []
   },
   "outputs": [
    {
     "data": {
      "text/html": [
       "<div>\n",
       "<style scoped>\n",
       "    .dataframe tbody tr th:only-of-type {\n",
       "        vertical-align: middle;\n",
       "    }\n",
       "\n",
       "    .dataframe tbody tr th {\n",
       "        vertical-align: top;\n",
       "    }\n",
       "\n",
       "    .dataframe thead th {\n",
       "        text-align: right;\n",
       "    }\n",
       "</style>\n",
       "<table border=\"1\" class=\"dataframe\">\n",
       "  <thead>\n",
       "    <tr style=\"text-align: right;\">\n",
       "      <th></th>\n",
       "      <th>userId</th>\n",
       "      <th>corr</th>\n",
       "    </tr>\n",
       "  </thead>\n",
       "  <tbody>\n",
       "    <tr>\n",
       "      <th>12</th>\n",
       "      <td>28941</td>\n",
       "      <td>1.000</td>\n",
       "    </tr>\n",
       "    <tr>\n",
       "      <th>15</th>\n",
       "      <td>45158</td>\n",
       "      <td>0.801</td>\n",
       "    </tr>\n",
       "    <tr>\n",
       "      <th>30</th>\n",
       "      <td>101628</td>\n",
       "      <td>0.790</td>\n",
       "    </tr>\n",
       "    <tr>\n",
       "      <th>3</th>\n",
       "      <td>7542</td>\n",
       "      <td>0.772</td>\n",
       "    </tr>\n",
       "    <tr>\n",
       "      <th>36</th>\n",
       "      <td>127259</td>\n",
       "      <td>0.764</td>\n",
       "    </tr>\n",
       "  </tbody>\n",
       "</table>\n",
       "</div>"
      ],
      "text/plain": [
       "    userId  corr\n",
       "12   28941 1.000\n",
       "15   45158 0.801\n",
       "30  101628 0.790\n",
       "3     7542 0.772\n",
       "36  127259 0.764"
      ]
     },
     "execution_count": 30,
     "metadata": {},
     "output_type": "execute_result"
    }
   ],
   "source": [
    "top_users = corr_df[(corr_df[\"user_id_1\"] == random_user) & (corr_df[\"corr\"] >= 0.65)][\n",
    "    [\"user_id_2\", \"corr\"]].reset_index(drop=True)\n",
    "\n",
    "top_users = top_users.sort_values(by='corr', ascending=False)\n",
    "\n",
    "top_users.rename(columns={\"user_id_2\": \"userId\"}, inplace=True)\n",
    "\n",
    "top_users.head()"
   ]
  },
  {
   "cell_type": "markdown",
   "id": "4e3cbc7f",
   "metadata": {
    "papermill": {
     "duration": 0.028333,
     "end_time": "2024-09-25T13:56:09.803994",
     "exception": false,
     "start_time": "2024-09-25T13:56:09.775661",
     "status": "completed"
    },
    "tags": []
   },
   "source": [
    "Merging the top_users dataframe with the rating dataset and removing the selected user"
   ]
  },
  {
   "cell_type": "code",
   "execution_count": 31,
   "id": "95153c08",
   "metadata": {
    "execution": {
     "iopub.execute_input": "2024-09-25T13:56:09.862651Z",
     "iopub.status.busy": "2024-09-25T13:56:09.861314Z",
     "iopub.status.idle": "2024-09-25T13:56:10.808890Z",
     "shell.execute_reply": "2024-09-25T13:56:10.807468Z"
    },
    "papermill": {
     "duration": 0.979626,
     "end_time": "2024-09-25T13:56:10.811735",
     "exception": false,
     "start_time": "2024-09-25T13:56:09.832109",
     "status": "completed"
    },
    "tags": []
   },
   "outputs": [
    {
     "data": {
      "text/html": [
       "<div>\n",
       "<style scoped>\n",
       "    .dataframe tbody tr th:only-of-type {\n",
       "        vertical-align: middle;\n",
       "    }\n",
       "\n",
       "    .dataframe tbody tr th {\n",
       "        vertical-align: top;\n",
       "    }\n",
       "\n",
       "    .dataframe thead th {\n",
       "        text-align: right;\n",
       "    }\n",
       "</style>\n",
       "<table border=\"1\" class=\"dataframe\">\n",
       "  <thead>\n",
       "    <tr style=\"text-align: right;\">\n",
       "      <th></th>\n",
       "      <th>userId</th>\n",
       "      <th>corr</th>\n",
       "      <th>movieId</th>\n",
       "      <th>rating</th>\n",
       "    </tr>\n",
       "  </thead>\n",
       "  <tbody>\n",
       "    <tr>\n",
       "      <th>33</th>\n",
       "      <td>45158</td>\n",
       "      <td>0.801</td>\n",
       "      <td>1</td>\n",
       "      <td>1.500</td>\n",
       "    </tr>\n",
       "    <tr>\n",
       "      <th>366</th>\n",
       "      <td>45158</td>\n",
       "      <td>0.801</td>\n",
       "      <td>3173</td>\n",
       "      <td>1.500</td>\n",
       "    </tr>\n",
       "    <tr>\n",
       "      <th>379</th>\n",
       "      <td>45158</td>\n",
       "      <td>0.801</td>\n",
       "      <td>3263</td>\n",
       "      <td>2.000</td>\n",
       "    </tr>\n",
       "    <tr>\n",
       "      <th>378</th>\n",
       "      <td>45158</td>\n",
       "      <td>0.801</td>\n",
       "      <td>3261</td>\n",
       "      <td>3.500</td>\n",
       "    </tr>\n",
       "    <tr>\n",
       "      <th>377</th>\n",
       "      <td>45158</td>\n",
       "      <td>0.801</td>\n",
       "      <td>3256</td>\n",
       "      <td>1.000</td>\n",
       "    </tr>\n",
       "    <tr>\n",
       "      <th>...</th>\n",
       "      <td>...</td>\n",
       "      <td>...</td>\n",
       "      <td>...</td>\n",
       "      <td>...</td>\n",
       "    </tr>\n",
       "    <tr>\n",
       "      <th>17082</th>\n",
       "      <td>82666</td>\n",
       "      <td>0.655</td>\n",
       "      <td>273</td>\n",
       "      <td>2.000</td>\n",
       "    </tr>\n",
       "    <tr>\n",
       "      <th>17083</th>\n",
       "      <td>82666</td>\n",
       "      <td>0.655</td>\n",
       "      <td>277</td>\n",
       "      <td>3.000</td>\n",
       "    </tr>\n",
       "    <tr>\n",
       "      <th>17084</th>\n",
       "      <td>82666</td>\n",
       "      <td>0.655</td>\n",
       "      <td>281</td>\n",
       "      <td>4.000</td>\n",
       "    </tr>\n",
       "    <tr>\n",
       "      <th>17085</th>\n",
       "      <td>82666</td>\n",
       "      <td>0.655</td>\n",
       "      <td>296</td>\n",
       "      <td>4.000</td>\n",
       "    </tr>\n",
       "    <tr>\n",
       "      <th>17122</th>\n",
       "      <td>82666</td>\n",
       "      <td>0.655</td>\n",
       "      <td>608</td>\n",
       "      <td>5.000</td>\n",
       "    </tr>\n",
       "  </tbody>\n",
       "</table>\n",
       "<p>17090 rows × 4 columns</p>\n",
       "</div>"
      ],
      "text/plain": [
       "       userId  corr  movieId  rating\n",
       "33      45158 0.801        1   1.500\n",
       "366     45158 0.801     3173   1.500\n",
       "379     45158 0.801     3263   2.000\n",
       "378     45158 0.801     3261   3.500\n",
       "377     45158 0.801     3256   1.000\n",
       "...       ...   ...      ...     ...\n",
       "17082   82666 0.655      273   2.000\n",
       "17083   82666 0.655      277   3.000\n",
       "17084   82666 0.655      281   4.000\n",
       "17085   82666 0.655      296   4.000\n",
       "17122   82666 0.655      608   5.000\n",
       "\n",
       "[17090 rows x 4 columns]"
      ]
     },
     "execution_count": 31,
     "metadata": {},
     "output_type": "execute_result"
    }
   ],
   "source": [
    "top_users_ratings = top_users.merge(rating[[\"userId\", \"movieId\", \"rating\"]], how='inner')\n",
    "top_users_ratings = top_users_ratings[top_users_ratings[\"userId\"] != random_user]\n",
    "top_users_ratings.sort_values(by='corr', ascending=False)"
   ]
  },
  {
   "cell_type": "markdown",
   "id": "113e64bf",
   "metadata": {
    "papermill": {
     "duration": 0.027362,
     "end_time": "2024-09-25T13:56:10.868061",
     "exception": false,
     "start_time": "2024-09-25T13:56:10.840699",
     "status": "completed"
    },
    "tags": []
   },
   "source": [
    "Creating a new variable named weighted_rating, which is the product of the corr and rating values of each user."
   ]
  },
  {
   "cell_type": "code",
   "execution_count": 32,
   "id": "5c65e0ff",
   "metadata": {
    "execution": {
     "iopub.execute_input": "2024-09-25T13:56:10.925702Z",
     "iopub.status.busy": "2024-09-25T13:56:10.925257Z",
     "iopub.status.idle": "2024-09-25T13:56:10.944486Z",
     "shell.execute_reply": "2024-09-25T13:56:10.943160Z"
    },
    "papermill": {
     "duration": 0.051298,
     "end_time": "2024-09-25T13:56:10.947374",
     "exception": false,
     "start_time": "2024-09-25T13:56:10.896076",
     "status": "completed"
    },
    "tags": []
   },
   "outputs": [
    {
     "data": {
      "text/html": [
       "<div>\n",
       "<style scoped>\n",
       "    .dataframe tbody tr th:only-of-type {\n",
       "        vertical-align: middle;\n",
       "    }\n",
       "\n",
       "    .dataframe tbody tr th {\n",
       "        vertical-align: top;\n",
       "    }\n",
       "\n",
       "    .dataframe thead th {\n",
       "        text-align: right;\n",
       "    }\n",
       "</style>\n",
       "<table border=\"1\" class=\"dataframe\">\n",
       "  <thead>\n",
       "    <tr style=\"text-align: right;\">\n",
       "      <th></th>\n",
       "      <th>userId</th>\n",
       "      <th>corr</th>\n",
       "      <th>movieId</th>\n",
       "      <th>rating</th>\n",
       "      <th>weighted_rating</th>\n",
       "    </tr>\n",
       "  </thead>\n",
       "  <tbody>\n",
       "    <tr>\n",
       "      <th>167</th>\n",
       "      <td>45158</td>\n",
       "      <td>0.801</td>\n",
       "      <td>1136</td>\n",
       "      <td>5.000</td>\n",
       "      <td>4.004</td>\n",
       "    </tr>\n",
       "    <tr>\n",
       "      <th>68</th>\n",
       "      <td>45158</td>\n",
       "      <td>0.801</td>\n",
       "      <td>265</td>\n",
       "      <td>5.000</td>\n",
       "      <td>4.004</td>\n",
       "    </tr>\n",
       "    <tr>\n",
       "      <th>465</th>\n",
       "      <td>45158</td>\n",
       "      <td>0.801</td>\n",
       "      <td>4973</td>\n",
       "      <td>5.000</td>\n",
       "      <td>4.004</td>\n",
       "    </tr>\n",
       "    <tr>\n",
       "      <th>473</th>\n",
       "      <td>45158</td>\n",
       "      <td>0.801</td>\n",
       "      <td>5135</td>\n",
       "      <td>5.000</td>\n",
       "      <td>4.004</td>\n",
       "    </tr>\n",
       "    <tr>\n",
       "      <th>483</th>\n",
       "      <td>45158</td>\n",
       "      <td>0.801</td>\n",
       "      <td>5617</td>\n",
       "      <td>5.000</td>\n",
       "      <td>4.004</td>\n",
       "    </tr>\n",
       "    <tr>\n",
       "      <th>...</th>\n",
       "      <td>...</td>\n",
       "      <td>...</td>\n",
       "      <td>...</td>\n",
       "      <td>...</td>\n",
       "      <td>...</td>\n",
       "    </tr>\n",
       "    <tr>\n",
       "      <th>15151</th>\n",
       "      <td>103998</td>\n",
       "      <td>0.663</td>\n",
       "      <td>1981</td>\n",
       "      <td>0.500</td>\n",
       "      <td>0.332</td>\n",
       "    </tr>\n",
       "    <tr>\n",
       "      <th>15787</th>\n",
       "      <td>103998</td>\n",
       "      <td>0.663</td>\n",
       "      <td>6157</td>\n",
       "      <td>0.500</td>\n",
       "      <td>0.332</td>\n",
       "    </tr>\n",
       "    <tr>\n",
       "      <th>16894</th>\n",
       "      <td>94379</td>\n",
       "      <td>0.656</td>\n",
       "      <td>4247</td>\n",
       "      <td>0.500</td>\n",
       "      <td>0.328</td>\n",
       "    </tr>\n",
       "    <tr>\n",
       "      <th>16599</th>\n",
       "      <td>94379</td>\n",
       "      <td>0.656</td>\n",
       "      <td>2178</td>\n",
       "      <td>0.500</td>\n",
       "      <td>0.328</td>\n",
       "    </tr>\n",
       "    <tr>\n",
       "      <th>16995</th>\n",
       "      <td>94379</td>\n",
       "      <td>0.656</td>\n",
       "      <td>5471</td>\n",
       "      <td>0.500</td>\n",
       "      <td>0.328</td>\n",
       "    </tr>\n",
       "  </tbody>\n",
       "</table>\n",
       "<p>17090 rows × 5 columns</p>\n",
       "</div>"
      ],
      "text/plain": [
       "       userId  corr  movieId  rating  weighted_rating\n",
       "167     45158 0.801     1136   5.000            4.004\n",
       "68      45158 0.801      265   5.000            4.004\n",
       "465     45158 0.801     4973   5.000            4.004\n",
       "473     45158 0.801     5135   5.000            4.004\n",
       "483     45158 0.801     5617   5.000            4.004\n",
       "...       ...   ...      ...     ...              ...\n",
       "15151  103998 0.663     1981   0.500            0.332\n",
       "15787  103998 0.663     6157   0.500            0.332\n",
       "16894   94379 0.656     4247   0.500            0.328\n",
       "16599   94379 0.656     2178   0.500            0.328\n",
       "16995   94379 0.656     5471   0.500            0.328\n",
       "\n",
       "[17090 rows x 5 columns]"
      ]
     },
     "execution_count": 32,
     "metadata": {},
     "output_type": "execute_result"
    }
   ],
   "source": [
    "top_users_ratings['weighted_rating'] = top_users_ratings['corr'] * top_users_ratings['rating']\n",
    "top_users_ratings.sort_values(by=\"weighted_rating\",ascending=False)"
   ]
  },
  {
   "cell_type": "markdown",
   "id": "d07bfce8",
   "metadata": {
    "papermill": {
     "duration": 0.027837,
     "end_time": "2024-09-25T13:56:11.003997",
     "exception": false,
     "start_time": "2024-09-25T13:56:10.976160",
     "status": "completed"
    },
    "tags": []
   },
   "source": [
    "Create a new dataframe named recommendation_df that contains the movie id and the average value of all users’ weighted ratings for each movie."
   ]
  },
  {
   "cell_type": "code",
   "execution_count": 33,
   "id": "b5f539ca",
   "metadata": {
    "execution": {
     "iopub.execute_input": "2024-09-25T13:56:11.062493Z",
     "iopub.status.busy": "2024-09-25T13:56:11.062068Z",
     "iopub.status.idle": "2024-09-25T13:56:11.082370Z",
     "shell.execute_reply": "2024-09-25T13:56:11.080885Z"
    },
    "papermill": {
     "duration": 0.052777,
     "end_time": "2024-09-25T13:56:11.085291",
     "exception": false,
     "start_time": "2024-09-25T13:56:11.032514",
     "status": "completed"
    },
    "tags": []
   },
   "outputs": [
    {
     "data": {
      "text/html": [
       "<div>\n",
       "<style scoped>\n",
       "    .dataframe tbody tr th:only-of-type {\n",
       "        vertical-align: middle;\n",
       "    }\n",
       "\n",
       "    .dataframe tbody tr th {\n",
       "        vertical-align: top;\n",
       "    }\n",
       "\n",
       "    .dataframe thead th {\n",
       "        text-align: right;\n",
       "    }\n",
       "</style>\n",
       "<table border=\"1\" class=\"dataframe\">\n",
       "  <thead>\n",
       "    <tr style=\"text-align: right;\">\n",
       "      <th></th>\n",
       "      <th>movieId</th>\n",
       "      <th>weighted_rating</th>\n",
       "    </tr>\n",
       "  </thead>\n",
       "  <tbody>\n",
       "    <tr>\n",
       "      <th>46</th>\n",
       "      <td>53</td>\n",
       "      <td>3.952</td>\n",
       "    </tr>\n",
       "    <tr>\n",
       "      <th>1751</th>\n",
       "      <td>2504</td>\n",
       "      <td>3.764</td>\n",
       "    </tr>\n",
       "    <tr>\n",
       "      <th>1737</th>\n",
       "      <td>2485</td>\n",
       "      <td>3.764</td>\n",
       "    </tr>\n",
       "    <tr>\n",
       "      <th>1422</th>\n",
       "      <td>2057</td>\n",
       "      <td>3.764</td>\n",
       "    </tr>\n",
       "    <tr>\n",
       "      <th>1437</th>\n",
       "      <td>2077</td>\n",
       "      <td>3.764</td>\n",
       "    </tr>\n",
       "    <tr>\n",
       "      <th>...</th>\n",
       "      <td>...</td>\n",
       "      <td>...</td>\n",
       "    </tr>\n",
       "    <tr>\n",
       "      <th>3552</th>\n",
       "      <td>5864</td>\n",
       "      <td>0.352</td>\n",
       "    </tr>\n",
       "    <tr>\n",
       "      <th>1362</th>\n",
       "      <td>1981</td>\n",
       "      <td>0.349</td>\n",
       "    </tr>\n",
       "    <tr>\n",
       "      <th>3651</th>\n",
       "      <td>6157</td>\n",
       "      <td>0.332</td>\n",
       "    </tr>\n",
       "    <tr>\n",
       "      <th>3395</th>\n",
       "      <td>5471</td>\n",
       "      <td>0.328</td>\n",
       "    </tr>\n",
       "    <tr>\n",
       "      <th>2796</th>\n",
       "      <td>4247</td>\n",
       "      <td>0.328</td>\n",
       "    </tr>\n",
       "  </tbody>\n",
       "</table>\n",
       "<p>4856 rows × 2 columns</p>\n",
       "</div>"
      ],
      "text/plain": [
       "      movieId  weighted_rating\n",
       "46         53            3.952\n",
       "1751     2504            3.764\n",
       "1737     2485            3.764\n",
       "1422     2057            3.764\n",
       "1437     2077            3.764\n",
       "...       ...              ...\n",
       "3552     5864            0.352\n",
       "1362     1981            0.349\n",
       "3651     6157            0.332\n",
       "3395     5471            0.328\n",
       "2796     4247            0.328\n",
       "\n",
       "[4856 rows x 2 columns]"
      ]
     },
     "execution_count": 33,
     "metadata": {},
     "output_type": "execute_result"
    }
   ],
   "source": [
    "\n",
    "recommendation_df = top_users_ratings.groupby('movieId').agg({\"weighted_rating\": \"mean\"})\n",
    "\n",
    "recommendation_df = recommendation_df.reset_index()\n",
    "\n",
    "recommendation_df[[\"movieId\"]].nunique()\n",
    "\n",
    "recommendation_df.sort_values(by=\"weighted_rating\" ,ascending=False)"
   ]
  },
  {
   "cell_type": "markdown",
   "id": "df8a6bbf",
   "metadata": {
    "papermill": {
     "duration": 0.027271,
     "end_time": "2024-09-25T13:56:11.140750",
     "exception": false,
     "start_time": "2024-09-25T13:56:11.113479",
     "status": "completed"
    },
    "tags": []
   },
   "source": [
    "Selecting the movies with a weighted rating greater than 3.5 in recommendation_df and sort them according to their weighted rating."
   ]
  },
  {
   "cell_type": "code",
   "execution_count": 34,
   "id": "b09c3049",
   "metadata": {
    "execution": {
     "iopub.execute_input": "2024-09-25T13:56:11.197460Z",
     "iopub.status.busy": "2024-09-25T13:56:11.197031Z",
     "iopub.status.idle": "2024-09-25T13:56:11.213674Z",
     "shell.execute_reply": "2024-09-25T13:56:11.212489Z"
    },
    "papermill": {
     "duration": 0.048209,
     "end_time": "2024-09-25T13:56:11.216334",
     "exception": false,
     "start_time": "2024-09-25T13:56:11.168125",
     "status": "completed"
    },
    "tags": []
   },
   "outputs": [
    {
     "data": {
      "text/html": [
       "<div>\n",
       "<style scoped>\n",
       "    .dataframe tbody tr th:only-of-type {\n",
       "        vertical-align: middle;\n",
       "    }\n",
       "\n",
       "    .dataframe tbody tr th {\n",
       "        vertical-align: top;\n",
       "    }\n",
       "\n",
       "    .dataframe thead th {\n",
       "        text-align: right;\n",
       "    }\n",
       "</style>\n",
       "<table border=\"1\" class=\"dataframe\">\n",
       "  <thead>\n",
       "    <tr style=\"text-align: right;\">\n",
       "      <th></th>\n",
       "      <th>movieId</th>\n",
       "      <th>weighted_rating</th>\n",
       "    </tr>\n",
       "  </thead>\n",
       "  <tbody>\n",
       "    <tr>\n",
       "      <th>46</th>\n",
       "      <td>53</td>\n",
       "      <td>3.952</td>\n",
       "    </tr>\n",
       "    <tr>\n",
       "      <th>1751</th>\n",
       "      <td>2504</td>\n",
       "      <td>3.764</td>\n",
       "    </tr>\n",
       "    <tr>\n",
       "      <th>1737</th>\n",
       "      <td>2485</td>\n",
       "      <td>3.764</td>\n",
       "    </tr>\n",
       "    <tr>\n",
       "      <th>1422</th>\n",
       "      <td>2057</td>\n",
       "      <td>3.764</td>\n",
       "    </tr>\n",
       "    <tr>\n",
       "      <th>1437</th>\n",
       "      <td>2077</td>\n",
       "      <td>3.764</td>\n",
       "    </tr>\n",
       "    <tr>\n",
       "      <th>...</th>\n",
       "      <td>...</td>\n",
       "      <td>...</td>\n",
       "    </tr>\n",
       "    <tr>\n",
       "      <th>3552</th>\n",
       "      <td>5864</td>\n",
       "      <td>0.352</td>\n",
       "    </tr>\n",
       "    <tr>\n",
       "      <th>1362</th>\n",
       "      <td>1981</td>\n",
       "      <td>0.349</td>\n",
       "    </tr>\n",
       "    <tr>\n",
       "      <th>3651</th>\n",
       "      <td>6157</td>\n",
       "      <td>0.332</td>\n",
       "    </tr>\n",
       "    <tr>\n",
       "      <th>3395</th>\n",
       "      <td>5471</td>\n",
       "      <td>0.328</td>\n",
       "    </tr>\n",
       "    <tr>\n",
       "      <th>2796</th>\n",
       "      <td>4247</td>\n",
       "      <td>0.328</td>\n",
       "    </tr>\n",
       "  </tbody>\n",
       "</table>\n",
       "<p>4856 rows × 2 columns</p>\n",
       "</div>"
      ],
      "text/plain": [
       "      movieId  weighted_rating\n",
       "46         53            3.952\n",
       "1751     2504            3.764\n",
       "1737     2485            3.764\n",
       "1422     2057            3.764\n",
       "1437     2077            3.764\n",
       "...       ...              ...\n",
       "3552     5864            0.352\n",
       "1362     1981            0.349\n",
       "3651     6157            0.332\n",
       "3395     5471            0.328\n",
       "2796     4247            0.328\n",
       "\n",
       "[4856 rows x 2 columns]"
      ]
     },
     "execution_count": 34,
     "metadata": {},
     "output_type": "execute_result"
    }
   ],
   "source": [
    "movies_to_be_recommend = recommendation_df[recommendation_df[\"weighted_rating\"] > 3.5].sort_values(\"weighted_rating\", ascending=False)\n",
    "recommendation_df.sort_values(by=\"weighted_rating\" ,ascending=False)"
   ]
  },
  {
   "cell_type": "markdown",
   "id": "40812696",
   "metadata": {
    "papermill": {
     "duration": 0.029695,
     "end_time": "2024-09-25T13:56:11.274243",
     "exception": false,
     "start_time": "2024-09-25T13:56:11.244548",
     "status": "completed"
    },
    "tags": []
   },
   "source": [
    "Listing the names of 5 recommended movies."
   ]
  },
  {
   "cell_type": "code",
   "execution_count": 35,
   "id": "95d5459a",
   "metadata": {
    "execution": {
     "iopub.execute_input": "2024-09-25T13:56:11.332405Z",
     "iopub.status.busy": "2024-09-25T13:56:11.331877Z",
     "iopub.status.idle": "2024-09-25T13:56:11.357163Z",
     "shell.execute_reply": "2024-09-25T13:56:11.355635Z"
    },
    "papermill": {
     "duration": 0.0577,
     "end_time": "2024-09-25T13:56:11.360029",
     "exception": false,
     "start_time": "2024-09-25T13:56:11.302329",
     "status": "completed"
    },
    "tags": []
   },
   "outputs": [
    {
     "data": {
      "text/html": [
       "<div>\n",
       "<style scoped>\n",
       "    .dataframe tbody tr th:only-of-type {\n",
       "        vertical-align: middle;\n",
       "    }\n",
       "\n",
       "    .dataframe tbody tr th {\n",
       "        vertical-align: top;\n",
       "    }\n",
       "\n",
       "    .dataframe thead th {\n",
       "        text-align: right;\n",
       "    }\n",
       "</style>\n",
       "<table border=\"1\" class=\"dataframe\">\n",
       "  <thead>\n",
       "    <tr style=\"text-align: right;\">\n",
       "      <th></th>\n",
       "      <th>movieId</th>\n",
       "      <th>weighted_rating</th>\n",
       "      <th>title</th>\n",
       "    </tr>\n",
       "  </thead>\n",
       "  <tbody>\n",
       "    <tr>\n",
       "      <th>0</th>\n",
       "      <td>53</td>\n",
       "      <td>3.952</td>\n",
       "      <td>Lamerica (1994)</td>\n",
       "    </tr>\n",
       "    <tr>\n",
       "      <th>1</th>\n",
       "      <td>2504</td>\n",
       "      <td>3.764</td>\n",
       "      <td>200 Cigarettes (1999)</td>\n",
       "    </tr>\n",
       "    <tr>\n",
       "      <th>2</th>\n",
       "      <td>3910</td>\n",
       "      <td>3.764</td>\n",
       "      <td>Dancer in the Dark (2000)</td>\n",
       "    </tr>\n",
       "    <tr>\n",
       "      <th>3</th>\n",
       "      <td>3118</td>\n",
       "      <td>3.764</td>\n",
       "      <td>Tumbleweeds (1999)</td>\n",
       "    </tr>\n",
       "    <tr>\n",
       "      <th>4</th>\n",
       "      <td>1922</td>\n",
       "      <td>3.764</td>\n",
       "      <td>Whatever (1998)</td>\n",
       "    </tr>\n",
       "  </tbody>\n",
       "</table>\n",
       "</div>"
      ],
      "text/plain": [
       "   movieId  weighted_rating                      title\n",
       "0       53            3.952            Lamerica (1994)\n",
       "1     2504            3.764      200 Cigarettes (1999)\n",
       "2     3910            3.764  Dancer in the Dark (2000)\n",
       "3     3118            3.764         Tumbleweeds (1999)\n",
       "4     1922            3.764            Whatever (1998)"
      ]
     },
     "execution_count": 35,
     "metadata": {},
     "output_type": "execute_result"
    }
   ],
   "source": [
    "movies_to_be_recommend = movies_to_be_recommend.merge(movie[[\"movieId\", \"title\"]])\n",
    "movies_to_be_recommend.head()"
   ]
  },
  {
   "cell_type": "markdown",
   "id": "570d2f07",
   "metadata": {
    "papermill": {
     "duration": 0.028651,
     "end_time": "2024-09-25T13:56:11.417273",
     "exception": false,
     "start_time": "2024-09-25T13:56:11.388622",
     "status": "completed"
    },
    "tags": []
   },
   "source": [
    "<div style=\"text-align: center; font-size: 24px; font-weight: bold; color: red;\">\n",
    "    Item Based Recommendation\n",
    "</div>"
   ]
  },
  {
   "cell_type": "markdown",
   "id": "91cf5b29",
   "metadata": {
    "papermill": {
     "duration": 0.0282,
     "end_time": "2024-09-25T13:56:11.473642",
     "exception": false,
     "start_time": "2024-09-25T13:56:11.445442",
     "status": "completed"
    },
    "tags": []
   },
   "source": [
    "Making item-based suggestions based on the name of the movie the user last watched and gave the highest rating to.\n",
    "\n",
    "user ID = 28941"
   ]
  },
  {
   "cell_type": "markdown",
   "id": "1221566a",
   "metadata": {
    "papermill": {
     "duration": 0.02798,
     "end_time": "2024-09-25T13:56:11.529876",
     "exception": false,
     "start_time": "2024-09-25T13:56:11.501896",
     "status": "completed"
    },
    "tags": []
   },
   "source": [
    "Calling the datasets and merging them"
   ]
  },
  {
   "cell_type": "code",
   "execution_count": 36,
   "id": "864f9b36",
   "metadata": {
    "execution": {
     "iopub.execute_input": "2024-09-25T13:56:11.589380Z",
     "iopub.status.busy": "2024-09-25T13:56:11.588166Z",
     "iopub.status.idle": "2024-09-25T13:56:11.601374Z",
     "shell.execute_reply": "2024-09-25T13:56:11.599948Z"
    },
    "papermill": {
     "duration": 0.045754,
     "end_time": "2024-09-25T13:56:11.603938",
     "exception": false,
     "start_time": "2024-09-25T13:56:11.558184",
     "status": "completed"
    },
    "tags": []
   },
   "outputs": [
    {
     "data": {
      "text/html": [
       "<div>\n",
       "<style scoped>\n",
       "    .dataframe tbody tr th:only-of-type {\n",
       "        vertical-align: middle;\n",
       "    }\n",
       "\n",
       "    .dataframe tbody tr th {\n",
       "        vertical-align: top;\n",
       "    }\n",
       "\n",
       "    .dataframe thead th {\n",
       "        text-align: right;\n",
       "    }\n",
       "</style>\n",
       "<table border=\"1\" class=\"dataframe\">\n",
       "  <thead>\n",
       "    <tr style=\"text-align: right;\">\n",
       "      <th></th>\n",
       "      <th>movieId</th>\n",
       "      <th>title</th>\n",
       "      <th>genres</th>\n",
       "    </tr>\n",
       "  </thead>\n",
       "  <tbody>\n",
       "    <tr>\n",
       "      <th>0</th>\n",
       "      <td>1</td>\n",
       "      <td>Toy Story (1995)</td>\n",
       "      <td>Adventure|Animation|Children|Comedy|Fantasy</td>\n",
       "    </tr>\n",
       "    <tr>\n",
       "      <th>1</th>\n",
       "      <td>2</td>\n",
       "      <td>Jumanji (1995)</td>\n",
       "      <td>Adventure|Children|Fantasy</td>\n",
       "    </tr>\n",
       "    <tr>\n",
       "      <th>2</th>\n",
       "      <td>3</td>\n",
       "      <td>Grumpier Old Men (1995)</td>\n",
       "      <td>Comedy|Romance</td>\n",
       "    </tr>\n",
       "    <tr>\n",
       "      <th>3</th>\n",
       "      <td>4</td>\n",
       "      <td>Waiting to Exhale (1995)</td>\n",
       "      <td>Comedy|Drama|Romance</td>\n",
       "    </tr>\n",
       "    <tr>\n",
       "      <th>4</th>\n",
       "      <td>5</td>\n",
       "      <td>Father of the Bride Part II (1995)</td>\n",
       "      <td>Comedy</td>\n",
       "    </tr>\n",
       "  </tbody>\n",
       "</table>\n",
       "</div>"
      ],
      "text/plain": [
       "   movieId                               title                                       genres\n",
       "0        1                    Toy Story (1995)  Adventure|Animation|Children|Comedy|Fantasy\n",
       "1        2                      Jumanji (1995)                   Adventure|Children|Fantasy\n",
       "2        3             Grumpier Old Men (1995)                               Comedy|Romance\n",
       "3        4            Waiting to Exhale (1995)                         Comedy|Drama|Romance\n",
       "4        5  Father of the Bride Part II (1995)                                       Comedy"
      ]
     },
     "execution_count": 36,
     "metadata": {},
     "output_type": "execute_result"
    }
   ],
   "source": [
    "#movie = pd.read_csv('/kaggle/input/movielens-20m-dataset/movie.csv')\n",
    "movie.head()"
   ]
  },
  {
   "cell_type": "code",
   "execution_count": 37,
   "id": "ebd554c0",
   "metadata": {
    "execution": {
     "iopub.execute_input": "2024-09-25T13:56:11.664495Z",
     "iopub.status.busy": "2024-09-25T13:56:11.664045Z",
     "iopub.status.idle": "2024-09-25T13:56:11.677097Z",
     "shell.execute_reply": "2024-09-25T13:56:11.675763Z"
    },
    "papermill": {
     "duration": 0.04636,
     "end_time": "2024-09-25T13:56:11.679551",
     "exception": false,
     "start_time": "2024-09-25T13:56:11.633191",
     "status": "completed"
    },
    "tags": []
   },
   "outputs": [
    {
     "data": {
      "text/html": [
       "<div>\n",
       "<style scoped>\n",
       "    .dataframe tbody tr th:only-of-type {\n",
       "        vertical-align: middle;\n",
       "    }\n",
       "\n",
       "    .dataframe tbody tr th {\n",
       "        vertical-align: top;\n",
       "    }\n",
       "\n",
       "    .dataframe thead th {\n",
       "        text-align: right;\n",
       "    }\n",
       "</style>\n",
       "<table border=\"1\" class=\"dataframe\">\n",
       "  <thead>\n",
       "    <tr style=\"text-align: right;\">\n",
       "      <th></th>\n",
       "      <th>userId</th>\n",
       "      <th>movieId</th>\n",
       "      <th>rating</th>\n",
       "      <th>timestamp</th>\n",
       "    </tr>\n",
       "  </thead>\n",
       "  <tbody>\n",
       "    <tr>\n",
       "      <th>0</th>\n",
       "      <td>1</td>\n",
       "      <td>2</td>\n",
       "      <td>3.500</td>\n",
       "      <td>2005-04-02 23:53:47</td>\n",
       "    </tr>\n",
       "    <tr>\n",
       "      <th>1</th>\n",
       "      <td>1</td>\n",
       "      <td>29</td>\n",
       "      <td>3.500</td>\n",
       "      <td>2005-04-02 23:31:16</td>\n",
       "    </tr>\n",
       "    <tr>\n",
       "      <th>2</th>\n",
       "      <td>1</td>\n",
       "      <td>32</td>\n",
       "      <td>3.500</td>\n",
       "      <td>2005-04-02 23:33:39</td>\n",
       "    </tr>\n",
       "    <tr>\n",
       "      <th>3</th>\n",
       "      <td>1</td>\n",
       "      <td>47</td>\n",
       "      <td>3.500</td>\n",
       "      <td>2005-04-02 23:32:07</td>\n",
       "    </tr>\n",
       "    <tr>\n",
       "      <th>4</th>\n",
       "      <td>1</td>\n",
       "      <td>50</td>\n",
       "      <td>3.500</td>\n",
       "      <td>2005-04-02 23:29:40</td>\n",
       "    </tr>\n",
       "  </tbody>\n",
       "</table>\n",
       "</div>"
      ],
      "text/plain": [
       "   userId  movieId  rating            timestamp\n",
       "0       1        2   3.500  2005-04-02 23:53:47\n",
       "1       1       29   3.500  2005-04-02 23:31:16\n",
       "2       1       32   3.500  2005-04-02 23:33:39\n",
       "3       1       47   3.500  2005-04-02 23:32:07\n",
       "4       1       50   3.500  2005-04-02 23:29:40"
      ]
     },
     "execution_count": 37,
     "metadata": {},
     "output_type": "execute_result"
    }
   ],
   "source": [
    "#rating = pd.read_csv('/kaggle/input/movielens-20m-dataset/rating.csv')\n",
    "rating.head()"
   ]
  },
  {
   "cell_type": "code",
   "execution_count": 38,
   "id": "ea1ffbdd",
   "metadata": {
    "execution": {
     "iopub.execute_input": "2024-09-25T13:56:11.739749Z",
     "iopub.status.busy": "2024-09-25T13:56:11.739206Z",
     "iopub.status.idle": "2024-09-25T13:56:11.744781Z",
     "shell.execute_reply": "2024-09-25T13:56:11.743578Z"
    },
    "papermill": {
     "duration": 0.038655,
     "end_time": "2024-09-25T13:56:11.747253",
     "exception": false,
     "start_time": "2024-09-25T13:56:11.708598",
     "status": "completed"
    },
    "tags": []
   },
   "outputs": [],
   "source": [
    "# df = rating.merge(movie, how=\"inner\", on=\"movieId\")\n",
    "# df.head()"
   ]
  },
  {
   "cell_type": "markdown",
   "id": "a0621417",
   "metadata": {
    "papermill": {
     "duration": 0.028515,
     "end_time": "2024-09-25T13:56:11.805002",
     "exception": false,
     "start_time": "2024-09-25T13:56:11.776487",
     "status": "completed"
    },
    "tags": []
   },
   "source": [
    "Getting the ID of the movie with the most up-to-date score among the movies that the user to be recommended gave 5 points to."
   ]
  },
  {
   "cell_type": "code",
   "execution_count": 39,
   "id": "7575a008",
   "metadata": {
    "execution": {
     "iopub.execute_input": "2024-09-25T13:56:11.865425Z",
     "iopub.status.busy": "2024-09-25T13:56:11.864385Z",
     "iopub.status.idle": "2024-09-25T13:56:11.955506Z",
     "shell.execute_reply": "2024-09-25T13:56:11.953945Z"
    },
    "papermill": {
     "duration": 0.124808,
     "end_time": "2024-09-25T13:56:11.958492",
     "exception": false,
     "start_time": "2024-09-25T13:56:11.833684",
     "status": "completed"
    },
    "tags": []
   },
   "outputs": [
    {
     "name": "stdout",
     "output_type": "stream",
     "text": [
      "7\n"
     ]
    }
   ],
   "source": [
    "movie_id = df[(df[\"userId\"] == random_user) & (df[\"rating\"] == 5.0)].sort_values(by='timestamp', ascending=False)[\"movieId\"].iloc[0]\n",
    "print(movie_id)"
   ]
  },
  {
   "cell_type": "markdown",
   "id": "d7488928",
   "metadata": {
    "papermill": {
     "duration": 0.028472,
     "end_time": "2024-09-25T13:56:12.016058",
     "exception": false,
     "start_time": "2024-09-25T13:56:11.987586",
     "status": "completed"
    },
    "tags": []
   },
   "source": [
    "Filtering the user_movie_df dataframe created in the User based recommendation section according to the selected movie ID."
   ]
  },
  {
   "cell_type": "code",
   "execution_count": 40,
   "id": "1159b5b9",
   "metadata": {
    "execution": {
     "iopub.execute_input": "2024-09-25T13:56:12.075850Z",
     "iopub.status.busy": "2024-09-25T13:56:12.075412Z",
     "iopub.status.idle": "2024-09-25T13:56:12.105846Z",
     "shell.execute_reply": "2024-09-25T13:56:12.104550Z"
    },
    "papermill": {
     "duration": 0.063599,
     "end_time": "2024-09-25T13:56:12.108513",
     "exception": false,
     "start_time": "2024-09-25T13:56:12.044914",
     "status": "completed"
    },
    "tags": []
   },
   "outputs": [
    {
     "name": "stdout",
     "output_type": "stream",
     "text": [
      "Sabrina (1995)\n"
     ]
    }
   ],
   "source": [
    "movie_name = df[df[\"movieId\"] == movie_id][\"title\"].values[0]\n",
    "print(movie_name)"
   ]
  },
  {
   "cell_type": "code",
   "execution_count": 41,
   "id": "23b33b44",
   "metadata": {
    "execution": {
     "iopub.execute_input": "2024-09-25T13:56:12.168262Z",
     "iopub.status.busy": "2024-09-25T13:56:12.167756Z",
     "iopub.status.idle": "2024-09-25T13:56:12.174563Z",
     "shell.execute_reply": "2024-09-25T13:56:12.173301Z"
    },
    "papermill": {
     "duration": 0.039572,
     "end_time": "2024-09-25T13:56:12.177004",
     "exception": false,
     "start_time": "2024-09-25T13:56:12.137432",
     "status": "completed"
    },
    "tags": []
   },
   "outputs": [],
   "source": [
    "movie_name = user_movie_df[movie_name]"
   ]
  },
  {
   "cell_type": "markdown",
   "id": "03209443",
   "metadata": {
    "papermill": {
     "duration": 0.029601,
     "end_time": "2024-09-25T13:56:12.235663",
     "exception": false,
     "start_time": "2024-09-25T13:56:12.206062",
     "status": "completed"
    },
    "tags": []
   },
   "source": [
    "Using the filtered dataframe, find the correlation between the selected movie and other movies and rank them."
   ]
  },
  {
   "cell_type": "code",
   "execution_count": 42,
   "id": "63fb853f",
   "metadata": {
    "execution": {
     "iopub.execute_input": "2024-09-25T13:56:12.298511Z",
     "iopub.status.busy": "2024-09-25T13:56:12.297545Z",
     "iopub.status.idle": "2024-09-25T13:56:23.551234Z",
     "shell.execute_reply": "2024-09-25T13:56:23.549792Z"
    },
    "papermill": {
     "duration": 11.287705,
     "end_time": "2024-09-25T13:56:23.554549",
     "exception": false,
     "start_time": "2024-09-25T13:56:12.266844",
     "status": "completed"
    },
    "tags": []
   },
   "outputs": [
    {
     "data": {
      "text/html": [
       "<div>\n",
       "<style scoped>\n",
       "    .dataframe tbody tr th:only-of-type {\n",
       "        vertical-align: middle;\n",
       "    }\n",
       "\n",
       "    .dataframe tbody tr th {\n",
       "        vertical-align: top;\n",
       "    }\n",
       "\n",
       "    .dataframe thead th {\n",
       "        text-align: right;\n",
       "    }\n",
       "</style>\n",
       "<table border=\"1\" class=\"dataframe\">\n",
       "  <thead>\n",
       "    <tr style=\"text-align: right;\">\n",
       "      <th></th>\n",
       "      <th>title</th>\n",
       "      <th>corr</th>\n",
       "    </tr>\n",
       "  </thead>\n",
       "  <tbody>\n",
       "    <tr>\n",
       "      <th>0</th>\n",
       "      <td>Sabrina (1995)</td>\n",
       "      <td>1.000</td>\n",
       "    </tr>\n",
       "    <tr>\n",
       "      <th>1</th>\n",
       "      <td>Intouchables (2011)</td>\n",
       "      <td>0.503</td>\n",
       "    </tr>\n",
       "    <tr>\n",
       "      <th>2</th>\n",
       "      <td>Father of the Bride (1991)</td>\n",
       "      <td>0.500</td>\n",
       "    </tr>\n",
       "    <tr>\n",
       "      <th>3</th>\n",
       "      <td>Anna and the King (1999)</td>\n",
       "      <td>0.494</td>\n",
       "    </tr>\n",
       "    <tr>\n",
       "      <th>4</th>\n",
       "      <td>Runaway Bride (1999)</td>\n",
       "      <td>0.484</td>\n",
       "    </tr>\n",
       "  </tbody>\n",
       "</table>\n",
       "</div>"
      ],
      "text/plain": [
       "                        title  corr\n",
       "0              Sabrina (1995) 1.000\n",
       "1         Intouchables (2011) 0.503\n",
       "2  Father of the Bride (1991) 0.500\n",
       "3    Anna and the King (1999) 0.494\n",
       "4        Runaway Bride (1999) 0.484"
      ]
     },
     "execution_count": 42,
     "metadata": {},
     "output_type": "execute_result"
    }
   ],
   "source": [
    "corr_df = user_movie_df.corrwith(movie_name).sort_values(ascending=False).head(10)\n",
    "\n",
    "corr_df = corr_df.reset_index()\n",
    "\n",
    "corr_df.columns = [\"title\", \"corr\"]\n",
    "\n",
    "corr_df.head()"
   ]
  },
  {
   "cell_type": "markdown",
   "id": "48297df6",
   "metadata": {
    "papermill": {
     "duration": 0.030225,
     "end_time": "2024-09-25T13:56:23.614938",
     "exception": false,
     "start_time": "2024-09-25T13:56:23.584713",
     "status": "completed"
    },
    "tags": []
   },
   "source": [
    "List the first 5 movies as suggestions (exclude the selected movie itself)"
   ]
  },
  {
   "cell_type": "code",
   "execution_count": 43,
   "id": "d4297e71",
   "metadata": {
    "execution": {
     "iopub.execute_input": "2024-09-25T13:56:23.678167Z",
     "iopub.status.busy": "2024-09-25T13:56:23.676823Z",
     "iopub.status.idle": "2024-09-25T13:56:23.686558Z",
     "shell.execute_reply": "2024-09-25T13:56:23.685258Z"
    },
    "papermill": {
     "duration": 0.044295,
     "end_time": "2024-09-25T13:56:23.689549",
     "exception": false,
     "start_time": "2024-09-25T13:56:23.645254",
     "status": "completed"
    },
    "tags": []
   },
   "outputs": [
    {
     "name": "stdout",
     "output_type": "stream",
     "text": [
      "                              title  corr\n",
      "1               Intouchables (2011) 0.503\n",
      "2        Father of the Bride (1991) 0.500\n",
      "3          Anna and the King (1999) 0.494\n",
      "4              Runaway Bride (1999) 0.484\n",
      "5  Phantom of the Opera, The (2004) 0.476\n"
     ]
    }
   ],
   "source": [
    "movies_to_recommend = corr_df.sort_values(by='corr', ascending=False)[1:6]\n",
    "print(movies_to_recommend)"
   ]
  },
  {
   "cell_type": "markdown",
   "id": "bf337da5",
   "metadata": {
    "papermill": {
     "duration": 0.03053,
     "end_time": "2024-09-25T13:56:23.750661",
     "exception": false,
     "start_time": "2024-09-25T13:56:23.720131",
     "status": "completed"
    },
    "tags": []
   },
   "source": [
    "<div style=\"text-align: center; font-size: 24px; font-weight: bold; color: green;\">\n",
    "    Hybrid Recommendation\n",
    "</div>"
   ]
  },
  {
   "cell_type": "markdown",
   "id": "1b133b20",
   "metadata": {
    "papermill": {
     "duration": 0.030451,
     "end_time": "2024-09-25T13:56:23.810940",
     "exception": false,
     "start_time": "2024-09-25T13:56:23.780489",
     "status": "completed"
    },
    "tags": []
   },
   "source": [
    "**Weighted_Rate;** represents the weighted average of the ratings given to the movie by each user.\n",
    "\n",
    "**Corr;** represents the degree of similarity between users. \n",
    "\n",
    "We need to find the **hybrid score** by using both user based and item based so that we can get  more robust and personalized recommendation score by striking a balance between two different metrics (correlation and weighted score)."
   ]
  },
  {
   "cell_type": "code",
   "execution_count": 44,
   "id": "18fd7c30",
   "metadata": {
    "execution": {
     "iopub.execute_input": "2024-09-25T13:56:23.873420Z",
     "iopub.status.busy": "2024-09-25T13:56:23.872317Z",
     "iopub.status.idle": "2024-09-25T13:56:23.893095Z",
     "shell.execute_reply": "2024-09-25T13:56:23.891643Z"
    },
    "papermill": {
     "duration": 0.055352,
     "end_time": "2024-09-25T13:56:23.896321",
     "exception": false,
     "start_time": "2024-09-25T13:56:23.840969",
     "status": "completed"
    },
    "tags": []
   },
   "outputs": [
    {
     "data": {
      "text/html": [
       "<div>\n",
       "<style scoped>\n",
       "    .dataframe tbody tr th:only-of-type {\n",
       "        vertical-align: middle;\n",
       "    }\n",
       "\n",
       "    .dataframe tbody tr th {\n",
       "        vertical-align: top;\n",
       "    }\n",
       "\n",
       "    .dataframe thead th {\n",
       "        text-align: right;\n",
       "    }\n",
       "</style>\n",
       "<table border=\"1\" class=\"dataframe\">\n",
       "  <thead>\n",
       "    <tr style=\"text-align: right;\">\n",
       "      <th></th>\n",
       "      <th>movieId</th>\n",
       "      <th>weighted_rating</th>\n",
       "      <th>title</th>\n",
       "    </tr>\n",
       "  </thead>\n",
       "  <tbody>\n",
       "    <tr>\n",
       "      <th>0</th>\n",
       "      <td>1</td>\n",
       "      <td>2.424</td>\n",
       "      <td>Toy Story (1995)</td>\n",
       "    </tr>\n",
       "    <tr>\n",
       "      <th>1</th>\n",
       "      <td>2</td>\n",
       "      <td>1.749</td>\n",
       "      <td>Jumanji (1995)</td>\n",
       "    </tr>\n",
       "    <tr>\n",
       "      <th>2</th>\n",
       "      <td>3</td>\n",
       "      <td>1.431</td>\n",
       "      <td>Grumpier Old Men (1995)</td>\n",
       "    </tr>\n",
       "    <tr>\n",
       "      <th>3</th>\n",
       "      <td>4</td>\n",
       "      <td>1.691</td>\n",
       "      <td>Waiting to Exhale (1995)</td>\n",
       "    </tr>\n",
       "    <tr>\n",
       "      <th>4</th>\n",
       "      <td>5</td>\n",
       "      <td>1.425</td>\n",
       "      <td>Father of the Bride Part II (1995)</td>\n",
       "    </tr>\n",
       "  </tbody>\n",
       "</table>\n",
       "</div>"
      ],
      "text/plain": [
       "   movieId  weighted_rating                               title\n",
       "0        1            2.424                    Toy Story (1995)\n",
       "1        2            1.749                      Jumanji (1995)\n",
       "2        3            1.431             Grumpier Old Men (1995)\n",
       "3        4            1.691            Waiting to Exhale (1995)\n",
       "4        5            1.425  Father of the Bride Part II (1995)"
      ]
     },
     "execution_count": 44,
     "metadata": {},
     "output_type": "execute_result"
    }
   ],
   "source": [
    "movies_ordered_by_rating = pd.merge(recommendation_df,movie,how=\"inner\",on=\"movieId\")[[\"movieId\",\"weighted_rating\",\"title\"]]\n",
    "movies_ordered_by_rating.head()"
   ]
  },
  {
   "cell_type": "code",
   "execution_count": 45,
   "id": "1a02cc1b",
   "metadata": {
    "execution": {
     "iopub.execute_input": "2024-09-25T13:56:23.962126Z",
     "iopub.status.busy": "2024-09-25T13:56:23.961120Z",
     "iopub.status.idle": "2024-09-25T13:56:23.979749Z",
     "shell.execute_reply": "2024-09-25T13:56:23.978293Z"
    },
    "papermill": {
     "duration": 0.055462,
     "end_time": "2024-09-25T13:56:23.982375",
     "exception": false,
     "start_time": "2024-09-25T13:56:23.926913",
     "status": "completed"
    },
    "tags": []
   },
   "outputs": [
    {
     "data": {
      "text/html": [
       "<div>\n",
       "<style scoped>\n",
       "    .dataframe tbody tr th:only-of-type {\n",
       "        vertical-align: middle;\n",
       "    }\n",
       "\n",
       "    .dataframe tbody tr th {\n",
       "        vertical-align: top;\n",
       "    }\n",
       "\n",
       "    .dataframe thead th {\n",
       "        text-align: right;\n",
       "    }\n",
       "</style>\n",
       "<table border=\"1\" class=\"dataframe\">\n",
       "  <thead>\n",
       "    <tr style=\"text-align: right;\">\n",
       "      <th></th>\n",
       "      <th>title</th>\n",
       "      <th>corr</th>\n",
       "      <th>movieId</th>\n",
       "      <th>weighted_rating</th>\n",
       "    </tr>\n",
       "  </thead>\n",
       "  <tbody>\n",
       "    <tr>\n",
       "      <th>0</th>\n",
       "      <td>Sabrina (1995)</td>\n",
       "      <td>1.000</td>\n",
       "      <td>7</td>\n",
       "      <td>2.440</td>\n",
       "    </tr>\n",
       "    <tr>\n",
       "      <th>1</th>\n",
       "      <td>Father of the Bride (1991)</td>\n",
       "      <td>0.500</td>\n",
       "      <td>6944</td>\n",
       "      <td>2.446</td>\n",
       "    </tr>\n",
       "    <tr>\n",
       "      <th>2</th>\n",
       "      <td>Anna and the King (1999)</td>\n",
       "      <td>0.494</td>\n",
       "      <td>3155</td>\n",
       "      <td>2.515</td>\n",
       "    </tr>\n",
       "    <tr>\n",
       "      <th>3</th>\n",
       "      <td>Runaway Bride (1999)</td>\n",
       "      <td>0.484</td>\n",
       "      <td>2724</td>\n",
       "      <td>1.263</td>\n",
       "    </tr>\n",
       "    <tr>\n",
       "      <th>4</th>\n",
       "      <td>Mrs. Winterbourne (1996)</td>\n",
       "      <td>0.474</td>\n",
       "      <td>691</td>\n",
       "      <td>1.272</td>\n",
       "    </tr>\n",
       "  </tbody>\n",
       "</table>\n",
       "</div>"
      ],
      "text/plain": [
       "                        title  corr  movieId  weighted_rating\n",
       "0              Sabrina (1995) 1.000        7            2.440\n",
       "1  Father of the Bride (1991) 0.500     6944            2.446\n",
       "2    Anna and the King (1999) 0.494     3155            2.515\n",
       "3        Runaway Bride (1999) 0.484     2724            1.263\n",
       "4    Mrs. Winterbourne (1996) 0.474      691            1.272"
      ]
     },
     "execution_count": 45,
     "metadata": {},
     "output_type": "execute_result"
    }
   ],
   "source": [
    "merged = pd.merge(corr_df,movies_ordered_by_rating,how=\"inner\", on=\"title\")\n",
    "merged.head()"
   ]
  },
  {
   "cell_type": "code",
   "execution_count": 46,
   "id": "515e7f54",
   "metadata": {
    "execution": {
     "iopub.execute_input": "2024-09-25T13:56:24.046277Z",
     "iopub.status.busy": "2024-09-25T13:56:24.045773Z",
     "iopub.status.idle": "2024-09-25T13:56:24.062501Z",
     "shell.execute_reply": "2024-09-25T13:56:24.061062Z"
    },
    "papermill": {
     "duration": 0.051255,
     "end_time": "2024-09-25T13:56:24.065289",
     "exception": false,
     "start_time": "2024-09-25T13:56:24.014034",
     "status": "completed"
    },
    "tags": []
   },
   "outputs": [
    {
     "data": {
      "text/html": [
       "<div>\n",
       "<style scoped>\n",
       "    .dataframe tbody tr th:only-of-type {\n",
       "        vertical-align: middle;\n",
       "    }\n",
       "\n",
       "    .dataframe tbody tr th {\n",
       "        vertical-align: top;\n",
       "    }\n",
       "\n",
       "    .dataframe thead th {\n",
       "        text-align: right;\n",
       "    }\n",
       "</style>\n",
       "<table border=\"1\" class=\"dataframe\">\n",
       "  <thead>\n",
       "    <tr style=\"text-align: right;\">\n",
       "      <th></th>\n",
       "      <th>title</th>\n",
       "      <th>hybrid</th>\n",
       "    </tr>\n",
       "  </thead>\n",
       "  <tbody>\n",
       "    <tr>\n",
       "      <th>1</th>\n",
       "      <td>Anna and the King (1999)</td>\n",
       "      <td>1.243</td>\n",
       "    </tr>\n",
       "    <tr>\n",
       "      <th>2</th>\n",
       "      <td>Father of the Bride (1991)</td>\n",
       "      <td>1.224</td>\n",
       "    </tr>\n",
       "    <tr>\n",
       "      <th>3</th>\n",
       "      <td>Two Weeks Notice (2002)</td>\n",
       "      <td>1.111</td>\n",
       "    </tr>\n",
       "    <tr>\n",
       "      <th>4</th>\n",
       "      <td>Sweet Home Alabama (2002)</td>\n",
       "      <td>0.839</td>\n",
       "    </tr>\n",
       "    <tr>\n",
       "      <th>5</th>\n",
       "      <td>You've Got Mail (1998)</td>\n",
       "      <td>0.831</td>\n",
       "    </tr>\n",
       "    <tr>\n",
       "      <th>6</th>\n",
       "      <td>Runaway Bride (1999)</td>\n",
       "      <td>0.611</td>\n",
       "    </tr>\n",
       "    <tr>\n",
       "      <th>7</th>\n",
       "      <td>Mrs. Winterbourne (1996)</td>\n",
       "      <td>0.604</td>\n",
       "    </tr>\n",
       "  </tbody>\n",
       "</table>\n",
       "</div>"
      ],
      "text/plain": [
       "                        title  hybrid\n",
       "1    Anna and the King (1999)   1.243\n",
       "2  Father of the Bride (1991)   1.224\n",
       "3     Two Weeks Notice (2002)   1.111\n",
       "4   Sweet Home Alabama (2002)   0.839\n",
       "5      You've Got Mail (1998)   0.831\n",
       "6        Runaway Bride (1999)   0.611\n",
       "7    Mrs. Winterbourne (1996)   0.604"
      ]
     },
     "execution_count": 46,
     "metadata": {},
     "output_type": "execute_result"
    }
   ],
   "source": [
    "merged[\"hybrid\"] = merged[\"corr\"] * merged[\"weighted_rating\"]\n",
    "merged[[\"title\",\"hybrid\"]].sort_values(by=\"hybrid\", ascending=False, ignore_index=True)[1:11]"
   ]
  }
 ],
 "metadata": {
  "kaggle": {
   "accelerator": "none",
   "dataSources": [
    {
     "datasetId": 339,
     "sourceId": 77759,
     "sourceType": "datasetVersion"
    }
   ],
   "dockerImageVersionId": 30761,
   "isGpuEnabled": false,
   "isInternetEnabled": true,
   "language": "python",
   "sourceType": "notebook"
  },
  "kernelspec": {
   "display_name": "Python 3",
   "language": "python",
   "name": "python3"
  },
  "language_info": {
   "codemirror_mode": {
    "name": "ipython",
    "version": 3
   },
   "file_extension": ".py",
   "mimetype": "text/x-python",
   "name": "python",
   "nbconvert_exporter": "python",
   "pygments_lexer": "ipython3",
   "version": "3.10.14"
  },
  "papermill": {
   "default_parameters": {},
   "duration": 115.719623,
   "end_time": "2024-09-25T13:56:26.720087",
   "environment_variables": {},
   "exception": null,
   "input_path": "__notebook__.ipynb",
   "output_path": "__notebook__.ipynb",
   "parameters": {},
   "start_time": "2024-09-25T13:54:31.000464",
   "version": "2.6.0"
  }
 },
 "nbformat": 4,
 "nbformat_minor": 5
}
